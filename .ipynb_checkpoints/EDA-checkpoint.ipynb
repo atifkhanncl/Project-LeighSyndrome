{
 "cells": [
  {
   "cell_type": "code",
   "execution_count": 22,
   "metadata": {},
   "outputs": [],
   "source": [
    "# importing data\n",
    "# sheet names have been renamed due to changes in uppercase and lowercase sheet names\n",
    "import pandas as pd\n",
    "import numpy as np\n",
    "\n",
    "sheet_names = [\"All patient data - 2021-02-11T0\",\"Genotype\",\"Histochemistry\",\"All Heteroplasmy\",\"Basic Clinical Data\",\n",
    "             \"Phenotype\",\"Systemic features\",\"Family History\",\"Social History\",\"Blood Results\",\"Neurophysiology\",\"Imaging\",\n",
    "             \"Cardiac\",\"Opthalmology\",\"Audiology\",\"Transplant\",\"NMDAS\",\"Paediatric Information\",\"NPMDS\",\"Mortality\"]\n",
    "dataframes_ncl = [pd.read_excel(\"/Users/nishaalajmera/Documents/MScProject/Data/Leighs patients at Newcastle and outreach centres after Albert review.xls\",sheet_name=f) for f in sheet_names]\n",
    "\n",
    "sheet_names = [\"All patient data - 2021-02-11T1\",\"Genotype\",\"Histochemistry\",\"All heteroplasmy\",\"Basic clinical data\",\n",
    "             \"Phenotype\",\"Systemic features\",\"Family History\",\"Social History\",\"Blood results\",\"Neurophysiology\",\"Imaging\",\n",
    "             \"Cardiac\",\"Opthalmology\",\"Audiology\",\"Transplant\",\"NMDAS\",\"Paediatric Information\",\"NPMDS\",\"Mortality\"]\n",
    "dataframes_ucl = [pd.read_excel(\"/Users/nishaalajmera/Documents/MScProject/Data/Leighs patients at UCL after Albert review.xls\",sheet_name=f) for f in sheet_names]\n",
    "\n",
    "sheet_names = [\"All patient data - 2021-02-11T1\",\"Genotype\",\"Histochemistry\",\"All Heteroplasmy\",\"Basic clinical data\",\n",
    "             \"Phenotype\",\"Systemic features\",\"Family History\",\"Social history\",\"Blood Results\",\"Neurophysiology\",\"Imaging\",\n",
    "             \"Cardiac\",\"Opthalmology\",\"Audiology\",\"Transplant\",\"NMDAS\",\"Paediatric Information\",\"NPMDS\",\"Mortality\"]\n",
    "dataframes_oxf = [pd.read_excel(\"/Users/nishaalajmera/Documents/MScProject/Data/Leighs patients at Oxford after Albert review.xls\",sheet_name=f) for f in sheet_names]\n"
   ]
  },
  {
   "cell_type": "code",
   "execution_count": 23,
   "metadata": {},
   "outputs": [
    {
     "data": {
      "text/plain": [
       "Unique ID                int64\n",
       "Date                    object\n",
       "Basic clinical data    float64\n",
       "Sex                     object\n",
       "Height (m)             float64\n",
       "Weight (kg)            float64\n",
       "Systolic (mmHg)        float64\n",
       "Diastolic (mmHg)       float64\n",
       "Temperature (oC)       float64\n",
       "FVC (best)             float64\n",
       "FVC (predicted)        float64\n",
       "dtype: object"
      ]
     },
     "execution_count": 23,
     "metadata": {},
     "output_type": "execute_result"
    }
   ],
   "source": [
    "dataframes_ucl[4].dtypes\n"
   ]
  },
  {
   "cell_type": "code",
   "execution_count": null,
   "metadata": {},
   "outputs": [],
   "source": [
    "\n"
   ]
  }
 ],
 "metadata": {
  "kernelspec": {
   "display_name": "Python 3",
   "language": "python",
   "name": "python3"
  },
  "language_info": {
   "codemirror_mode": {
    "name": "ipython",
    "version": 3
   },
   "file_extension": ".py",
   "mimetype": "text/x-python",
   "name": "python",
   "nbconvert_exporter": "python",
   "pygments_lexer": "ipython3",
   "version": "3.6.13"
  }
 },
 "nbformat": 4,
 "nbformat_minor": 2
}
