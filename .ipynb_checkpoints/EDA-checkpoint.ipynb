{
 "cells": [
  {
   "cell_type": "code",
   "execution_count": 3,
   "metadata": {},
   "outputs": [],
   "source": [
    "# importing data\n",
    "# sheet names have been renamed due to changes in uppercase and lowercase sheet names\n",
    "import pandas as pd\n",
    "import numpy as np\n",
    "\n",
    "sheet_names = [\"All patient data - 2021-02-11T0\",\"Genotype\",\"Histochemistry\",\"All Heteroplasmy\",\"Basic Clinical Data\",\n",
    "             \"Phenotype\",\"Systemic features\",\"Family History\",\"Social History\",\"Blood Results\",\"Neurophysiology\",\"Imaging\",\n",
    "             \"Cardiac\",\"Opthalmology\",\"Audiology\",\"Transplant\",\"NMDAS\",\"Paediatric Information\",\"NPMDS\",\"Mortality\"]\n",
    "dataframes_ncl = [pd.read_excel(\"/Users/nishaalajmera/Documents/MScProject/Data/Leighs patients at Newcastle and outreach centres after Albert review.xls\",sheet_name=f) for f in sheet_names]\n",
    "\n",
    "sheet_names = [\"All patient data - 2021-02-11T1\",\"Genotype\",\"Histochemistry\",\"All heteroplasmy\",\"Basic clinical data\",\n",
    "             \"Phenotype\",\"Systemic features\",\"Family History\",\"Social History\",\"Blood results\",\"Neurophysiology\",\"Imaging\",\n",
    "             \"Cardiac\",\"Opthalmology\",\"Audiology\",\"Transplant\",\"NMDAS\",\"Paediatric Information\",\"NPMDS\",\"Mortality\"]\n",
    "dataframes_ucl = [pd.read_excel(\"/Users/nishaalajmera/Documents/MScProject/Data/Leighs patients at UCL after Albert review.xls\",sheet_name=f) for f in sheet_names]\n",
    "\n",
    "sheet_names = [\"All patient data - 2021-02-11T1\",\"Genotype\",\"Histochemistry\",\"All Heteroplasmy\",\"Basic clinical data\",\n",
    "             \"Phenotype\",\"Systemic features\",\"Family History\",\"Social history\",\"Blood Results\",\"Neurophysiology\",\"Imaging\",\n",
    "             \"Cardiac\",\"Opthalmology\",\"Audiology\",\"Transplant\",\"NMDAS\",\"Paediatric Information\",\"NPMDS\",\"Mortality\"]\n",
    "dataframes_oxf = [pd.read_excel(\"/Users/nishaalajmera/Documents/MScProject/Data/Leighs patients at Oxford after Albert review.xls\",sheet_name=f) for f in sheet_names]\n"
   ]
  },
  {
   "cell_type": "code",
   "execution_count": 11,
   "metadata": {},
   "outputs": [],
   "source": [
    "df1 = dataframes_ncl[2].merge(dataframes_ncl[3], how='outer', on=['Unique ID','Date'], \n",
    "                      suffixes=('_histo', '_hetero'))\n",
    "\n",
    "                              \n"
   ]
  },
  {
   "cell_type": "code",
   "execution_count": 16,
   "metadata": {},
   "outputs": [
    {
     "data": {
      "text/plain": [
       "Index(['Unique ID', 'Date', 'Histochemistry', 'Normal', 'Complex I',\n",
       "       'Complex II', 'Complex III', 'Complex IV', 'Complex V',\n",
       "       'COX deficient fibers (%)', 'RRF (%)', 'All heteroplasmy',\n",
       "       'Heteroplasmy (numeric)', 'Muscle', 'Blood', 'Urine', 'Buccal',\n",
       "       'Fibroblast', 'fb1', 'fb2', 'fb3', 'Left atrium', 'Right atrium',\n",
       "       'Right ventricle', 'Left ventricle', 'Interventricular septum',\n",
       "       'Gastric', 'Duodenal', 'ileum_st_', 'ileum_ul', 'Colon', 'Liver', 'CVB',\n",
       "       'Amniotic fluid', 'Brain', 'Osteoma', 'Kidney', 'Adrenal', 'Lipoma',\n",
       "       'Hair', 'urine_bad', 'urine_pt', 'Muscle SFs (COX +ve)',\n",
       "       'Muscle SFs (COX -ve)', 'Heteroplasmy (H/M/L)', 'muscle', 'hair',\n",
       "       'buccal', 'urine', 'blood', 'other', 'Age'],\n",
       "      dtype='object')"
      ]
     },
     "execution_count": 16,
     "metadata": {},
     "output_type": "execute_result"
    }
   ],
   "source": [
    "df1.columns\n"
   ]
  },
  {
   "cell_type": "code",
   "execution_count": null,
   "metadata": {},
   "outputs": [],
   "source": []
  }
 ],
 "metadata": {
  "kernelspec": {
   "display_name": "Python 3",
   "language": "python",
   "name": "python3"
  },
  "language_info": {
   "codemirror_mode": {
    "name": "ipython",
    "version": 3
   },
   "file_extension": ".py",
   "mimetype": "text/x-python",
   "name": "python",
   "nbconvert_exporter": "python",
   "pygments_lexer": "ipython3",
   "version": "3.6.13"
  }
 },
 "nbformat": 4,
 "nbformat_minor": 2
}
