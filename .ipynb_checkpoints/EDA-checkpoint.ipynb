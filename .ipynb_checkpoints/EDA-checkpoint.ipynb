{
 "cells": [
  {
   "cell_type": "code",
   "execution_count": 2,
   "metadata": {},
   "outputs": [],
   "source": [
    "# importing data\n",
    "# sheet names have been renamed due to changes in uppercase and lowercase sheet names\n",
    "import pandas as pd\n",
    "import numpy as np\n",
    "\n",
    "sheet_names = [\"All patient data - 2021-02-11T0\",\"Genotype\",\"Histochemistry\",\"All Heteroplasmy\",\"Basic Clinical Data\",\n",
    "             \"Phenotype\",\"Systemic features\",\"Family History\",\"Social History\",\"Blood Results\",\"Neurophysiology\",\"Imaging\",\n",
    "             \"Cardiac\",\"Opthalmology\",\"Audiology\",\"Transplant\",\"NMDAS\",\"Paediatric Information\",\"NPMDS\",\"Mortality\"]\n",
    "dataframes_ncl = [pd.read_excel(\"/Users/nishaalajmera/Documents/MScProject/Data/Leighs patients at Newcastle and outreach centres after Albert review.xls\",sheet_name=f) for f in sheet_names]\n",
    "\n",
    "sheet_names = [\"All patient data - 2021-02-11T1\",\"Genotype\",\"Histochemistry\",\"All heteroplasmy\",\"Basic clinical data\",\n",
    "             \"Phenotype\",\"Systemic features\",\"Family History\",\"Social History\",\"Blood results\",\"Neurophysiology\",\"Imaging\",\n",
    "             \"Cardiac\",\"Opthalmology\",\"Audiology\",\"Transplant\",\"NMDAS\",\"Paediatric Information\",\"NPMDS\",\"Mortality\"]\n",
    "dataframes_ucl = [pd.read_excel(\"/Users/nishaalajmera/Documents/MScProject/Data/Leighs patients at UCL after Albert review.xls\",sheet_name=f) for f in sheet_names]\n",
    "\n",
    "sheet_names = [\"All patient data - 2021-02-11T1\",\"Genotype\",\"Histochemistry\",\"All Heteroplasmy\",\"Basic clinical data\",\n",
    "             \"Phenotype\",\"Systemic features\",\"Family History\",\"Social history\",\"Blood Results\",\"Neurophysiology\",\"Imaging\",\n",
    "             \"Cardiac\",\"Opthalmology\",\"Audiology\",\"Transplant\",\"NMDAS\",\"Paediatric Information\",\"NPMDS\",\"Mortality\"]\n",
    "dataframes_oxf = [pd.read_excel(\"/Users/nishaalajmera/Documents/MScProject/Data/Leighs patients at Oxford after Albert review.xls\",sheet_name=f) for f in sheet_names]\n"
   ]
  },
  {
   "cell_type": "code",
   "execution_count": 35,
   "metadata": {},
   "outputs": [],
   "source": [
    "all_ncl,gen_ncl,his_ncl,heter_ncl,clin_ncl,phen_ncl,sys_ncl,fam_ncl,soc_ncl,blood_ncl,neuro_ncl,img_ncl,car_ncl,opth_ncl,aud_ncl,trans_ncl,nmdas_ncl,paed_ncl,npdms_ncl,mort_ncl = dataframes_ncl[:]\n",
    "all_ucl,gen_ucl,his_ucl,heter_ucl,clin_ucl,phen_ucl,sys_ucl,fam_ucl,soc_ucl,blood_ucl,neuro_ucl,img_ucl,car_ucl,opth_ucl,aud_ucl,trans_ucl,nmdas_ucl,paed_ucl,npdms_ucl,mort_ucl = dataframes_ucl[:]\n",
    "all_oxf,gen_oxf,his_oxf,heter_oxf,clin_oxf,phen_oxf,sys_oxf,fam_oxf,soc_oxf,blood_oxf,neuro_oxf,img_oxf,car_oxf,opth_oxf,aud_oxf,trans_oxf,nmdas_oxf,paed_oxf,npdms_oxf,mort_oxf = dataframes_oxf[:]"
   ]
  },
  {
   "cell_type": "code",
   "execution_count": 37,
   "metadata": {},
   "outputs": [],
   "source": [
    "all =  pd.concat([all_ncl,all_ucl,all_oxf],ignore_index=True)\n",
    "gen =  pd.concat([gen_ncl,gen_ucl,gen_oxf],ignore_index=True)\n",
    "his =  pd.concat([his_ncl,his_ucl,his_oxf],ignore_index=True)\n",
    "heter = pd.concat([heter_ncl,heter_ucl,heter_oxf],ignore_index=True)\n",
    "clin = pd.concat([clin_ncl,clin_ucl,clin_oxf],ignore_index=True)\n",
    "phen = pd.concat([phen_ncl,phen_ucl,phen_oxf],ignore_index=True)\n",
    "sys = pd.concat([sys_ncl,sys_ucl,sys_oxf],ignore_index=True)\n",
    "fam = pd.concat([fam_ncl,fam_ucl,fam_oxf],ignore_index=True)\n",
    "soc = pd.concat([soc_ncl,soc_ucl,soc_oxf],ignore_index=True)\n",
    "blood = pd.concat([blood_ncl,blood_ucl,blood_oxf],ignore_index=True)\n",
    "neuro = pd.concat([neuro_ncl,neuro_ucl,neuro_oxf],ignore_index=True)\n",
    "img = pd.concat([img_ncl,img_ucl,img_oxf],ignore_index=True)\n",
    "car = pd.concat([car_ncl,car_ucl,car_oxf],ignore_index=True)\n",
    "aud = pd.concat([aud_ncl,aud_ucl,aud_oxf],ignore_index=True)\n",
    "trans = pd.concat([car_ncl,car_ucl,car_oxf],ignore_index=True)\n",
    "nmdas = pd.concat([nmdas_ncl,nmdas_ucl,nmdas_oxf],ignore_index=True)\n",
    "paed = pd.concat([paed_ncl,paed_ucl,paed_oxf],ignore_index=True)\n",
    "npdms = pd.concat([npdms_ncl,npdms_ucl,npdms_oxf],ignore_index=True)\n",
    "mort = pd.concat([mort_ncl,mort_ucl,mort_oxf],ignore_index=True)"
   ]
  },
  {
   "cell_type": "code",
   "execution_count": null,
   "metadata": {},
   "outputs": [],
   "source": []
  }
 ],
 "metadata": {
  "kernelspec": {
   "display_name": "Python 3",
   "language": "python",
   "name": "python3"
  },
  "language_info": {
   "codemirror_mode": {
    "name": "ipython",
    "version": 3
   },
   "file_extension": ".py",
   "mimetype": "text/x-python",
   "name": "python",
   "nbconvert_exporter": "python",
   "pygments_lexer": "ipython3",
   "version": "3.8.5"
  }
 },
 "nbformat": 4,
 "nbformat_minor": 2
}
