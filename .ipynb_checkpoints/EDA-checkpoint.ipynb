{
 "cells": [
  {
   "cell_type": "markdown",
   "metadata": {},
   "source": [
    "# Leigh Syndrome Project \n",
    "Nishaal Ramesh Ajmera   \n",
    "Supervisors: Dr Stephen McGough, Dr Amy Vincent, Dr Conor Lawless, Atif Khan"
   ]
  },
  {
   "cell_type": "markdown",
   "metadata": {},
   "source": [
    "# Load the data"
   ]
  },
  {
   "cell_type": "code",
   "execution_count": 1,
   "metadata": {},
   "outputs": [],
   "source": [
    "# importing data\n",
    "# some sheet names vary across the three datasets therefore sheet_names list is changed according to the dataset\n",
    "import os\n",
    "import pandas as pd\n",
    "import numpy as np\n",
    "\n",
    "path =r\"/Users/nishaalajmera/Documents/MScProject/Data/\"\n",
    "\n",
    "sheet_names = [\"All patient data - 2021-02-11T0\",\"Genotype\",\"Histochemistry\",\"All Heteroplasmy\",\n",
    "               \"Basic Clinical Data\",\"Phenotype\",\"Systemic features\",\"Family History\",\"Social History\",\n",
    "               \"Blood Results\",\"Neurophysiology\",\"Imaging\",\"Cardiac\",\"Opthalmology\",\"Audiology\",\n",
    "               \"Transplant\",\"NMDAS\",\"Paediatric Information\",\"NPMDS\",\"Mortality\"]\n",
    "\n",
    "dataframes_ncl = [pd.read_excel(os.path.join(path,\"Leighs_patients_at_Newcastle_and_outreach centres_after_Albert_review.xlsx\"),sheet_name=f) for f in sheet_names]\n",
    "\n",
    "\n",
    "sheet_names = [\"All patient data - 2021-02-11T1\",\"Genotype\",\"Histochemistry\",\"All heteroplasmy\",\n",
    "               \"Basic clinical data\",\"Phenotype\",\"Systemic features\",\"Family History\",\"Social History\",\n",
    "               \"Blood results\",\"Neurophysiology\",\"Imaging\",\"Cardiac\",\"Opthalmology\",\"Audiology\",\n",
    "               \"Transplant\",\"NMDAS\",\"Paediatric Information\",\"NPMDS\",\"Mortality\"]\n",
    "\n",
    "dataframes_ucl = [pd.read_excel(os.path.join(path,\"Leighs_patients_at_UCL_after_Albert_review.xlsx\"),sheet_name=f) for f in sheet_names]\n",
    "\n",
    "sheet_names = [\"All patient data - 2021-02-11T1\",\"Genotype\",\"Histochemistry\",\"All Heteroplasmy\",\n",
    "               \"Basic clinical data\",\"Phenotype\",\"Systemic features\",\"Family History\",\"Social history\",\n",
    "               \"Blood Results\",\"Neurophysiology\",\"Imaging\",\"Cardiac\",\"Opthalmology\",\"Audiology\",\n",
    "               \"Transplant\",\"NMDAS\",\"Paediatric Information\",\"NPMDS\",\"Mortality\"]\n",
    "\n",
    "dataframes_oxf = [pd.read_excel(os.path.join(path,\"Leighs_patients_at_Oxford_after_Albert_review.xlsx\"),sheet_name=f) for f in sheet_names]\n",
    "\n",
    "# the dataframes are seperated into individual dataframes for each sheet \n",
    "all_ncl,gen_ncl,his_ncl,heter_ncl,clin_ncl,phen_ncl,sys_ncl,fam_ncl,soc_ncl,blood_ncl,neuro_ncl,img_ncl,car_ncl,opth_ncl,aud_ncl,trans_ncl,nmdas_ncl,paed_ncl,npmds_ncl,mort_ncl = dataframes_ncl[:]\n",
    "\n",
    "all_ucl,gen_ucl,his_ucl,heter_ucl,clin_ucl,phen_ucl,sys_ucl,fam_ucl,soc_ucl,blood_ucl,neuro_ucl,img_ucl,car_ucl,opth_ucl,aud_ucl,trans_ucl,nmdas_ucl,paed_ucl,npmds_ucl,mort_ucl = dataframes_ucl[:]\n",
    "\n",
    "all_oxf,gen_oxf,his_oxf,heter_oxf,clin_oxf,phen_oxf,sys_oxf,fam_oxf,soc_oxf,blood_oxf,neuro_oxf,img_oxf,car_oxf,opth_oxf,aud_oxf,trans_oxf,nmdas_oxf,paed_oxf,npmds_oxf,mort_oxf = dataframes_oxf[:]\n"
   ]
  },
  {
   "cell_type": "code",
   "execution_count": 2,
   "metadata": {},
   "outputs": [],
   "source": [
    "# Same sheet types are concatenated into one dataframe per sheet \n",
    "all =  pd.concat([all_ncl,all_ucl,all_oxf],ignore_index=True)\n",
    "gen =  pd.concat([gen_ncl,gen_ucl,gen_oxf],ignore_index=True)\n",
    "his =  pd.concat([his_ncl,his_ucl,his_oxf],ignore_index=True)\n",
    "heter = pd.concat([heter_ncl,heter_ucl,heter_oxf],ignore_index=True)\n",
    "clin = pd.concat([clin_ncl,clin_ucl,clin_oxf],ignore_index=True)\n",
    "phen = pd.concat([phen_ncl,phen_ucl,phen_oxf],ignore_index=True)\n",
    "sys = pd.concat([sys_ncl,sys_ucl,sys_oxf],ignore_index=True)\n",
    "fam = pd.concat([fam_ncl,fam_ucl,fam_oxf],ignore_index=True)\n",
    "soc = pd.concat([soc_ncl,soc_ucl,soc_oxf],ignore_index=True)\n",
    "blood = pd.concat([blood_ncl,blood_ucl,blood_oxf],ignore_index=True)\n",
    "neuro = pd.concat([neuro_ncl,neuro_ucl,neuro_oxf],ignore_index=True)\n",
    "img = pd.concat([img_ncl,img_ucl,img_oxf],ignore_index=True)\n",
    "car = pd.concat([car_ncl,car_ucl,car_oxf],ignore_index=True)\n",
    "opth = pd.concat([opth_ncl,opth_ucl,opth_oxf],ignore_index=True)\n",
    "aud = pd.concat([aud_ncl,aud_ucl,aud_oxf],ignore_index=True)\n",
    "trans = pd.concat([trans_ncl,trans_ucl,trans_oxf],ignore_index=True)\n",
    "nmdas = pd.concat([nmdas_ncl,nmdas_ucl,nmdas_oxf],ignore_index=True)\n",
    "paed = pd.concat([paed_ncl,paed_ucl,paed_oxf],ignore_index=True)\n",
    "npmds = pd.concat([npmds_ncl,npmds_ucl,npmds_oxf],ignore_index=True)\n",
    "mort = pd.concat([mort_ncl,mort_ucl,mort_oxf],ignore_index=True)"
   ]
  },
  {
   "cell_type": "markdown",
   "metadata": {},
   "source": [
    "# Data Cleaning "
   ]
  },
  {
   "cell_type": "code",
   "execution_count": 3,
   "metadata": {},
   "outputs": [],
   "source": [
    "# the date columns for sheets that are not converted to datetime format are converted \n",
    "\n",
    "df_date = [his,heter,clin,phen,sys,paed]\n",
    "\n",
    "for df in df_date:\n",
    "    df['Date'] = pd.to_datetime(df['Date'],errors='coerce')\n"
   ]
  },
  {
   "cell_type": "code",
   "execution_count": 4,
   "metadata": {},
   "outputs": [],
   "source": [
    "#pd.set_option('display.max_rows', 250)\n",
    "# To check percentage of missing values in each column \n",
    "# opth.isnull().sum()/ opth.shape[0]\n"
   ]
  },
  {
   "cell_type": "markdown",
   "metadata": {},
   "source": [
    "### Handling Missingness - First Cycle"
   ]
  },
  {
   "cell_type": "markdown",
   "metadata": {},
   "source": [
    "Columns which have missingness of 60% and above in each dataframe are removed. Histochemistry, NPMDS and NMDAS dataframes are not capped at 60% threshold at this stage. "
   ]
  },
  {
   "cell_type": "code",
   "execution_count": 5,
   "metadata": {},
   "outputs": [],
   "source": [
    "# Removing columns with more than 60% missingness\n",
    "# his,npmds,nmdas not included\n",
    "\n",
    "df_NA = [gen,heter,clin,phen,sys,fam,soc,blood,neuro,img,car,opth,aud,paed,mort]\n",
    "\n",
    "for df in df_NA:\n",
    "    limitPer = len(df) * .40\n",
    "    df.dropna(axis=1,thresh=limitPer,inplace=True)\n"
   ]
  },
  {
   "cell_type": "code",
   "execution_count": 6,
   "metadata": {},
   "outputs": [],
   "source": [
    "# Other column that contains notes from Genetics data is removed\n",
    "gen.drop(columns = [\"Other notes\"],inplace=True)\n",
    "\n",
    "# Age from Heterogenous column is removed as it can be calculated from columns \n",
    "heter.drop(columns = [\"Age\"],inplace=True)\n",
    "\n",
    "# Three columns in Histochemistry sheet that have more than 60% missingness are removed\n",
    "his.drop(columns = [\"Histochemistry\",\"COX deficient fibers (%)\",\"RRF (%)\"],inplace=True)\n",
    "\n",
    "\n",
    "# Uninformative column from Neurophysiology data is removed\n",
    "neuro.drop(columns = [\"EEG Report\"],inplace=True)\n",
    "\n",
    "# Date columns for time-independent features are removed\n",
    "paed.drop(columns = [\"Date\"],inplace=True)\n",
    "\n",
    "fam.drop(columns = [\"Date\"],inplace=True)\n",
    "\n",
    "# dropping columns with all NA in mortality dataset\n",
    "mort.dropna(axis=1, how='all',inplace=True)\n",
    "\n"
   ]
  },
  {
   "cell_type": "markdown",
   "metadata": {},
   "source": [
    "### Renaming Features \n",
    "Renaming features for consistency and reproducibility "
   ]
  },
  {
   "cell_type": "code",
   "execution_count": 7,
   "metadata": {},
   "outputs": [],
   "source": [
    "\n",
    "all.columns = ['UniqueID', 'Birth_date', 'Sex', 'Institution', 'Death_date']\n",
    "\n",
    "gen.columns = ['UniqueID', 'Genetics']\n",
    "\n",
    "his.columns = ['UniqueID','Date','His_Normal','ComplexI','ComplexII','ComplexIII','ComplexIV','ComplexV']\n",
    "\n",
    "heter.columns = ['UniqueID', 'Date', 'Heter_Blood']\n",
    "\n",
    "clin.columns = ['UniqueID', 'Date', 'Weight_kg', 'FVC_predicted']\n",
    "\n",
    "phen.columns = ['UniqueID', 'Date', 'Deafness', 'Hypotonia', 'Developmental_delay']\n",
    "\n",
    "sys.columns = ['UniqueID','Date','Autoimmune','Endocrine','Gastrointestinal',\n",
    "               'Liver','Reproductive','Respiratory','Hypertension',\n",
    "               'Hypercholesterolaemia', 'Anaemia', 'Spinal_bone_disease']\n",
    "\n",
    "fam.columns = ['UniqueID','Parental_consanguinity', 'Inheritance_Pattern']\n",
    "\n",
    "soc.columns = ['UniqueID', 'Date', 'Smoking', 'Alcohol_consumption']\n",
    "\n",
    "blood.columns = ['UniqueID', 'Date', 'Hemoglobin', 'Sodium',\n",
    "                 'Potassium','Urea','Creatinine','Alanine_aminotransferase',\n",
    "                 'Bilirubin','Alkaline_Phosphatase','Adjusted_calcium']\n",
    "\n",
    "neuro.columns = ['UniqueID', 'Date', 'Slow_wave', 'Sharp_wave']\n",
    "\n",
    "img.columns = ['UniqueID', 'Date', 'Other.1', 'Other.2']\n",
    "\n",
    "car.columns = ['UniqueID', 'Date', 'ECG_Normal', 'ECHO_Normal']\n",
    "\n",
    "opth.columns = ['UniqueID', 'Date', 'Opth_Normal']\n",
    "\n",
    "aud.columns = ['UniqueID','Date','Aud_Normal','Sensorineural_loss_right','Sensorineural_loss_left']\n",
    "trans.columns = ['UniqueID','Date','Transplant','Kidney','Liver','Heart',\n",
    "                 'Lung','Pancreas','Bone_Marrow']\n",
    "\n",
    "paed.columns = ['UniqueID', 'Consanguinity','Presentation_age','Diagnosis_age',\n",
    "                'Diagnosis_basis','Reduced_movement','Abnormalities','Gestational_age',\n",
    "                'Delivery_method','Birth_weight_g','Resuscitation']\n",
    "\n",
    "mort.columns = ['UniqueID','Age_at_death','Cause_of_Death_Ia']\n"
   ]
  },
  {
   "cell_type": "markdown",
   "metadata": {},
   "source": [
    "### Data wrangling for some specific features "
   ]
  },
  {
   "cell_type": "code",
   "execution_count": 8,
   "metadata": {},
   "outputs": [],
   "source": [
    "# Remove rows that have NA for Date columns in each dataset\n",
    "df_date = [his,heter,clin,phen,sys,blood,neuro,car,opth,aud]\n",
    "\n",
    "for df in df_date:\n",
    "    df.dropna( how='any',subset=['Date'],inplace=True)\n",
    "    "
   ]
  },
  {
   "cell_type": "code",
   "execution_count": 9,
   "metadata": {},
   "outputs": [],
   "source": [
    "# Replacing non-numerical value for numerical columns\n",
    "blood['Bilirubin'] = blood['Bilirubin'].replace(['<3'],0)\n",
    "\n",
    "aud['Aud_Normal'] = aud['Aud_Normal'].replace([True],1)\n",
    "aud['Sensorineural_loss_right'] = aud['Sensorineural_loss_right'].replace(['NORMAL'],0)\n",
    "aud['Sensorineural_loss_left'] = aud['Sensorineural_loss_left'].replace(['NORMAL'],0)\n",
    "aud['Sensorineural_loss_right'] = aud['Sensorineural_loss_right'].replace([True],1)\n",
    "aud['Sensorineural_loss_left'] = aud['Sensorineural_loss_left'].replace([True],1)\n",
    "\n",
    "all.loc[all.UniqueID == 'ee9e', 'Sex'] = 'F' #replace the sex of patient ee9e\n"
   ]
  },
  {
   "cell_type": "markdown",
   "metadata": {},
   "source": [
    "### Feature Imputation 1\n",
    "By Deduction "
   ]
  },
  {
   "cell_type": "code",
   "execution_count": 10,
   "metadata": {},
   "outputs": [],
   "source": [
    "his[['His_Normal','ComplexI','ComplexII','ComplexIII','ComplexIV','ComplexV']] = his[['His_Normal','ComplexI','ComplexII','ComplexIII','ComplexIV','ComplexV']].fillna(0)\n",
    "car[['ECG_Normal','ECHO_Normal']] = car[['ECG_Normal','ECHO_Normal']].fillna(0) \n",
    "opth[['Opth_Normal']] = opth[['Opth_Normal']].fillna(0) \n",
    "aud[['Aud_Normal','Sensorineural_loss_right','Sensorineural_loss_left']] = aud[['Aud_Normal','Sensorineural_loss_right','Sensorineural_loss_left']].fillna(0) "
   ]
  },
  {
   "cell_type": "markdown",
   "metadata": {},
   "source": [
    "## Joining data "
   ]
  },
  {
   "cell_type": "code",
   "execution_count": 11,
   "metadata": {},
   "outputs": [],
   "source": [
    "# Combining dataframes with temporal clinical outcomes\n",
    "temporal = pd.merge(his, heter, on=[\"UniqueID\", \"Date\"],how='outer')\n",
    "temporal = pd.merge(temporal, clin, on=[\"UniqueID\", \"Date\"],how='outer')\n",
    "temporal = pd.merge(temporal, phen, on=[\"UniqueID\", \"Date\"],how='outer')\n",
    "temporal = pd.merge(temporal, sys, on=[\"UniqueID\", \"Date\"],how='outer')\n",
    "temporal = pd.merge(temporal, blood, on=[\"UniqueID\", \"Date\"],how='outer')\n",
    "temporal = pd.merge(temporal, neuro, on=[\"UniqueID\", \"Date\"],how='outer')\n",
    "temporal = pd.merge(temporal, car, on=[\"UniqueID\", \"Date\"],how='outer')\n",
    "temporal = pd.merge(temporal, opth, on=[\"UniqueID\", \"Date\"],how='outer')\n",
    "temporal = pd.merge(temporal, aud, on=[\"UniqueID\", \"Date\"],how='outer')\n",
    "\n",
    "# Combining dataframes for time-independent patient characteristics\n",
    "char = pd.merge(all, gen, on=[\"UniqueID\"],how='left')\n",
    "char = pd.merge(char, paed, on=[\"UniqueID\"],how='left')\n",
    "char = pd.merge(char, fam, on=[\"UniqueID\"],how='left')\n",
    "\n",
    "# Merging both datasets together\n",
    "df_combined =  pd.merge(char,temporal, on=[\"UniqueID\"],how='left')"
   ]
  },
  {
   "cell_type": "code",
   "execution_count": 12,
   "metadata": {},
   "outputs": [],
   "source": [
    "# Grouping feature types \n",
    "categorical = ['UniqueID','Sex','Institution','Genetics','Consanguinity',\n",
    "               'Diagnosis_basis','Reduced_movement','Abnormalities',\n",
    "               'Delivery_method','Resuscitation','Parental_consanguinity',\n",
    "               'Inheritance_Pattern','His_Normal','ComplexI','ComplexII','ComplexIII',\n",
    "               'ComplexIV','ComplexV','Deafness','Hypotonia','Developmental_delay',\n",
    "               'Autoimmune','Endocrine','Gastrointestinal','Liver','Reproductive',\n",
    "               'Respiratory','Hypertension','Hypercholesterolaemia','Anaemia',\n",
    "               'Spinal_bone_disease','Slow_wave','Sharp_wave','ECG_Normal','ECHO_Normal',\n",
    "               'Opth_Normal','Aud_Normal','Sensorineural_loss_right','Sensorineural_loss_left']\n",
    "\n",
    "numerical = ['Presentation_age','Diagnosis_age','Gestational_age','Birth_weight_g',\n",
    "             'Heter_Blood','Weight_kg','FVC_predicted','Hemoglobin','Sodium','Potassium','Urea',\n",
    "             'Creatinine','Alanine_aminotransferase','Bilirubin','Alkaline_Phosphatase','Adjusted_calcium']\n",
    "\n",
    "timeseries = ['Birth_date','Death_date','Date']"
   ]
  },
  {
   "cell_type": "markdown",
   "metadata": {},
   "source": [
    "## Data Analysis"
   ]
  },
  {
   "cell_type": "code",
   "execution_count": 13,
   "metadata": {},
   "outputs": [
    {
     "data": {
      "text/plain": [
       "(354, 58)"
      ]
     },
     "execution_count": 13,
     "metadata": {},
     "output_type": "execute_result"
    }
   ],
   "source": [
    "df_combined.shape"
   ]
  },
  {
   "cell_type": "markdown",
   "metadata": {},
   "source": [
    "### Descriptive Statistics "
   ]
  },
  {
   "cell_type": "code",
   "execution_count": 14,
   "metadata": {},
   "outputs": [
    {
     "data": {
      "text/html": [
       "<div>\n",
       "<style scoped>\n",
       "    .dataframe tbody tr th:only-of-type {\n",
       "        vertical-align: middle;\n",
       "    }\n",
       "\n",
       "    .dataframe tbody tr th {\n",
       "        vertical-align: top;\n",
       "    }\n",
       "\n",
       "    .dataframe thead th {\n",
       "        text-align: right;\n",
       "    }\n",
       "</style>\n",
       "<table border=\"1\" class=\"dataframe\">\n",
       "  <thead>\n",
       "    <tr style=\"text-align: right;\">\n",
       "      <th></th>\n",
       "      <th>Presentation_age</th>\n",
       "      <th>Diagnosis_age</th>\n",
       "      <th>Gestational_age</th>\n",
       "      <th>Heter_Blood</th>\n",
       "      <th>Weight_kg</th>\n",
       "      <th>FVC_predicted</th>\n",
       "      <th>Hemoglobin</th>\n",
       "      <th>Sodium</th>\n",
       "      <th>Potassium</th>\n",
       "      <th>Urea</th>\n",
       "      <th>Creatinine</th>\n",
       "      <th>Alanine_aminotransferase</th>\n",
       "      <th>Bilirubin</th>\n",
       "      <th>Alkaline_Phosphatase</th>\n",
       "      <th>Adjusted_calcium</th>\n",
       "    </tr>\n",
       "  </thead>\n",
       "  <tbody>\n",
       "    <tr>\n",
       "      <th>count</th>\n",
       "      <td>147.000000</td>\n",
       "      <td>146.000000</td>\n",
       "      <td>216.000000</td>\n",
       "      <td>9.000000</td>\n",
       "      <td>122.000000</td>\n",
       "      <td>134.000000</td>\n",
       "      <td>34.000000</td>\n",
       "      <td>42.000000</td>\n",
       "      <td>41.000000</td>\n",
       "      <td>39.000000</td>\n",
       "      <td>37.000000</td>\n",
       "      <td>32.000000</td>\n",
       "      <td>35.000000</td>\n",
       "      <td>31.000000</td>\n",
       "      <td>25.00000</td>\n",
       "    </tr>\n",
       "    <tr>\n",
       "      <th>mean</th>\n",
       "      <td>1.527483</td>\n",
       "      <td>2.191781</td>\n",
       "      <td>39.319444</td>\n",
       "      <td>0.882222</td>\n",
       "      <td>20.978648</td>\n",
       "      <td>1.279080</td>\n",
       "      <td>84.688235</td>\n",
       "      <td>139.380952</td>\n",
       "      <td>4.431707</td>\n",
       "      <td>4.251282</td>\n",
       "      <td>25.810811</td>\n",
       "      <td>28.562500</td>\n",
       "      <td>5.228571</td>\n",
       "      <td>146.903226</td>\n",
       "      <td>2.43480</td>\n",
       "    </tr>\n",
       "    <tr>\n",
       "      <th>std</th>\n",
       "      <td>2.175722</td>\n",
       "      <td>1.599806</td>\n",
       "      <td>1.707655</td>\n",
       "      <td>0.099471</td>\n",
       "      <td>10.529962</td>\n",
       "      <td>1.234505</td>\n",
       "      <td>54.514817</td>\n",
       "      <td>2.836628</td>\n",
       "      <td>0.424523</td>\n",
       "      <td>1.957425</td>\n",
       "      <td>14.009596</td>\n",
       "      <td>51.515696</td>\n",
       "      <td>3.532086</td>\n",
       "      <td>45.142260</td>\n",
       "      <td>0.08766</td>\n",
       "    </tr>\n",
       "    <tr>\n",
       "      <th>min</th>\n",
       "      <td>0.000000</td>\n",
       "      <td>0.000000</td>\n",
       "      <td>32.000000</td>\n",
       "      <td>0.710000</td>\n",
       "      <td>6.795000</td>\n",
       "      <td>-1.417600</td>\n",
       "      <td>11.100000</td>\n",
       "      <td>128.000000</td>\n",
       "      <td>3.500000</td>\n",
       "      <td>0.800000</td>\n",
       "      <td>9.000000</td>\n",
       "      <td>10.000000</td>\n",
       "      <td>0.000000</td>\n",
       "      <td>89.000000</td>\n",
       "      <td>2.14000</td>\n",
       "    </tr>\n",
       "    <tr>\n",
       "      <th>25%</th>\n",
       "      <td>1.000000</td>\n",
       "      <td>2.000000</td>\n",
       "      <td>39.000000</td>\n",
       "      <td>0.800000</td>\n",
       "      <td>14.162500</td>\n",
       "      <td>0.379050</td>\n",
       "      <td>13.175000</td>\n",
       "      <td>139.000000</td>\n",
       "      <td>4.200000</td>\n",
       "      <td>2.400000</td>\n",
       "      <td>18.000000</td>\n",
       "      <td>14.000000</td>\n",
       "      <td>3.000000</td>\n",
       "      <td>119.000000</td>\n",
       "      <td>2.41000</td>\n",
       "    </tr>\n",
       "    <tr>\n",
       "      <th>50%</th>\n",
       "      <td>1.000000</td>\n",
       "      <td>2.000000</td>\n",
       "      <td>40.000000</td>\n",
       "      <td>0.950000</td>\n",
       "      <td>18.700000</td>\n",
       "      <td>1.084300</td>\n",
       "      <td>112.500000</td>\n",
       "      <td>140.000000</td>\n",
       "      <td>4.400000</td>\n",
       "      <td>4.400000</td>\n",
       "      <td>22.000000</td>\n",
       "      <td>17.000000</td>\n",
       "      <td>4.000000</td>\n",
       "      <td>135.000000</td>\n",
       "      <td>2.44000</td>\n",
       "    </tr>\n",
       "    <tr>\n",
       "      <th>75%</th>\n",
       "      <td>1.000000</td>\n",
       "      <td>2.000000</td>\n",
       "      <td>40.000000</td>\n",
       "      <td>0.960000</td>\n",
       "      <td>25.150000</td>\n",
       "      <td>2.259200</td>\n",
       "      <td>128.500000</td>\n",
       "      <td>141.000000</td>\n",
       "      <td>4.700000</td>\n",
       "      <td>5.650000</td>\n",
       "      <td>28.000000</td>\n",
       "      <td>20.250000</td>\n",
       "      <td>6.500000</td>\n",
       "      <td>159.500000</td>\n",
       "      <td>2.48000</td>\n",
       "    </tr>\n",
       "    <tr>\n",
       "      <th>max</th>\n",
       "      <td>10.000000</td>\n",
       "      <td>9.000000</td>\n",
       "      <td>42.000000</td>\n",
       "      <td>0.970000</td>\n",
       "      <td>71.000000</td>\n",
       "      <td>3.690000</td>\n",
       "      <td>155.000000</td>\n",
       "      <td>144.000000</td>\n",
       "      <td>5.400000</td>\n",
       "      <td>7.400000</td>\n",
       "      <td>68.000000</td>\n",
       "      <td>306.000000</td>\n",
       "      <td>19.000000</td>\n",
       "      <td>276.000000</td>\n",
       "      <td>2.56000</td>\n",
       "    </tr>\n",
       "  </tbody>\n",
       "</table>\n",
       "</div>"
      ],
      "text/plain": [
       "       Presentation_age  Diagnosis_age  Gestational_age  Heter_Blood  \\\n",
       "count        147.000000     146.000000       216.000000     9.000000   \n",
       "mean           1.527483       2.191781        39.319444     0.882222   \n",
       "std            2.175722       1.599806         1.707655     0.099471   \n",
       "min            0.000000       0.000000        32.000000     0.710000   \n",
       "25%            1.000000       2.000000        39.000000     0.800000   \n",
       "50%            1.000000       2.000000        40.000000     0.950000   \n",
       "75%            1.000000       2.000000        40.000000     0.960000   \n",
       "max           10.000000       9.000000        42.000000     0.970000   \n",
       "\n",
       "        Weight_kg  FVC_predicted  Hemoglobin      Sodium  Potassium  \\\n",
       "count  122.000000     134.000000   34.000000   42.000000  41.000000   \n",
       "mean    20.978648       1.279080   84.688235  139.380952   4.431707   \n",
       "std     10.529962       1.234505   54.514817    2.836628   0.424523   \n",
       "min      6.795000      -1.417600   11.100000  128.000000   3.500000   \n",
       "25%     14.162500       0.379050   13.175000  139.000000   4.200000   \n",
       "50%     18.700000       1.084300  112.500000  140.000000   4.400000   \n",
       "75%     25.150000       2.259200  128.500000  141.000000   4.700000   \n",
       "max     71.000000       3.690000  155.000000  144.000000   5.400000   \n",
       "\n",
       "            Urea  Creatinine  Alanine_aminotransferase  Bilirubin  \\\n",
       "count  39.000000   37.000000                 32.000000  35.000000   \n",
       "mean    4.251282   25.810811                 28.562500   5.228571   \n",
       "std     1.957425   14.009596                 51.515696   3.532086   \n",
       "min     0.800000    9.000000                 10.000000   0.000000   \n",
       "25%     2.400000   18.000000                 14.000000   3.000000   \n",
       "50%     4.400000   22.000000                 17.000000   4.000000   \n",
       "75%     5.650000   28.000000                 20.250000   6.500000   \n",
       "max     7.400000   68.000000                306.000000  19.000000   \n",
       "\n",
       "       Alkaline_Phosphatase  Adjusted_calcium  \n",
       "count             31.000000          25.00000  \n",
       "mean             146.903226           2.43480  \n",
       "std               45.142260           0.08766  \n",
       "min               89.000000           2.14000  \n",
       "25%              119.000000           2.41000  \n",
       "50%              135.000000           2.44000  \n",
       "75%              159.500000           2.48000  \n",
       "max              276.000000           2.56000  "
      ]
     },
     "execution_count": 14,
     "metadata": {},
     "output_type": "execute_result"
    }
   ],
   "source": [
    "df_combined[numerical].describe()"
   ]
  },
  {
   "cell_type": "code",
   "execution_count": 15,
   "metadata": {},
   "outputs": [
    {
     "data": {
      "text/html": [
       "<div>\n",
       "<style scoped>\n",
       "    .dataframe tbody tr th:only-of-type {\n",
       "        vertical-align: middle;\n",
       "    }\n",
       "\n",
       "    .dataframe tbody tr th {\n",
       "        vertical-align: top;\n",
       "    }\n",
       "\n",
       "    .dataframe thead th {\n",
       "        text-align: right;\n",
       "    }\n",
       "</style>\n",
       "<table border=\"1\" class=\"dataframe\">\n",
       "  <thead>\n",
       "    <tr style=\"text-align: right;\">\n",
       "      <th></th>\n",
       "      <th>Birth_date</th>\n",
       "      <th>Death_date</th>\n",
       "      <th>Date</th>\n",
       "    </tr>\n",
       "  </thead>\n",
       "  <tbody>\n",
       "    <tr>\n",
       "      <th>count</th>\n",
       "      <td>354</td>\n",
       "      <td>30</td>\n",
       "      <td>352</td>\n",
       "    </tr>\n",
       "    <tr>\n",
       "      <th>unique</th>\n",
       "      <td>57</td>\n",
       "      <td>9</td>\n",
       "      <td>305</td>\n",
       "    </tr>\n",
       "    <tr>\n",
       "      <th>top</th>\n",
       "      <td>2008-07-08 00:00:00</td>\n",
       "      <td>2013-08-25 00:00:00</td>\n",
       "      <td>2019-11-25 00:00:00</td>\n",
       "    </tr>\n",
       "    <tr>\n",
       "      <th>freq</th>\n",
       "      <td>87</td>\n",
       "      <td>10</td>\n",
       "      <td>4</td>\n",
       "    </tr>\n",
       "    <tr>\n",
       "      <th>first</th>\n",
       "      <td>1982-12-22 00:00:00</td>\n",
       "      <td>2012-01-23 00:00:00</td>\n",
       "      <td>1900-01-01 00:00:00</td>\n",
       "    </tr>\n",
       "    <tr>\n",
       "      <th>last</th>\n",
       "      <td>2018-04-10 00:00:00</td>\n",
       "      <td>2020-11-06 00:00:00</td>\n",
       "      <td>2021-02-08 00:00:00</td>\n",
       "    </tr>\n",
       "  </tbody>\n",
       "</table>\n",
       "</div>"
      ],
      "text/plain": [
       "                 Birth_date           Death_date                 Date\n",
       "count                   354                   30                  352\n",
       "unique                   57                    9                  305\n",
       "top     2008-07-08 00:00:00  2013-08-25 00:00:00  2019-11-25 00:00:00\n",
       "freq                     87                   10                    4\n",
       "first   1982-12-22 00:00:00  2012-01-23 00:00:00  1900-01-01 00:00:00\n",
       "last    2018-04-10 00:00:00  2020-11-06 00:00:00  2021-02-08 00:00:00"
      ]
     },
     "execution_count": 15,
     "metadata": {},
     "output_type": "execute_result"
    }
   ],
   "source": [
    "import warnings\n",
    "warnings.filterwarnings('ignore')\n",
    "\n",
    "df_combined[timeseries].describe()"
   ]
  },
  {
   "cell_type": "code",
   "execution_count": 16,
   "metadata": {},
   "outputs": [
    {
     "name": "stdout",
     "output_type": "stream",
     "text": [
      "Total number of patients in study: 57\n",
      "No. patient in Histochemistry sheet: 19\n",
      "No. patient in Heteroplasmy sheet: 11\n",
      "No. patient in Clinical data sheet: 39\n",
      "No. patient in Phenotype sheet: 54\n",
      "No. patient in Systemic features sheet: 14\n",
      "No. patient in Family sheet: 17\n",
      "No. patient in Blood Results sheet: 15\n",
      "No. patient in Neurophysiology sheet: 11\n",
      "No. patient in Imaging sheet: 28\n",
      "No. patient in Cardiac sheet: 26\n",
      "No. patient in Opthalmology sheet: 16\n",
      "No. patient in Audiology sheet: 13\n",
      "No. patient in Paediatric info sheet: 31\n"
     ]
    }
   ],
   "source": [
    "print(\"Total number of patients in study:\",df_combined['UniqueID'].nunique())\n",
    "print(\"No. patient in Histochemistry sheet:\",his['UniqueID'].nunique())\n",
    "print(\"No. patient in Heteroplasmy sheet:\",heter['UniqueID'].nunique())\n",
    "print(\"No. patient in Clinical data sheet:\",clin['UniqueID'].nunique())\n",
    "print(\"No. patient in Phenotype sheet:\",phen['UniqueID'].nunique())\n",
    "print(\"No. patient in Systemic features sheet:\",sys['UniqueID'].nunique())\n",
    "print(\"No. patient in Family sheet:\",fam['UniqueID'].nunique())\n",
    "print(\"No. patient in Blood Results sheet:\",blood['UniqueID'].nunique())\n",
    "print(\"No. patient in Neurophysiology sheet:\",neuro['UniqueID'].nunique())\n",
    "print(\"No. patient in Imaging sheet:\",img['UniqueID'].nunique())\n",
    "print(\"No. patient in Cardiac sheet:\",car['UniqueID'].nunique())\n",
    "print(\"No. patient in Opthalmology sheet:\",opth['UniqueID'].nunique())\n",
    "print(\"No. patient in Audiology sheet:\",aud['UniqueID'].nunique())\n",
    "print(\"No. patient in Paediatric info sheet:\",paed['UniqueID'].nunique())"
   ]
  },
  {
   "cell_type": "markdown",
   "metadata": {},
   "source": [
    "### Feature Imputation 2\n",
    "Single Imputation and Last Observation Carried Forward"
   ]
  },
  {
   "cell_type": "code",
   "execution_count": 17,
   "metadata": {},
   "outputs": [],
   "source": [
    "# Imputation for Histochemistry features\n",
    "df_combined.His_Normal=df_combined.sort_values(by=['UniqueID','Date']).groupby(['UniqueID']).His_Normal.fillna(method=\"ffill\")\n",
    "df_combined.ComplexI=df_combined.sort_values(by=['UniqueID','Date']).groupby(['UniqueID']).ComplexI.fillna(method=\"ffill\")\n",
    "df_combined.ComplexII=df_combined.sort_values(by=['UniqueID','Date']).groupby(['UniqueID']).ComplexII.fillna(method=\"ffill\")\n",
    "df_combined.ComplexIII=df_combined.sort_values(by=['UniqueID','Date']).groupby(['UniqueID']).ComplexIII.fillna(method=\"ffill\")\n",
    "df_combined.ComplexIV=df_combined.sort_values(by=['UniqueID','Date']).groupby(['UniqueID']).ComplexIV.fillna(method=\"ffill\")\n",
    "df_combined.ComplexV=df_combined.sort_values(by=['UniqueID','Date']).groupby(['UniqueID']).ComplexV.fillna(method=\"ffill\")\n",
    "\n",
    "# Imputation for Heteroplasmy features\n",
    "df_combined['Heter_Blood'] = df_combined['Heter_Blood'].fillna((df_combined['Heter_Blood'].mean()))\n",
    "\n",
    "# Imputation for Clinical measurements \n",
    "df_combined.Weight_kg=df_combined.sort_values(by=['UniqueID','Date']).groupby(['UniqueID']).Weight_kg.apply(lambda x : x.ffill().bfill())\n",
    "df_combined['FVC_predicted'] = df_combined['FVC_predicted'].fillna(clin.groupby('UniqueID')['FVC_predicted'].transform('median'))\n",
    "\n",
    "# Imputation for Phenotype features\n",
    "df_combined.Deafness=df_combined.sort_values(by=['UniqueID','Date']).groupby(['UniqueID']).Deafness.fillna(method=\"ffill\")\n",
    "df_combined.Hypotonia=df_combined.sort_values(by=['UniqueID','Date']).groupby(['UniqueID']).Hypotonia.fillna(method=\"ffill\")\n",
    "df_combined.Developmental_delay=df_combined.sort_values(by=['UniqueID','Date']).groupby(['UniqueID']).Developmental_delay.fillna(method=\"ffill\")\n",
    "\n",
    "# Imputation for Clinical measurements \n",
    "df_combined.Weight_kg=df_combined.sort_values(by=['UniqueID','Date']).groupby(['UniqueID']).Weight_kg.apply(lambda x : x.ffill().bfill())\n",
    "df_combined['FVC_predicted'] = df_combined['FVC_predicted'].fillna(clin.groupby('UniqueID')['FVC_predicted'].transform('median'))\n",
    "\n",
    "# Imputation for Blood features\n",
    "df_combined['Hemoglobin']= df_combined['Hemoglobin'].fillna(df_combined.groupby([df_combined.Date.dt.year,'UniqueID'])['Hemoglobin'].transform('mean'))\n",
    "df_combined['Sodium']= df_combined['Sodium'].fillna(df_combined.groupby([df_combined.Date.dt.year,'UniqueID'])['Sodium'].transform('mean'))\n",
    "df_combined['Potassium']= df_combined['Potassium'].fillna(df_combined.groupby([df_combined.Date.dt.year,'UniqueID'])['Potassium'].transform('mean'))\n",
    "df_combined['Urea']= df_combined['Urea'].fillna(df_combined.groupby([df_combined.Date.dt.year,'UniqueID'])['Urea'].transform('mean'))\n",
    "df_combined['Creatinine']= df_combined['Creatinine'].fillna(df_combined.groupby([df_combined.Date.dt.year,'UniqueID'])['Creatinine'].transform('mean'))\n",
    "df_combined['Alanine_aminotransferase']= df_combined['Alanine_aminotransferase'].fillna(df_combined.groupby([df_combined.Date.dt.year,'UniqueID'])['Alanine_aminotransferase'].transform('mean'))\n",
    "df_combined['Bilirubin']= df_combined['Bilirubin'].fillna(df_combined.groupby([df_combined.Date.dt.year,'UniqueID'])['Bilirubin'].transform('mean'))\n",
    "df_combined['Alkaline_Phosphatase']= df_combined['Alkaline_Phosphatase'].fillna(df_combined.groupby([df_combined.Date.dt.year,'UniqueID'])['Alkaline_Phosphatase'].transform('mean'))\n",
    "df_combined['Adjusted_calcium']= df_combined['Adjusted_calcium'].fillna(df_combined.groupby([df_combined.Date.dt.year,'UniqueID'])['Adjusted_calcium'].transform('mean'))\n",
    "\n",
    "# Imputation for Neurophysiological features\n",
    "df_combined.Slow_wave=df_combined.sort_values(by=['UniqueID','Date']).groupby(['UniqueID']).Slow_wave.fillna(method=\"ffill\")\n",
    "df_combined.Sharp_wave=df_combined.sort_values(by=['UniqueID','Date']).groupby(['UniqueID']).Sharp_wave.fillna(method=\"ffill\")\n",
    "\n",
    "# Imputation for Cardiac features\n",
    "df_combined.ECG_Normal=df_combined.sort_values(by=['UniqueID','Date']).groupby(['UniqueID']).ECG_Normal.fillna(method=\"ffill\")\n",
    "df_combined.ECHO_Normal=df_combined.sort_values(by=['UniqueID','Date']).groupby(['UniqueID']).ECHO_Normal.fillna(method=\"ffill\")\n",
    "\n",
    "# Imputation for Opthalmology features\n",
    "df_combined.Opth_Normal=df_combined.sort_values(by=['UniqueID','Date']).groupby(['UniqueID']).Opth_Normal.fillna(method=\"ffill\")\n",
    "\n",
    "# Imputation for Audiology features\n",
    "df_combined.Aud_Normal=df_combined.sort_values(by=['UniqueID','Date']).groupby(['UniqueID']).Aud_Normal.fillna(method=\"ffill\")\n",
    "df_combined.Sensorineural_loss_right=df_combined.sort_values(by=['UniqueID','Date']).groupby(['UniqueID']).Sensorineural_loss_right.fillna(method=\"ffill\")\n",
    "df_combined.Sensorineural_loss_left=df_combined.sort_values(by=['UniqueID','Date']).groupby(['UniqueID']).Sensorineural_loss_left.fillna(method=\"ffill\")"
   ]
  },
  {
   "cell_type": "markdown",
   "metadata": {},
   "source": [
    "After, imputation of missing values within Unique ID groups, there are still many features that have high missingness. Therefore, features with less than 60% missingness are selected for the combined dataset and further imputation will be carried out. "
   ]
  },
  {
   "cell_type": "code",
   "execution_count": 18,
   "metadata": {},
   "outputs": [],
   "source": [
    "cols = ['UniqueID','Birth_date','Death_date','Date',\n",
    "        'Institution','Sex',\n",
    "        'Diagnosis_age','Presentation_age','Gestational_age',\n",
    "        'Heter_Blood','Birth_weight_g','Weight_kg','FVC_predicted',\n",
    "        'Genetics','Consanguinity','Diagnosis_basis','Delivery_method',\n",
    "        'Deafness','Hypotonia','Developmental_delay','Resuscitation',\n",
    "        'Sharp_wave','ECG_Normal','ECHO_Normal',\n",
    "        'His_Normal','ComplexI','ComplexII','ComplexIII','ComplexIV','ComplexV']\n",
    "\n",
    "df_condensed = df_combined[cols]\n",
    "\n",
    "\n"
   ]
  },
  {
   "cell_type": "code",
   "execution_count": 19,
   "metadata": {},
   "outputs": [
    {
     "data": {
      "image/png": "[encoded data removed]",
      "text/plain": [
       "<Figure size 432x288 with 1 Axes>"
      ]
     },
     "metadata": {
      "needs_background": "light"
     },
     "output_type": "display_data"
    },
    {
     "data": {
      "image/png": "[encoded data removed]",
      "text/plain": [
       "<Figure size 432x288 with 1 Axes>"
      ]
     },
     "metadata": {
      "needs_background": "light"
     },
     "output_type": "display_data"
    },
    {
     "data": {
      "image/png": "[encoded data removed]",
      "text/plain": [
       "<Figure size 432x288 with 1 Axes>"
      ]
     },
     "metadata": {
      "needs_background": "light"
     },
     "output_type": "display_data"
    },
    {
     "data": {
      "image/png": "[encoded data removed]",
      "text/plain": [
       "<Figure size 432x288 with 1 Axes>"
      ]
     },
     "metadata": {
      "needs_background": "light"
     },
     "output_type": "display_data"
    },
    {
     "data": {
      "image/png": "[encoded data removed]",
      "text/plain": [
       "<Figure size 432x288 with 1 Axes>"
      ]
     },
     "metadata": {
      "needs_background": "light"
     },
     "output_type": "display_data"
    },
    {
     "data": {
      "image/png": "[encoded data removed]",
      "text/plain": [
       "<Figure size 432x288 with 1 Axes>"
      ]
     },
     "metadata": {
      "needs_background": "light"
     },
     "output_type": "display_data"
    },
    {
     "data": {
      "image/png": "[encoded data removed]",
      "text/plain": [
       "<Figure size 432x288 with 1 Axes>"
      ]
     },
     "metadata": {
      "needs_background": "light"
     },
     "output_type": "display_data"
    },
    {
     "data": {
      "image/png": "[encoded data removed]",
      "text/plain": [
       "<Figure size 432x288 with 1 Axes>"
      ]
     },
     "metadata": {
      "needs_background": "light"
     },
     "output_type": "display_data"
    },
    {
     "data": {
      "image/png": "[encoded data removed]",
      "text/plain": [
       "<Figure size 432x288 with 1 Axes>"
      ]
     },
     "metadata": {
      "needs_background": "light"
     },
     "output_type": "display_data"
    }
   ],
   "source": [
    "import seaborn as sns\n",
    "import matplotlib.pyplot as plt\n",
    "\n",
    "freq = df_condensed[['UniqueID','Sex','Diagnosis_age','Presentation_age',\n",
    "                     'Gestational_age','Birth_weight_g','Genetics',\n",
    "                     'Consanguinity','Delivery_method','Resuscitation']].drop_duplicates()\n",
    "\n",
    "freq.drop(columns=['UniqueID'],inplace=True)\n",
    "\n",
    "#for i in freq.columns:\n",
    "#    fig_dims = (8, 6)\n",
    "#    ax = plt.subplots(figsize=fig_dims)\n",
    "#    sns.barplot(freq[i].value_counts().index, freq[i].value_counts()).set_title(i)\n",
    "#    plt.show()\n",
    "\n",
    "\n",
    "for i in freq.columns:\n",
    "    plt.figure(figsize=(6,4))\n",
    "    chart = sns.barplot(freq[i].value_counts().index, freq[i].value_counts()).set_title(i)\n",
    "    plt.ylabel(\"Number of patients\")\n",
    "    plt.xticks(\n",
    "        rotation=45, \n",
    "        horizontalalignment='right',\n",
    "        fontweight='light',  \n",
    "    )\n",
    "    None #dont show any label objects"
   ]
  },
  {
   "cell_type": "code",
   "execution_count": 20,
   "metadata": {},
   "outputs": [],
   "source": [
    "#pd.set_option('display.max_rows', 250)\n",
    "# To check percentage of missing values in each column \n",
    "#df_combined.isnull().sum().sort_values(ascending = False)/ df_combined.shape[0]"
   ]
  },
  {
   "cell_type": "markdown",
   "metadata": {},
   "source": [
    "### Informative imputation "
   ]
  },
  {
   "cell_type": "code",
   "execution_count": 21,
   "metadata": {},
   "outputs": [],
   "source": [
    "cols = ['Diagnosis_age','Presentation_age','Gestational_age',\n",
    "        'Heter_Blood','Birth_weight_g','Weight_kg','FVC_predicted',\n",
    "        'Genetics','Consanguinity','Diagnosis_basis','Delivery_method',\n",
    "        'Deafness','Hypotonia','Developmental_delay','Resuscitation',\n",
    "        'Sharp_wave','ECG_Normal','ECHO_Normal',\n",
    "        'His_Normal','ComplexI','ComplexII','ComplexIII','ComplexIV','ComplexV']\n",
    "\n",
    "for i in cols:\n",
    "    df_condensed[i]=df_condensed[i].fillna(9)\n"
   ]
  },
  {
   "cell_type": "code",
   "execution_count": 22,
   "metadata": {},
   "outputs": [
    {
     "data": {
      "text/plain": [
       "(354, 30)"
      ]
     },
     "execution_count": 22,
     "metadata": {},
     "output_type": "execute_result"
    }
   ],
   "source": [
    "df_condensed.shape"
   ]
  },
  {
   "cell_type": "markdown",
   "metadata": {},
   "source": [
    "## Data Preparation "
   ]
  },
  {
   "cell_type": "code",
   "execution_count": 23,
   "metadata": {},
   "outputs": [],
   "source": [
    "# Preparing data for survival analysis \n",
    "surv_df = df_condensed\n",
    "\n",
    "# Removing records with dates prior to birth date\n",
    "surv_df = surv_df[surv_df[\"Date\"] > surv_df[\"Birth_date\"]] \n",
    "\n",
    "# Keeping last date seen \n",
    "surv_df = surv_df.sort_values(by=\"Date\").drop_duplicates(subset=[\"UniqueID\"], keep=\"last\")\n",
    "\n",
    "# Calculating patient age at date of visit/record\n",
    "surv_df['Age'] = surv_df.apply(lambda x: x['Death_date']-x['Birth_date'] \\\n",
    "                               if(pd.notnull(x['Death_date'])) \\\n",
    "                               else x['Date']- x['Birth_date'], axis = 1)\n",
    "#Converting Age to Years\n",
    "surv_df['Age'] = surv_df['Age'].astype('timedelta64[D]').astype(int)\n",
    "\n",
    "# Recording Event - Death or Right Censored\n",
    "surv_df['Event'] =  surv_df.apply(lambda x: 0 \\\n",
    "                               if(pd.isnull(x['Death_date'])) \\\n",
    "                               else 1, axis = 1)\n",
    "# Dropping unecessary columns \n",
    "surv_df.drop(columns=['Birth_date','Death_date','Date','Institution','Diagnosis_basis','UniqueID'],inplace=True)"
   ]
  },
  {
   "cell_type": "code",
   "execution_count": 24,
   "metadata": {},
   "outputs": [],
   "source": [
    "from sklearn.preprocessing import LabelEncoder\n",
    "\n",
    "# creating instance of labelencoder\n",
    "labelencoder = LabelEncoder()\n",
    "# Assigning numerical values and storing in another column\n",
    "surv_df['Sex'] = labelencoder.fit_transform(surv_df['Sex'])\n",
    "\n",
    "surv_df['Birth_weight_g']=surv_df['Birth_weight_g'].replace({'< 1000':0,'1500 - 2000':1,\n",
    "                                                             '2000 - 2500':2,'2500 - 3000':3,'3000 - 3500':4,\n",
    "                                                             '3500 - 4000':5,'4000 - 4500':6})\n",
    "surv_df['Genetics']=surv_df['Genetics'].replace({'Unknown':9,'Other':9})\n",
    "\n",
    "surv_df = pd.get_dummies(surv_df,columns=['Genetics'],drop_first=True,prefix='G')\n",
    "surv_df = pd.get_dummies(surv_df,columns=['Delivery_method'],drop_first=True,prefix='Del')"
   ]
  },
  {
   "cell_type": "code",
   "execution_count": 25,
   "metadata": {},
   "outputs": [
    {
     "data": {
      "text/html": [
       "<div>\n",
       "<style scoped>\n",
       "    .dataframe tbody tr th:only-of-type {\n",
       "        vertical-align: middle;\n",
       "    }\n",
       "\n",
       "    .dataframe tbody tr th {\n",
       "        vertical-align: top;\n",
       "    }\n",
       "\n",
       "    .dataframe thead th {\n",
       "        text-align: right;\n",
       "    }\n",
       "</style>\n",
       "<table border=\"1\" class=\"dataframe\">\n",
       "  <thead>\n",
       "    <tr style=\"text-align: right;\">\n",
       "      <th></th>\n",
       "      <th>Sex</th>\n",
       "      <th>Diagnosis_age</th>\n",
       "      <th>Presentation_age</th>\n",
       "      <th>Gestational_age</th>\n",
       "      <th>Heter_Blood</th>\n",
       "      <th>Birth_weight_g</th>\n",
       "      <th>Weight_kg</th>\n",
       "      <th>FVC_predicted</th>\n",
       "      <th>Consanguinity</th>\n",
       "      <th>Deafness</th>\n",
       "      <th>Hypotonia</th>\n",
       "      <th>Developmental_delay</th>\n",
       "      <th>Resuscitation</th>\n",
       "      <th>Sharp_wave</th>\n",
       "      <th>ECG_Normal</th>\n",
       "      <th>ECHO_Normal</th>\n",
       "      <th>His_Normal</th>\n",
       "      <th>ComplexI</th>\n",
       "      <th>ComplexII</th>\n",
       "      <th>ComplexIII</th>\n",
       "      <th>ComplexIV</th>\n",
       "      <th>ComplexV</th>\n",
       "      <th>Age</th>\n",
       "      <th>Event</th>\n",
       "      <th>G_DNM1L</th>\n",
       "      <th>G_MTFMT</th>\n",
       "      <th>G_NARS2</th>\n",
       "      <th>G_NDUFAF7</th>\n",
       "      <th>G_NDUFS1</th>\n",
       "      <th>G_NDUFS2</th>\n",
       "      <th>G_NDUFS7</th>\n",
       "      <th>G_NDUFV1</th>\n",
       "      <th>G_PDH Deficiency</th>\n",
       "      <th>G_RARS2</th>\n",
       "      <th>G_SUCLA2</th>\n",
       "      <th>G_SURF1</th>\n",
       "      <th>G_TAC01</th>\n",
       "      <th>G_m.10197G&gt;A</th>\n",
       "      <th>G_m.11778G&gt;A</th>\n",
       "      <th>G_m.13051G&gt;A</th>\n",
       "      <th>G_m.13513G&gt;A</th>\n",
       "      <th>G_m.14459G&gt;A</th>\n",
       "      <th>G_m.4296G&gt;A</th>\n",
       "      <th>G_m.8993T&gt;C</th>\n",
       "      <th>G_m.8993T&gt;G</th>\n",
       "      <th>G_m.9035T&gt;C</th>\n",
       "      <th>G_mtDNA depletion</th>\n",
       "      <th>Del_Assisted (Instrumental)</th>\n",
       "      <th>Del_Elective Caesarian Section</th>\n",
       "      <th>Del_Emergency Caesarian Section</th>\n",
       "      <th>Del_Normal</th>\n",
       "    </tr>\n",
       "  </thead>\n",
       "  <tbody>\n",
       "    <tr>\n",
       "      <th>0</th>\n",
       "      <td>0</td>\n",
       "      <td>9.0</td>\n",
       "      <td>9.0</td>\n",
       "      <td>9.0</td>\n",
       "      <td>0.882222</td>\n",
       "      <td>9</td>\n",
       "      <td>23.0</td>\n",
       "      <td>9.0000</td>\n",
       "      <td>9.0</td>\n",
       "      <td>0.0</td>\n",
       "      <td>9.0</td>\n",
       "      <td>9.0</td>\n",
       "      <td>9.0</td>\n",
       "      <td>0.0</td>\n",
       "      <td>0.0</td>\n",
       "      <td>0.0</td>\n",
       "      <td>9.0</td>\n",
       "      <td>9.0</td>\n",
       "      <td>9.0</td>\n",
       "      <td>9.0</td>\n",
       "      <td>9.0</td>\n",
       "      <td>9.0</td>\n",
       "      <td>1279</td>\n",
       "      <td>0</td>\n",
       "      <td>0</td>\n",
       "      <td>0</td>\n",
       "      <td>0</td>\n",
       "      <td>0</td>\n",
       "      <td>0</td>\n",
       "      <td>0</td>\n",
       "      <td>0</td>\n",
       "      <td>0</td>\n",
       "      <td>0</td>\n",
       "      <td>0</td>\n",
       "      <td>0</td>\n",
       "      <td>0</td>\n",
       "      <td>0</td>\n",
       "      <td>0</td>\n",
       "      <td>0</td>\n",
       "      <td>0</td>\n",
       "      <td>1</td>\n",
       "      <td>0</td>\n",
       "      <td>0</td>\n",
       "      <td>0</td>\n",
       "      <td>0</td>\n",
       "      <td>0</td>\n",
       "      <td>0</td>\n",
       "      <td>0</td>\n",
       "      <td>0</td>\n",
       "      <td>0</td>\n",
       "      <td>0</td>\n",
       "    </tr>\n",
       "    <tr>\n",
       "      <th>107</th>\n",
       "      <td>0</td>\n",
       "      <td>9.0</td>\n",
       "      <td>9.0</td>\n",
       "      <td>9.0</td>\n",
       "      <td>0.882222</td>\n",
       "      <td>9</td>\n",
       "      <td>9.0</td>\n",
       "      <td>3.6254</td>\n",
       "      <td>9.0</td>\n",
       "      <td>0.0</td>\n",
       "      <td>9.0</td>\n",
       "      <td>9.0</td>\n",
       "      <td>9.0</td>\n",
       "      <td>9.0</td>\n",
       "      <td>9.0</td>\n",
       "      <td>9.0</td>\n",
       "      <td>0.0</td>\n",
       "      <td>1.0</td>\n",
       "      <td>0.0</td>\n",
       "      <td>0.0</td>\n",
       "      <td>1.0</td>\n",
       "      <td>0.0</td>\n",
       "      <td>6311</td>\n",
       "      <td>1</td>\n",
       "      <td>0</td>\n",
       "      <td>0</td>\n",
       "      <td>0</td>\n",
       "      <td>0</td>\n",
       "      <td>1</td>\n",
       "      <td>0</td>\n",
       "      <td>0</td>\n",
       "      <td>0</td>\n",
       "      <td>0</td>\n",
       "      <td>0</td>\n",
       "      <td>0</td>\n",
       "      <td>0</td>\n",
       "      <td>0</td>\n",
       "      <td>0</td>\n",
       "      <td>0</td>\n",
       "      <td>0</td>\n",
       "      <td>0</td>\n",
       "      <td>0</td>\n",
       "      <td>0</td>\n",
       "      <td>0</td>\n",
       "      <td>0</td>\n",
       "      <td>0</td>\n",
       "      <td>0</td>\n",
       "      <td>0</td>\n",
       "      <td>0</td>\n",
       "      <td>0</td>\n",
       "      <td>0</td>\n",
       "    </tr>\n",
       "    <tr>\n",
       "      <th>319</th>\n",
       "      <td>1</td>\n",
       "      <td>9.0</td>\n",
       "      <td>9.0</td>\n",
       "      <td>9.0</td>\n",
       "      <td>0.882222</td>\n",
       "      <td>9</td>\n",
       "      <td>9.0</td>\n",
       "      <td>9.0000</td>\n",
       "      <td>9.0</td>\n",
       "      <td>9.0</td>\n",
       "      <td>1.0</td>\n",
       "      <td>9.0</td>\n",
       "      <td>9.0</td>\n",
       "      <td>9.0</td>\n",
       "      <td>9.0</td>\n",
       "      <td>9.0</td>\n",
       "      <td>9.0</td>\n",
       "      <td>9.0</td>\n",
       "      <td>9.0</td>\n",
       "      <td>9.0</td>\n",
       "      <td>9.0</td>\n",
       "      <td>9.0</td>\n",
       "      <td>1029</td>\n",
       "      <td>0</td>\n",
       "      <td>0</td>\n",
       "      <td>0</td>\n",
       "      <td>0</td>\n",
       "      <td>0</td>\n",
       "      <td>0</td>\n",
       "      <td>0</td>\n",
       "      <td>0</td>\n",
       "      <td>0</td>\n",
       "      <td>0</td>\n",
       "      <td>0</td>\n",
       "      <td>0</td>\n",
       "      <td>1</td>\n",
       "      <td>0</td>\n",
       "      <td>0</td>\n",
       "      <td>0</td>\n",
       "      <td>0</td>\n",
       "      <td>0</td>\n",
       "      <td>0</td>\n",
       "      <td>0</td>\n",
       "      <td>0</td>\n",
       "      <td>0</td>\n",
       "      <td>0</td>\n",
       "      <td>0</td>\n",
       "      <td>0</td>\n",
       "      <td>0</td>\n",
       "      <td>0</td>\n",
       "      <td>0</td>\n",
       "    </tr>\n",
       "    <tr>\n",
       "      <th>318</th>\n",
       "      <td>0</td>\n",
       "      <td>9.0</td>\n",
       "      <td>9.0</td>\n",
       "      <td>9.0</td>\n",
       "      <td>0.882222</td>\n",
       "      <td>9</td>\n",
       "      <td>17.3</td>\n",
       "      <td>9.0000</td>\n",
       "      <td>9.0</td>\n",
       "      <td>9.0</td>\n",
       "      <td>1.0</td>\n",
       "      <td>1.0</td>\n",
       "      <td>9.0</td>\n",
       "      <td>9.0</td>\n",
       "      <td>1.0</td>\n",
       "      <td>1.0</td>\n",
       "      <td>0.0</td>\n",
       "      <td>1.0</td>\n",
       "      <td>0.0</td>\n",
       "      <td>0.0</td>\n",
       "      <td>1.0</td>\n",
       "      <td>0.0</td>\n",
       "      <td>2830</td>\n",
       "      <td>0</td>\n",
       "      <td>0</td>\n",
       "      <td>0</td>\n",
       "      <td>0</td>\n",
       "      <td>0</td>\n",
       "      <td>0</td>\n",
       "      <td>0</td>\n",
       "      <td>0</td>\n",
       "      <td>0</td>\n",
       "      <td>0</td>\n",
       "      <td>0</td>\n",
       "      <td>0</td>\n",
       "      <td>0</td>\n",
       "      <td>0</td>\n",
       "      <td>0</td>\n",
       "      <td>0</td>\n",
       "      <td>0</td>\n",
       "      <td>0</td>\n",
       "      <td>0</td>\n",
       "      <td>0</td>\n",
       "      <td>0</td>\n",
       "      <td>0</td>\n",
       "      <td>0</td>\n",
       "      <td>0</td>\n",
       "      <td>0</td>\n",
       "      <td>0</td>\n",
       "      <td>0</td>\n",
       "      <td>0</td>\n",
       "    </tr>\n",
       "    <tr>\n",
       "      <th>92</th>\n",
       "      <td>1</td>\n",
       "      <td>9.0</td>\n",
       "      <td>9.0</td>\n",
       "      <td>9.0</td>\n",
       "      <td>0.882222</td>\n",
       "      <td>9</td>\n",
       "      <td>9.0</td>\n",
       "      <td>9.0000</td>\n",
       "      <td>9.0</td>\n",
       "      <td>0.0</td>\n",
       "      <td>9.0</td>\n",
       "      <td>9.0</td>\n",
       "      <td>9.0</td>\n",
       "      <td>9.0</td>\n",
       "      <td>9.0</td>\n",
       "      <td>9.0</td>\n",
       "      <td>9.0</td>\n",
       "      <td>9.0</td>\n",
       "      <td>9.0</td>\n",
       "      <td>9.0</td>\n",
       "      <td>9.0</td>\n",
       "      <td>9.0</td>\n",
       "      <td>883</td>\n",
       "      <td>1</td>\n",
       "      <td>0</td>\n",
       "      <td>0</td>\n",
       "      <td>0</td>\n",
       "      <td>0</td>\n",
       "      <td>0</td>\n",
       "      <td>0</td>\n",
       "      <td>0</td>\n",
       "      <td>0</td>\n",
       "      <td>0</td>\n",
       "      <td>0</td>\n",
       "      <td>0</td>\n",
       "      <td>1</td>\n",
       "      <td>0</td>\n",
       "      <td>0</td>\n",
       "      <td>0</td>\n",
       "      <td>0</td>\n",
       "      <td>0</td>\n",
       "      <td>0</td>\n",
       "      <td>0</td>\n",
       "      <td>0</td>\n",
       "      <td>0</td>\n",
       "      <td>0</td>\n",
       "      <td>0</td>\n",
       "      <td>0</td>\n",
       "      <td>0</td>\n",
       "      <td>0</td>\n",
       "      <td>0</td>\n",
       "    </tr>\n",
       "  </tbody>\n",
       "</table>\n",
       "</div>"
      ],
      "text/plain": [
       "     Sex  Diagnosis_age  Presentation_age  Gestational_age  Heter_Blood  \\\n",
       "0      0            9.0               9.0              9.0     0.882222   \n",
       "107    0            9.0               9.0              9.0     0.882222   \n",
       "319    1            9.0               9.0              9.0     0.882222   \n",
       "318    0            9.0               9.0              9.0     0.882222   \n",
       "92     1            9.0               9.0              9.0     0.882222   \n",
       "\n",
       "     Birth_weight_g  Weight_kg  FVC_predicted  Consanguinity  Deafness  \\\n",
       "0                 9       23.0         9.0000            9.0       0.0   \n",
       "107               9        9.0         3.6254            9.0       0.0   \n",
       "319               9        9.0         9.0000            9.0       9.0   \n",
       "318               9       17.3         9.0000            9.0       9.0   \n",
       "92                9        9.0         9.0000            9.0       0.0   \n",
       "\n",
       "     Hypotonia  Developmental_delay  Resuscitation  Sharp_wave  ECG_Normal  \\\n",
       "0          9.0                  9.0            9.0         0.0         0.0   \n",
       "107        9.0                  9.0            9.0         9.0         9.0   \n",
       "319        1.0                  9.0            9.0         9.0         9.0   \n",
       "318        1.0                  1.0            9.0         9.0         1.0   \n",
       "92         9.0                  9.0            9.0         9.0         9.0   \n",
       "\n",
       "     ECHO_Normal  His_Normal  ComplexI  ComplexII  ComplexIII  ComplexIV  \\\n",
       "0            0.0         9.0       9.0        9.0         9.0        9.0   \n",
       "107          9.0         0.0       1.0        0.0         0.0        1.0   \n",
       "319          9.0         9.0       9.0        9.0         9.0        9.0   \n",
       "318          1.0         0.0       1.0        0.0         0.0        1.0   \n",
       "92           9.0         9.0       9.0        9.0         9.0        9.0   \n",
       "\n",
       "     ComplexV   Age  Event  G_DNM1L  G_MTFMT  G_NARS2  G_NDUFAF7  G_NDUFS1  \\\n",
       "0         9.0  1279      0        0        0        0          0         0   \n",
       "107       0.0  6311      1        0        0        0          0         1   \n",
       "319       9.0  1029      0        0        0        0          0         0   \n",
       "318       0.0  2830      0        0        0        0          0         0   \n",
       "92        9.0   883      1        0        0        0          0         0   \n",
       "\n",
       "     G_NDUFS2  G_NDUFS7  G_NDUFV1  G_PDH Deficiency  G_RARS2  G_SUCLA2  \\\n",
       "0           0         0         0                 0        0         0   \n",
       "107         0         0         0                 0        0         0   \n",
       "319         0         0         0                 0        0         0   \n",
       "318         0         0         0                 0        0         0   \n",
       "92          0         0         0                 0        0         0   \n",
       "\n",
       "     G_SURF1  G_TAC01  G_m.10197G>A  G_m.11778G>A  G_m.13051G>A  G_m.13513G>A  \\\n",
       "0          0        0             0             0             0             1   \n",
       "107        0        0             0             0             0             0   \n",
       "319        1        0             0             0             0             0   \n",
       "318        0        0             0             0             0             0   \n",
       "92         1        0             0             0             0             0   \n",
       "\n",
       "     G_m.14459G>A  G_m.4296G>A  G_m.8993T>C  G_m.8993T>G  G_m.9035T>C  \\\n",
       "0               0            0            0            0            0   \n",
       "107             0            0            0            0            0   \n",
       "319             0            0            0            0            0   \n",
       "318             0            0            0            0            0   \n",
       "92              0            0            0            0            0   \n",
       "\n",
       "     G_mtDNA depletion  Del_Assisted (Instrumental)  \\\n",
       "0                    0                            0   \n",
       "107                  0                            0   \n",
       "319                  0                            0   \n",
       "318                  0                            0   \n",
       "92                   0                            0   \n",
       "\n",
       "     Del_Elective Caesarian Section  Del_Emergency Caesarian Section  \\\n",
       "0                                 0                                0   \n",
       "107                               0                                0   \n",
       "319                               0                                0   \n",
       "318                               0                                0   \n",
       "92                                0                                0   \n",
       "\n",
       "     Del_Normal  \n",
       "0             0  \n",
       "107           0  \n",
       "319           0  \n",
       "318           0  \n",
       "92            0  "
      ]
     },
     "execution_count": 25,
     "metadata": {},
     "output_type": "execute_result"
    }
   ],
   "source": [
    "pd.set_option('display.max_columns', 250)\n",
    "surv_df.head(5)"
   ]
  },
  {
   "cell_type": "markdown",
   "metadata": {},
   "source": [
    "### Splitting Data \n",
    "Split data at 80% into train and test dataset "
   ]
  },
  {
   "cell_type": "code",
   "execution_count": 26,
   "metadata": {},
   "outputs": [],
   "source": [
    "import numpy as np\n",
    "from sklearn.model_selection import train_test_split\n",
    "\n",
    "df_train, df_test = train_test_split(surv_df,test_size=0.2, random_state=0)\n",
    "\n",
    "X_train = df_train.drop(columns = ['Event','Age'])\n",
    "y_train = df_train[['Event','Age']]\n",
    "X_test = df_test.drop(columns = ['Event','Age'])\n",
    "y_test = df_test[['Event','Age']]"
   ]
  },
  {
   "cell_type": "markdown",
   "metadata": {},
   "source": [
    "## Survival Analysis 1 : Kaplan Meier Estimator "
   ]
  },
  {
   "cell_type": "code",
   "execution_count": 27,
   "metadata": {},
   "outputs": [
    {
     "data": {
      "text/plain": [
       "<lifelines.KaplanMeierFitter:\"KM_estimate\", fitted with 44 total observations, 36 right-censored observations>"
      ]
     },
     "execution_count": 27,
     "metadata": {},
     "output_type": "execute_result"
    }
   ],
   "source": [
    "from lifelines import KaplanMeierFitter\n",
    "kmf = KaplanMeierFitter()\n",
    "kmf.fit(y_train['Age'], event_observed=y_train['Event'])"
   ]
  },
  {
   "cell_type": "code",
   "execution_count": 28,
   "metadata": {},
   "outputs": [
    {
     "data": {
      "text/plain": [
       "<AxesSubplot:title={'center':'Survival plot of Leigh patients'}, xlabel='Age (days)', ylabel='Probability of survival'>"
      ]
     },
     "execution_count": 28,
     "metadata": {},
     "output_type": "execute_result"
    },
    {
     "data": {
      "image/png": "[encoded data removed]",
      "text/plain": [
       "<Figure size 576x432 with 2 Axes>"
      ]
     },
     "metadata": {
      "needs_background": "light"
     },
     "output_type": "display_data"
    }
   ],
   "source": [
    "from matplotlib import pyplot as plt\n",
    "from lifelines.plotting import add_at_risk_counts\n",
    "\n",
    "plt.figure(figsize=(8,6))\n",
    "kmf.plot_survival_function()\n",
    "plt.title(\"Survival plot of Leigh patients\");\n",
    "plt.ylabel(\"Probability of survival\")\n",
    "plt.xlabel(\"Age (days)\")\n",
    "\n",
    "add_at_risk_counts(kmf)"
   ]
  },
  {
   "cell_type": "markdown",
   "metadata": {},
   "source": [
    "## Survival Analysis 2 : Cox PH "
   ]
  },
  {
   "cell_type": "code",
   "execution_count": 29,
   "metadata": {},
   "outputs": [],
   "source": [
    "import pandas as pd\n",
    "import numpy as np\n",
    "import matplotlib.pyplot as plt\n",
    "%matplotlib inline\n",
    "\n",
    "from sksurv.linear_model import CoxPHSurvivalAnalysis, CoxnetSurvivalAnalysis\n",
    "from sklearn.model_selection import GridSearchCV, KFold\n"
   ]
  },
  {
   "cell_type": "code",
   "execution_count": 30,
   "metadata": {},
   "outputs": [],
   "source": [
    "# Formatting y dataframe into tuple array \n",
    "y_train['Event'] = y_train['Event'].replace([1],True)\n",
    "y_train['Event'] = y_train['Event'].replace([0],False)\n",
    "y_train = y_train.to_records(index=False)"
   ]
  },
  {
   "cell_type": "code",
   "execution_count": 31,
   "metadata": {},
   "outputs": [
    {
     "data": {
      "text/plain": [
       "CoxPHSurvivalAnalysis(alpha=0.1)"
      ]
     },
     "execution_count": 31,
     "metadata": {},
     "output_type": "execute_result"
    }
   ],
   "source": [
    "import warnings\n",
    "from sklearn.exceptions import ConvergenceWarning\n",
    "from sklearn.pipeline import make_pipeline\n",
    "from sklearn.preprocessing import StandardScaler\n",
    "\n",
    "cph = CoxPHSurvivalAnalysis(alpha=0.1)\n",
    "cph.fit(X_train, y_train)\n"
   ]
  },
  {
   "cell_type": "code",
   "execution_count": 33,
   "metadata": {},
   "outputs": [
    {
     "data": {
      "text/html": [
       "<div>\n",
       "<style scoped>\n",
       "    .dataframe tbody tr th:only-of-type {\n",
       "        vertical-align: middle;\n",
       "    }\n",
       "\n",
       "    .dataframe tbody tr th {\n",
       "        vertical-align: top;\n",
       "    }\n",
       "\n",
       "    .dataframe thead th {\n",
       "        text-align: right;\n",
       "    }\n",
       "</style>\n",
       "<table border=\"1\" class=\"dataframe\">\n",
       "  <thead>\n",
       "    <tr style=\"text-align: right;\">\n",
       "      <th></th>\n",
       "      <th>coefficient</th>\n",
       "    </tr>\n",
       "  </thead>\n",
       "  <tbody>\n",
       "    <tr>\n",
       "      <th>G_SURF1</th>\n",
       "      <td>2.992240e+00</td>\n",
       "    </tr>\n",
       "    <tr>\n",
       "      <th>Sharp_wave</th>\n",
       "      <td>2.134048e+00</td>\n",
       "    </tr>\n",
       "    <tr>\n",
       "      <th>Del_Elective Caesarian Section</th>\n",
       "      <td>1.903019e+00</td>\n",
       "    </tr>\n",
       "    <tr>\n",
       "      <th>ComplexIV</th>\n",
       "      <td>1.764941e+00</td>\n",
       "    </tr>\n",
       "    <tr>\n",
       "      <th>Developmental_delay</th>\n",
       "      <td>1.604620e+00</td>\n",
       "    </tr>\n",
       "    <tr>\n",
       "      <th>G_DNM1L</th>\n",
       "      <td>1.563219e+00</td>\n",
       "    </tr>\n",
       "    <tr>\n",
       "      <th>Deafness</th>\n",
       "      <td>9.848384e-01</td>\n",
       "    </tr>\n",
       "    <tr>\n",
       "      <th>Resuscitation</th>\n",
       "      <td>6.895875e-01</td>\n",
       "    </tr>\n",
       "    <tr>\n",
       "      <th>G_m.8993T&gt;G</th>\n",
       "      <td>5.130742e-01</td>\n",
       "    </tr>\n",
       "    <tr>\n",
       "      <th>Hypotonia</th>\n",
       "      <td>4.582705e-01</td>\n",
       "    </tr>\n",
       "    <tr>\n",
       "      <th>G_m.10197G&gt;A</th>\n",
       "      <td>3.102015e-01</td>\n",
       "    </tr>\n",
       "    <tr>\n",
       "      <th>ECHO_Normal</th>\n",
       "      <td>1.627650e-01</td>\n",
       "    </tr>\n",
       "    <tr>\n",
       "      <th>Gestational_age</th>\n",
       "      <td>9.156771e-02</td>\n",
       "    </tr>\n",
       "    <tr>\n",
       "      <th>G_NDUFS1</th>\n",
       "      <td>8.718915e-02</td>\n",
       "    </tr>\n",
       "    <tr>\n",
       "      <th>Heter_Blood</th>\n",
       "      <td>3.016886e-10</td>\n",
       "    </tr>\n",
       "    <tr>\n",
       "      <th>G_m.8993T&gt;C</th>\n",
       "      <td>0.000000e+00</td>\n",
       "    </tr>\n",
       "    <tr>\n",
       "      <th>Del_Assisted (Instrumental)</th>\n",
       "      <td>0.000000e+00</td>\n",
       "    </tr>\n",
       "    <tr>\n",
       "      <th>G_m.11778G&gt;A</th>\n",
       "      <td>0.000000e+00</td>\n",
       "    </tr>\n",
       "    <tr>\n",
       "      <th>G_m.9035T&gt;C</th>\n",
       "      <td>-1.890621e-10</td>\n",
       "    </tr>\n",
       "    <tr>\n",
       "      <th>G_PDH Deficiency</th>\n",
       "      <td>-2.843628e-09</td>\n",
       "    </tr>\n",
       "    <tr>\n",
       "      <th>G_MTFMT</th>\n",
       "      <td>-2.945595e-08</td>\n",
       "    </tr>\n",
       "    <tr>\n",
       "      <th>G_RARS2</th>\n",
       "      <td>-4.163511e-08</td>\n",
       "    </tr>\n",
       "    <tr>\n",
       "      <th>G_m.13513G&gt;A</th>\n",
       "      <td>-1.758639e-07</td>\n",
       "    </tr>\n",
       "    <tr>\n",
       "      <th>G_NARS2</th>\n",
       "      <td>-2.716982e-07</td>\n",
       "    </tr>\n",
       "    <tr>\n",
       "      <th>G_NDUFS7</th>\n",
       "      <td>-2.985495e-06</td>\n",
       "    </tr>\n",
       "    <tr>\n",
       "      <th>G_m.14459G&gt;A</th>\n",
       "      <td>-6.826874e-06</td>\n",
       "    </tr>\n",
       "    <tr>\n",
       "      <th>G_mtDNA depletion</th>\n",
       "      <td>-8.984263e-05</td>\n",
       "    </tr>\n",
       "    <tr>\n",
       "      <th>G_m.4296G&gt;A</th>\n",
       "      <td>-3.861843e-04</td>\n",
       "    </tr>\n",
       "    <tr>\n",
       "      <th>G_NDUFAF7</th>\n",
       "      <td>-1.198278e-02</td>\n",
       "    </tr>\n",
       "    <tr>\n",
       "      <th>Consanguinity</th>\n",
       "      <td>-7.367120e-02</td>\n",
       "    </tr>\n",
       "    <tr>\n",
       "      <th>G_NDUFS2</th>\n",
       "      <td>-9.919493e-02</td>\n",
       "    </tr>\n",
       "    <tr>\n",
       "      <th>G_TAC01</th>\n",
       "      <td>-1.148574e-01</td>\n",
       "    </tr>\n",
       "    <tr>\n",
       "      <th>ComplexII</th>\n",
       "      <td>-1.227702e-01</td>\n",
       "    </tr>\n",
       "    <tr>\n",
       "      <th>ComplexIII</th>\n",
       "      <td>-1.227702e-01</td>\n",
       "    </tr>\n",
       "    <tr>\n",
       "      <th>ComplexV</th>\n",
       "      <td>-1.227702e-01</td>\n",
       "    </tr>\n",
       "    <tr>\n",
       "      <th>Weight_kg</th>\n",
       "      <td>-3.012074e-01</td>\n",
       "    </tr>\n",
       "    <tr>\n",
       "      <th>G_SUCLA2</th>\n",
       "      <td>-3.036181e-01</td>\n",
       "    </tr>\n",
       "    <tr>\n",
       "      <th>Del_Emergency Caesarian Section</th>\n",
       "      <td>-3.106872e-01</td>\n",
       "    </tr>\n",
       "    <tr>\n",
       "      <th>Sex</th>\n",
       "      <td>-3.128103e-01</td>\n",
       "    </tr>\n",
       "    <tr>\n",
       "      <th>Diagnosis_age</th>\n",
       "      <td>-3.604219e-01</td>\n",
       "    </tr>\n",
       "    <tr>\n",
       "      <th>Presentation_age</th>\n",
       "      <td>-4.488466e-01</td>\n",
       "    </tr>\n",
       "    <tr>\n",
       "      <th>His_Normal</th>\n",
       "      <td>-5.367185e-01</td>\n",
       "    </tr>\n",
       "    <tr>\n",
       "      <th>G_NDUFV1</th>\n",
       "      <td>-6.614318e-01</td>\n",
       "    </tr>\n",
       "    <tr>\n",
       "      <th>G_m.13051G&gt;A</th>\n",
       "      <td>-6.979755e-01</td>\n",
       "    </tr>\n",
       "    <tr>\n",
       "      <th>FVC_predicted</th>\n",
       "      <td>-9.837557e-01</td>\n",
       "    </tr>\n",
       "    <tr>\n",
       "      <th>Birth_weight_g</th>\n",
       "      <td>-1.192205e+00</td>\n",
       "    </tr>\n",
       "    <tr>\n",
       "      <th>Del_Normal</th>\n",
       "      <td>-1.375103e+00</td>\n",
       "    </tr>\n",
       "    <tr>\n",
       "      <th>ComplexI</th>\n",
       "      <td>-1.520496e+00</td>\n",
       "    </tr>\n",
       "    <tr>\n",
       "      <th>ECG_Normal</th>\n",
       "      <td>-1.824021e+00</td>\n",
       "    </tr>\n",
       "  </tbody>\n",
       "</table>\n",
       "</div>"
      ],
      "text/plain": [
       "                                  coefficient\n",
       "G_SURF1                          2.992240e+00\n",
       "Sharp_wave                       2.134048e+00\n",
       "Del_Elective Caesarian Section   1.903019e+00\n",
       "ComplexIV                        1.764941e+00\n",
       "Developmental_delay              1.604620e+00\n",
       "G_DNM1L                          1.563219e+00\n",
       "Deafness                         9.848384e-01\n",
       "Resuscitation                    6.895875e-01\n",
       "G_m.8993T>G                      5.130742e-01\n",
       "Hypotonia                        4.582705e-01\n",
       "G_m.10197G>A                     3.102015e-01\n",
       "ECHO_Normal                      1.627650e-01\n",
       "Gestational_age                  9.156771e-02\n",
       "G_NDUFS1                         8.718915e-02\n",
       "Heter_Blood                      3.016886e-10\n",
       "G_m.8993T>C                      0.000000e+00\n",
       "Del_Assisted (Instrumental)      0.000000e+00\n",
       "G_m.11778G>A                     0.000000e+00\n",
       "G_m.9035T>C                     -1.890621e-10\n",
       "G_PDH Deficiency                -2.843628e-09\n",
       "G_MTFMT                         -2.945595e-08\n",
       "G_RARS2                         -4.163511e-08\n",
       "G_m.13513G>A                    -1.758639e-07\n",
       "G_NARS2                         -2.716982e-07\n",
       "G_NDUFS7                        -2.985495e-06\n",
       "G_m.14459G>A                    -6.826874e-06\n",
       "G_mtDNA depletion               -8.984263e-05\n",
       "G_m.4296G>A                     -3.861843e-04\n",
       "G_NDUFAF7                       -1.198278e-02\n",
       "Consanguinity                   -7.367120e-02\n",
       "G_NDUFS2                        -9.919493e-02\n",
       "G_TAC01                         -1.148574e-01\n",
       "ComplexII                       -1.227702e-01\n",
       "ComplexIII                      -1.227702e-01\n",
       "ComplexV                        -1.227702e-01\n",
       "Weight_kg                       -3.012074e-01\n",
       "G_SUCLA2                        -3.036181e-01\n",
       "Del_Emergency Caesarian Section -3.106872e-01\n",
       "Sex                             -3.128103e-01\n",
       "Diagnosis_age                   -3.604219e-01\n",
       "Presentation_age                -4.488466e-01\n",
       "His_Normal                      -5.367185e-01\n",
       "G_NDUFV1                        -6.614318e-01\n",
       "G_m.13051G>A                    -6.979755e-01\n",
       "FVC_predicted                   -9.837557e-01\n",
       "Birth_weight_g                  -1.192205e+00\n",
       "Del_Normal                      -1.375103e+00\n",
       "ComplexI                        -1.520496e+00\n",
       "ECG_Normal                      -1.824021e+00"
      ]
     },
     "execution_count": 33,
     "metadata": {},
     "output_type": "execute_result"
    }
   ],
   "source": [
    "coef= cph.coef_\n",
    "coefficients = pd.DataFrame(coef,columns=['coefficient'],index=X_train.columns)\n",
    "coefficients.sort_values(by='coefficient',ascending=False)"
   ]
  },
  {
   "cell_type": "code",
   "execution_count": 34,
   "metadata": {},
   "outputs": [
    {
     "name": "stdout",
     "output_type": "stream",
     "text": [
      "concordance index: 0.3333333333333333\n"
     ]
    }
   ],
   "source": [
    "from sksurv.metrics import concordance_index_censored\n",
    "\n",
    "y_test['Event'] = y_test['Event'].replace([1],True)\n",
    "y_test['Event'] = y_test['Event'].replace([0],False)\n",
    "y_test = y_test.to_records(index=False)\n",
    "\n",
    "prediction = cph.predict(X_test)\n",
    "result = concordance_index_censored(y_test[\"Event\"], y_test[\"Age\"], prediction)\n",
    "print(\"concordance index:\", result[0] )\n"
   ]
  },
  {
   "cell_type": "code",
   "execution_count": 35,
   "metadata": {},
   "outputs": [],
   "source": [
    "\n",
    "from sksurv.linear_model import CoxPHSurvivalAnalysis, CoxnetSurvivalAnalysis\n",
    "\n",
    "\n",
    "from sklearn.model_selection import GridSearchCV, KFold\n",
    "from sklearn.pipeline import make_pipeline\n",
    "\n"
   ]
  },
  {
   "cell_type": "code",
   "execution_count": 36,
   "metadata": {},
   "outputs": [
    {
     "data": {
      "text/plain": [
       "Pipeline(steps=[('standardscaler', StandardScaler()),\n",
       "                ('coxnetsurvivalanalysis', CoxnetSurvivalAnalysis())])"
      ]
     },
     "execution_count": 36,
     "metadata": {},
     "output_type": "execute_result"
    }
   ],
   "source": [
    "import warnings\n",
    "from sklearn.exceptions import ConvergenceWarning\n",
    "from sklearn.pipeline import make_pipeline\n",
    "from sklearn.preprocessing import StandardScaler\n",
    "\n",
    "coxnet_pipe = make_pipeline(\n",
    "    StandardScaler(),\n",
    "    CoxnetSurvivalAnalysis()\n",
    ")\n",
    "warnings.simplefilter(\"ignore\", ConvergenceWarning)\n",
    "coxnet_pipe.fit(X_train, y_train)"
   ]
  },
  {
   "cell_type": "code",
   "execution_count": 37,
   "metadata": {},
   "outputs": [],
   "source": [
    "estimated_alphas = coxnet_pipe.named_steps[\"coxnetsurvivalanalysis\"].alphas_\n",
    "cv = KFold(n_splits=5, shuffle=True, random_state=0)\n",
    "gcv = GridSearchCV(\n",
    "    make_pipeline(StandardScaler(), CoxnetSurvivalAnalysis()),\n",
    "    param_grid={\"coxnetsurvivalanalysis__alphas\": [[v] for v in estimated_alphas]},\n",
    "    cv=cv,\n",
    "    error_score=0.5,\n",
    "    n_jobs=4).fit(X_train, y_train)\n",
    "\n",
    "cv_results = pd.DataFrame(gcv.cv_results_)"
   ]
  },
  {
   "cell_type": "code",
   "execution_count": 38,
   "metadata": {},
   "outputs": [
    {
     "data": {
      "image/png": "[encoded data removed]",
      "text/plain": [
       "<Figure size 648x432 with 1 Axes>"
      ]
     },
     "metadata": {
      "needs_background": "light"
     },
     "output_type": "display_data"
    }
   ],
   "source": [
    "alphas = cv_results.param_coxnetsurvivalanalysis__alphas.map(lambda x: x[0])\n",
    "mean = cv_results.mean_test_score\n",
    "std = cv_results.std_test_score\n",
    "\n",
    "fig, ax = plt.subplots(figsize=(9, 6))\n",
    "ax.plot(alphas, mean)\n",
    "ax.fill_between(alphas, mean - std, mean + std, alpha=.15)\n",
    "ax.set_xscale(\"log\")\n",
    "ax.set_ylabel(\"concordance index\")\n",
    "ax.set_xlabel(\"alpha\")\n",
    "ax.axvline(gcv.best_params_[\"coxnetsurvivalanalysis__alphas\"][0], c=\"C1\")\n",
    "ax.axhline(0.5, color=\"grey\", linestyle=\"--\")\n",
    "ax.grid(True)"
   ]
  },
  {
   "cell_type": "code",
   "execution_count": 39,
   "metadata": {},
   "outputs": [
    {
     "name": "stdout",
     "output_type": "stream",
     "text": [
      "Number of non-zero coefficients: 8\n"
     ]
    },
    {
     "data": {
      "image/png": "[encoded data removed]",
      "text/plain": [
       "<Figure size 432x576 with 1 Axes>"
      ]
     },
     "metadata": {
      "needs_background": "light"
     },
     "output_type": "display_data"
    }
   ],
   "source": [
    "best_model = gcv.best_estimator_.named_steps[\"coxnetsurvivalanalysis\"]\n",
    "best_coefs = pd.DataFrame(\n",
    "    best_model.coef_,\n",
    "    index=X_train.columns,\n",
    "    columns=[\"coefficient\"]\n",
    ")\n",
    "\n",
    "non_zero = np.sum(best_coefs.iloc[:, 0] != 0)\n",
    "print(\"Number of non-zero coefficients: {}\".format(non_zero))\n",
    "\n",
    "non_zero_coefs = best_coefs.query(\"coefficient != 0\")\n",
    "coef_order = non_zero_coefs.abs().sort_values(\"coefficient\").index\n",
    "\n",
    "_, ax = plt.subplots(figsize=(6, 8))\n",
    "non_zero_coefs.loc[coef_order].plot.barh(ax=ax, legend=False)\n",
    "ax.set_xlabel(\"coefficient\")\n",
    "ax.grid(True)"
   ]
  },
  {
   "cell_type": "code",
   "execution_count": 40,
   "metadata": {},
   "outputs": [
    {
     "data": {
      "text/html": [
       "<div>\n",
       "<style scoped>\n",
       "    .dataframe tbody tr th:only-of-type {\n",
       "        vertical-align: middle;\n",
       "    }\n",
       "\n",
       "    .dataframe tbody tr th {\n",
       "        vertical-align: top;\n",
       "    }\n",
       "\n",
       "    .dataframe thead th {\n",
       "        text-align: right;\n",
       "    }\n",
       "</style>\n",
       "<table border=\"1\" class=\"dataframe\">\n",
       "  <thead>\n",
       "    <tr style=\"text-align: right;\">\n",
       "      <th></th>\n",
       "      <th>coefficient</th>\n",
       "    </tr>\n",
       "  </thead>\n",
       "  <tbody>\n",
       "    <tr>\n",
       "      <th>G_SURF1</th>\n",
       "      <td>0.372345</td>\n",
       "    </tr>\n",
       "    <tr>\n",
       "      <th>G_m.10197G&gt;A</th>\n",
       "      <td>0.174818</td>\n",
       "    </tr>\n",
       "    <tr>\n",
       "      <th>Del_Elective Caesarian Section</th>\n",
       "      <td>0.160208</td>\n",
       "    </tr>\n",
       "    <tr>\n",
       "      <th>Sharp_wave</th>\n",
       "      <td>0.086273</td>\n",
       "    </tr>\n",
       "    <tr>\n",
       "      <th>G_NDUFS1</th>\n",
       "      <td>0.052727</td>\n",
       "    </tr>\n",
       "    <tr>\n",
       "      <th>Presentation_age</th>\n",
       "      <td>-0.107946</td>\n",
       "    </tr>\n",
       "    <tr>\n",
       "      <th>Diagnosis_age</th>\n",
       "      <td>-0.159086</td>\n",
       "    </tr>\n",
       "    <tr>\n",
       "      <th>Weight_kg</th>\n",
       "      <td>-0.193894</td>\n",
       "    </tr>\n",
       "  </tbody>\n",
       "</table>\n",
       "</div>"
      ],
      "text/plain": [
       "                                coefficient\n",
       "G_SURF1                            0.372345\n",
       "G_m.10197G>A                       0.174818\n",
       "Del_Elective Caesarian Section     0.160208\n",
       "Sharp_wave                         0.086273\n",
       "G_NDUFS1                           0.052727\n",
       "Presentation_age                  -0.107946\n",
       "Diagnosis_age                     -0.159086\n",
       "Weight_kg                         -0.193894"
      ]
     },
     "execution_count": 40,
     "metadata": {},
     "output_type": "execute_result"
    }
   ],
   "source": [
    "non_zero_coefs.sort_values(by='coefficient',ascending=False)"
   ]
  },
  {
   "cell_type": "code",
   "execution_count": 41,
   "metadata": {},
   "outputs": [
    {
     "name": "stdout",
     "output_type": "stream",
     "text": [
      "concordance index: 0.8888888888888888\n"
     ]
    }
   ],
   "source": [
    "prediction =  gcv.best_estimator_.predict(X_test)\n",
    "result = concordance_index_censored(y_test[\"Event\"], y_test[\"Age\"], prediction)\n",
    "print(\"concordance index:\", result[0])"
   ]
  },
  {
   "cell_type": "markdown",
   "metadata": {},
   "source": [
    "## Handling Missingness - Cycle 2\n",
    "Columns which have missingness of 40% and above in each dataframe are removed."
   ]
  },
  {
   "cell_type": "code",
   "execution_count": 42,
   "metadata": {},
   "outputs": [],
   "source": [
    "# Same sheet types are concatenated into one dataframe per sheet \n",
    "all =  pd.concat([all_ncl,all_ucl,all_oxf],ignore_index=True)\n",
    "gen =  pd.concat([gen_ncl,gen_ucl,gen_oxf],ignore_index=True)\n",
    "his =  pd.concat([his_ncl,his_ucl,his_oxf],ignore_index=True)\n",
    "heter = pd.concat([heter_ncl,heter_ucl,heter_oxf],ignore_index=True)\n",
    "clin = pd.concat([clin_ncl,clin_ucl,clin_oxf],ignore_index=True)\n",
    "phen = pd.concat([phen_ncl,phen_ucl,phen_oxf],ignore_index=True)\n",
    "sys = pd.concat([sys_ncl,sys_ucl,sys_oxf],ignore_index=True)\n",
    "fam = pd.concat([fam_ncl,fam_ucl,fam_oxf],ignore_index=True)\n",
    "soc = pd.concat([soc_ncl,soc_ucl,soc_oxf],ignore_index=True)\n",
    "blood = pd.concat([blood_ncl,blood_ucl,blood_oxf],ignore_index=True)\n",
    "neuro = pd.concat([neuro_ncl,neuro_ucl,neuro_oxf],ignore_index=True)\n",
    "img = pd.concat([img_ncl,img_ucl,img_oxf],ignore_index=True)\n",
    "car = pd.concat([car_ncl,car_ucl,car_oxf],ignore_index=True)\n",
    "opth = pd.concat([opth_ncl,opth_ucl,opth_oxf],ignore_index=True)\n",
    "aud = pd.concat([aud_ncl,aud_ucl,aud_oxf],ignore_index=True)\n",
    "trans = pd.concat([trans_ncl,trans_ucl,trans_oxf],ignore_index=True)\n",
    "nmdas = pd.concat([nmdas_ncl,nmdas_ucl,nmdas_oxf],ignore_index=True)\n",
    "paed = pd.concat([paed_ncl,paed_ucl,paed_oxf],ignore_index=True)\n",
    "npmds = pd.concat([npmds_ncl,npmds_ucl,npmds_oxf],ignore_index=True)\n",
    "mort = pd.concat([mort_ncl,mort_ucl,mort_oxf],ignore_index=True)"
   ]
  },
  {
   "cell_type": "code",
   "execution_count": 43,
   "metadata": {},
   "outputs": [],
   "source": [
    "# the date columns for sheets that are not converted to datetime format are converted \n",
    "\n",
    "df_date = [his,heter,clin,phen,sys,paed]\n",
    "\n",
    "for df in df_date:\n",
    "    df['Date'] = pd.to_datetime(df['Date'],errors='coerce')"
   ]
  },
  {
   "cell_type": "code",
   "execution_count": 44,
   "metadata": {},
   "outputs": [],
   "source": [
    "# Remove rows that have NA for Date columns in each dataset\n",
    "df_date = [his,heter,clin,phen,sys,blood,neuro,car,opth,aud]\n",
    "\n",
    "for df in df_date:\n",
    "    df.dropna( how='any',subset=['Date'],inplace=True)"
   ]
  },
  {
   "cell_type": "code",
   "execution_count": 45,
   "metadata": {},
   "outputs": [],
   "source": [
    "# Other column that contains notes from Genetics data is removed\n",
    "gen.drop(columns = [\"Other notes\"],inplace=True)\n",
    "\n",
    "# Age from Heterogenous column is removed as it can be calculated from columns \n",
    "heter.drop(columns = [\"Age\"],inplace=True)\n",
    "\n",
    "# Three columns in Histochemistry sheet that have more than 60% missingness are removed\n",
    "his.drop(columns = [\"Histochemistry\",\"COX deficient fibers (%)\",\"RRF (%)\"],inplace=True)\n",
    "\n",
    "# Drop redundant Sex column in clin dataframe\n",
    "clin.drop(columns = [\"Sex\"],inplace=True)\n",
    "\n",
    "\n",
    "# Uninformative column from Neurophysiology data is removed\n",
    "neuro.drop(columns = [\"EEG Report\"],inplace=True)\n",
    "\n",
    "# Date columns for time-independent features are removed\n",
    "paed.drop(columns = [\"Date\"],inplace=True)\n",
    "\n",
    "fam.drop(columns = [\"Date\"],inplace=True)\n",
    "\n",
    "# dropping columns with all NA in mortality dataset\n",
    "mort.dropna(axis=1, how='all',inplace=True)\n"
   ]
  },
  {
   "cell_type": "code",
   "execution_count": 46,
   "metadata": {},
   "outputs": [],
   "source": [
    "# use replace\n",
    "all.rename(columns = {'Unique ID':'UniqueID','Birth date':'Birth_date', 'Death date':'Death_date'},inplace=True)\n",
    "\n",
    "gen.rename(columns = {'Unique ID':'UniqueID'},inplace=True)\n",
    "\n",
    "his.rename(columns = {'Unique ID':'UniqueID','Normal':'His_Normal','Complex I':'ComplexI','Complex II':'ComplexII','Complex III':'ComplexIII','Complex IV':'ComplexIV','Complex V':'ComplexV'},inplace=True)\n",
    "\n",
    "heter.rename(columns = {'Unique ID':'UniqueID'},inplace=True)\n",
    "\n",
    "clin.rename(columns = {'Unique ID':'UniqueID'},inplace=True)\n",
    "\n",
    "phen.rename(columns = {'Unique ID':'UniqueID'},inplace=True)\n",
    "\n",
    "sys.rename(columns = {'Unique ID':'UniqueID'} ,inplace=True)\n",
    "\n",
    "blood.rename(columns = {'Unique ID':'UniqueID','Hemoglobin (Hb) (g/L)':'Hemoglobin', 'Sodium (Na)':'Sodium',\n",
    "                 'Potassium (K)':'Potassium','Alanine aminotransferase (ALT)':'Alanine_aminotransferase'}, inplace=True)\n",
    "\n",
    "neuro.rename(columns = {'Unique ID':'UniqueID'} ,inplace=True)\n",
    "\n",
    "car.rename(columns = {'Unique ID':'UniqueID','Normal':'ECG_Normal', 'Normal.1':'ECHO_Normal'}, inplace=True)\n",
    "\n",
    "opth.rename(columns = {'Unique ID':'UniqueID','Normal':'Opth_Normal'}, inplace=True)\n",
    "\n",
    "aud.rename(columns = {'Unique ID':'UniqueID'}, inplace=True)\n",
    "\n",
    "paed.rename(columns = {'Unique ID':'UniqueID', 'Diagnosis age':'Diagnosis_age',\n",
    "                'Diagnosis_basis':'Diagnosis_basis','Gestational age':'Gestational_age',\n",
    "                'Delivery method':'Delivery_method'}, inplace=True)\n",
    "\n",
    "mort.rename(columns = {'Unique ID':'UniqueID','Age at death':'Age_at_death','Cause of Death Ia)':'Cause_of_Death_Ia'},inplace=True)\n",
    "\n",
    "fam.rename(columns = {'Unique ID':'UniqueID'}, inplace=True)\n",
    "\n",
    "# Replacing non-numerical value for numerical columns\n",
    "blood['Bilirubin'] = blood['Bilirubin'].replace(['<3'],0)\n",
    "\n",
    "\n",
    "all.loc[all.UniqueID == 'ee9e', 'Sex'] = 'F' #replace the sex of patient ee9e"
   ]
  },
  {
   "cell_type": "code",
   "execution_count": 47,
   "metadata": {},
   "outputs": [],
   "source": [
    "his[['His_Normal','ComplexI','ComplexII','ComplexIII','ComplexIV','ComplexV']] = his[['His_Normal','ComplexI','ComplexII','ComplexIII','ComplexIV','ComplexV']].fillna(0)\n",
    "car[['ECG_Normal','ECHO_Normal']] = car[['ECG_Normal','ECHO_Normal']].fillna(0) \n",
    "opth[['Opth_Normal']] = opth[['Opth_Normal']].fillna(0) \n"
   ]
  },
  {
   "cell_type": "code",
   "execution_count": 48,
   "metadata": {},
   "outputs": [],
   "source": [
    "# Combining dataframes with temporal clinical outcomes\n",
    "temporal = pd.merge(his, heter, on=[\"UniqueID\", \"Date\"],how='outer')\n",
    "temporal = pd.merge(temporal, clin, on=[\"UniqueID\", \"Date\"],how='outer')\n",
    "temporal = pd.merge(temporal, phen, on=[\"UniqueID\", \"Date\"],how='outer')\n",
    "temporal = pd.merge(temporal, sys, on=[\"UniqueID\", \"Date\"],how='outer')\n",
    "temporal = pd.merge(temporal, blood, on=[\"UniqueID\", \"Date\"],how='outer')\n",
    "temporal = pd.merge(temporal, neuro, on=[\"UniqueID\", \"Date\"],how='outer')\n",
    "temporal = pd.merge(temporal, car, on=[\"UniqueID\", \"Date\"],how='outer')\n",
    "temporal = pd.merge(temporal, opth, on=[\"UniqueID\", \"Date\"],how='outer')\n",
    "temporal = pd.merge(temporal, aud, on=[\"UniqueID\", \"Date\"],how='outer')\n",
    "\n",
    "# Combining dataframes for time-independent patient characteristics\n",
    "char = pd.merge(all, gen, on=[\"UniqueID\"],how='left')\n",
    "char = pd.merge(char, paed, on=[\"UniqueID\"],how='left')\n",
    "char = pd.merge(char, fam, on=[\"UniqueID\"],how='left')\n",
    "\n",
    "# Merging both datasets together\n",
    "df_combined =  pd.merge(char,temporal, on=[\"UniqueID\"],how='left')"
   ]
  },
  {
   "cell_type": "code",
   "execution_count": 49,
   "metadata": {},
   "outputs": [
    {
     "data": {
      "text/plain": [
       "(354, 322)"
      ]
     },
     "execution_count": 49,
     "metadata": {},
     "output_type": "execute_result"
    }
   ],
   "source": [
    "df_combined.shape"
   ]
  },
  {
   "cell_type": "code",
   "execution_count": 50,
   "metadata": {},
   "outputs": [],
   "source": [
    "limitPer = len(df_combined) * .60\n",
    "df_combined.dropna(axis=1,thresh=limitPer,inplace=True)\n",
    "df_combined.drop(columns=['Gestational_age','Delivery_method'],inplace=True)"
   ]
  },
  {
   "cell_type": "code",
   "execution_count": 51,
   "metadata": {},
   "outputs": [],
   "source": [
    "df_condensed = df_combined\n",
    "# Informative imputation\n",
    "df_condensed['Genetics']=df_condensed['Genetics'].fillna(9)\n",
    "df_condensed = pd.merge(df_condensed, all[['UniqueID','Death_date']], on=[\"UniqueID\"],how='left')"
   ]
  },
  {
   "cell_type": "markdown",
   "metadata": {},
   "source": [
    "## Data Preparation - Cycle 2"
   ]
  },
  {
   "cell_type": "code",
   "execution_count": 52,
   "metadata": {},
   "outputs": [],
   "source": [
    "# Preparing data for survival analysis \n",
    "surv_df = df_condensed\n",
    "\n",
    "# Removing records with dates prior to birth date\n",
    "surv_df = surv_df[surv_df[\"Date\"] > surv_df[\"Birth_date\"]] \n",
    "\n",
    "# Keeping last date seen \n",
    "surv_df = surv_df.sort_values(by=\"Date\").drop_duplicates(subset=[\"UniqueID\"], keep=\"last\")\n",
    "\n",
    "# Calculating patient age at date of visit/record\n",
    "surv_df['Age'] = surv_df.apply(lambda x: x['Death_date']-x['Birth_date'] \\\n",
    "                               if(pd.notnull(x['Death_date'])) \\\n",
    "                               else x['Date']- x['Birth_date'], axis = 1)\n",
    "#Converting Age to Years\n",
    "surv_df['Age'] = surv_df['Age'].astype('timedelta64[D]').astype(int)\n",
    "\n",
    "# Recording Event - Death or Right Censored\n",
    "surv_df['Event'] =  surv_df.apply(lambda x: 0 \\\n",
    "                               if(pd.isnull(x['Death_date'])) \\\n",
    "                               else 1, axis = 1)\n",
    "# Dropping unecessary columns \n",
    "surv_df.drop(columns=['Birth_date','Death_date','Date','UniqueID','Institution'],inplace=True)\n",
    "\n",
    "from sklearn.preprocessing import LabelEncoder\n",
    "\n",
    "# creating instance of labelencoder\n",
    "labelencoder = LabelEncoder()\n",
    "# Assigning numerical values and storing in another column\n",
    "surv_df['Sex'] = labelencoder.fit_transform(surv_df['Sex'])\n",
    "\n",
    "surv_df['Genetics']=surv_df['Genetics'].replace({'Unknown':9,'Other':9})\n",
    "\n",
    "surv_df = pd.get_dummies(surv_df,columns=['Genetics'],drop_first=True,prefix='G')"
   ]
  },
  {
   "cell_type": "code",
   "execution_count": 53,
   "metadata": {},
   "outputs": [
    {
     "data": {
      "text/html": [
       "<div>\n",
       "<style scoped>\n",
       "    .dataframe tbody tr th:only-of-type {\n",
       "        vertical-align: middle;\n",
       "    }\n",
       "\n",
       "    .dataframe tbody tr th {\n",
       "        vertical-align: top;\n",
       "    }\n",
       "\n",
       "    .dataframe thead th {\n",
       "        text-align: right;\n",
       "    }\n",
       "</style>\n",
       "<table border=\"1\" class=\"dataframe\">\n",
       "  <thead>\n",
       "    <tr style=\"text-align: right;\">\n",
       "      <th></th>\n",
       "      <th>Sex</th>\n",
       "      <th>Age</th>\n",
       "      <th>Event</th>\n",
       "      <th>G_DNM1L</th>\n",
       "      <th>G_MTFMT</th>\n",
       "      <th>G_NARS2</th>\n",
       "      <th>G_NDUFAF7</th>\n",
       "      <th>G_NDUFS1</th>\n",
       "      <th>G_NDUFS2</th>\n",
       "      <th>G_NDUFS7</th>\n",
       "      <th>G_NDUFV1</th>\n",
       "      <th>G_PDH Deficiency</th>\n",
       "      <th>G_RARS2</th>\n",
       "      <th>G_SUCLA2</th>\n",
       "      <th>G_SURF1</th>\n",
       "      <th>G_TAC01</th>\n",
       "      <th>G_m.10197G&gt;A</th>\n",
       "      <th>G_m.11778G&gt;A</th>\n",
       "      <th>G_m.13051G&gt;A</th>\n",
       "      <th>G_m.13513G&gt;A</th>\n",
       "      <th>G_m.14459G&gt;A</th>\n",
       "      <th>G_m.4296G&gt;A</th>\n",
       "      <th>G_m.8993T&gt;C</th>\n",
       "      <th>G_m.8993T&gt;G</th>\n",
       "      <th>G_m.9035T&gt;C</th>\n",
       "      <th>G_mtDNA depletion</th>\n",
       "    </tr>\n",
       "  </thead>\n",
       "  <tbody>\n",
       "    <tr>\n",
       "      <th>0</th>\n",
       "      <td>0</td>\n",
       "      <td>1279</td>\n",
       "      <td>0</td>\n",
       "      <td>0</td>\n",
       "      <td>0</td>\n",
       "      <td>0</td>\n",
       "      <td>0</td>\n",
       "      <td>0</td>\n",
       "      <td>0</td>\n",
       "      <td>0</td>\n",
       "      <td>0</td>\n",
       "      <td>0</td>\n",
       "      <td>0</td>\n",
       "      <td>0</td>\n",
       "      <td>0</td>\n",
       "      <td>0</td>\n",
       "      <td>0</td>\n",
       "      <td>0</td>\n",
       "      <td>0</td>\n",
       "      <td>1</td>\n",
       "      <td>0</td>\n",
       "      <td>0</td>\n",
       "      <td>0</td>\n",
       "      <td>0</td>\n",
       "      <td>0</td>\n",
       "      <td>0</td>\n",
       "    </tr>\n",
       "    <tr>\n",
       "      <th>107</th>\n",
       "      <td>0</td>\n",
       "      <td>6311</td>\n",
       "      <td>1</td>\n",
       "      <td>0</td>\n",
       "      <td>0</td>\n",
       "      <td>0</td>\n",
       "      <td>0</td>\n",
       "      <td>1</td>\n",
       "      <td>0</td>\n",
       "      <td>0</td>\n",
       "      <td>0</td>\n",
       "      <td>0</td>\n",
       "      <td>0</td>\n",
       "      <td>0</td>\n",
       "      <td>0</td>\n",
       "      <td>0</td>\n",
       "      <td>0</td>\n",
       "      <td>0</td>\n",
       "      <td>0</td>\n",
       "      <td>0</td>\n",
       "      <td>0</td>\n",
       "      <td>0</td>\n",
       "      <td>0</td>\n",
       "      <td>0</td>\n",
       "      <td>0</td>\n",
       "      <td>0</td>\n",
       "    </tr>\n",
       "    <tr>\n",
       "      <th>319</th>\n",
       "      <td>1</td>\n",
       "      <td>1029</td>\n",
       "      <td>0</td>\n",
       "      <td>0</td>\n",
       "      <td>0</td>\n",
       "      <td>0</td>\n",
       "      <td>0</td>\n",
       "      <td>0</td>\n",
       "      <td>0</td>\n",
       "      <td>0</td>\n",
       "      <td>0</td>\n",
       "      <td>0</td>\n",
       "      <td>0</td>\n",
       "      <td>0</td>\n",
       "      <td>1</td>\n",
       "      <td>0</td>\n",
       "      <td>0</td>\n",
       "      <td>0</td>\n",
       "      <td>0</td>\n",
       "      <td>0</td>\n",
       "      <td>0</td>\n",
       "      <td>0</td>\n",
       "      <td>0</td>\n",
       "      <td>0</td>\n",
       "      <td>0</td>\n",
       "      <td>0</td>\n",
       "    </tr>\n",
       "    <tr>\n",
       "      <th>318</th>\n",
       "      <td>0</td>\n",
       "      <td>2830</td>\n",
       "      <td>0</td>\n",
       "      <td>0</td>\n",
       "      <td>0</td>\n",
       "      <td>0</td>\n",
       "      <td>0</td>\n",
       "      <td>0</td>\n",
       "      <td>0</td>\n",
       "      <td>0</td>\n",
       "      <td>0</td>\n",
       "      <td>0</td>\n",
       "      <td>0</td>\n",
       "      <td>0</td>\n",
       "      <td>0</td>\n",
       "      <td>0</td>\n",
       "      <td>0</td>\n",
       "      <td>0</td>\n",
       "      <td>0</td>\n",
       "      <td>0</td>\n",
       "      <td>0</td>\n",
       "      <td>0</td>\n",
       "      <td>0</td>\n",
       "      <td>0</td>\n",
       "      <td>0</td>\n",
       "      <td>0</td>\n",
       "    </tr>\n",
       "    <tr>\n",
       "      <th>92</th>\n",
       "      <td>1</td>\n",
       "      <td>883</td>\n",
       "      <td>1</td>\n",
       "      <td>0</td>\n",
       "      <td>0</td>\n",
       "      <td>0</td>\n",
       "      <td>0</td>\n",
       "      <td>0</td>\n",
       "      <td>0</td>\n",
       "      <td>0</td>\n",
       "      <td>0</td>\n",
       "      <td>0</td>\n",
       "      <td>0</td>\n",
       "      <td>0</td>\n",
       "      <td>1</td>\n",
       "      <td>0</td>\n",
       "      <td>0</td>\n",
       "      <td>0</td>\n",
       "      <td>0</td>\n",
       "      <td>0</td>\n",
       "      <td>0</td>\n",
       "      <td>0</td>\n",
       "      <td>0</td>\n",
       "      <td>0</td>\n",
       "      <td>0</td>\n",
       "      <td>0</td>\n",
       "    </tr>\n",
       "  </tbody>\n",
       "</table>\n",
       "</div>"
      ],
      "text/plain": [
       "     Sex   Age  Event  G_DNM1L  G_MTFMT  G_NARS2  G_NDUFAF7  G_NDUFS1  \\\n",
       "0      0  1279      0        0        0        0          0         0   \n",
       "107    0  6311      1        0        0        0          0         1   \n",
       "319    1  1029      0        0        0        0          0         0   \n",
       "318    0  2830      0        0        0        0          0         0   \n",
       "92     1   883      1        0        0        0          0         0   \n",
       "\n",
       "     G_NDUFS2  G_NDUFS7  G_NDUFV1  G_PDH Deficiency  G_RARS2  G_SUCLA2  \\\n",
       "0           0         0         0                 0        0         0   \n",
       "107         0         0         0                 0        0         0   \n",
       "319         0         0         0                 0        0         0   \n",
       "318         0         0         0                 0        0         0   \n",
       "92          0         0         0                 0        0         0   \n",
       "\n",
       "     G_SURF1  G_TAC01  G_m.10197G>A  G_m.11778G>A  G_m.13051G>A  G_m.13513G>A  \\\n",
       "0          0        0             0             0             0             1   \n",
       "107        0        0             0             0             0             0   \n",
       "319        1        0             0             0             0             0   \n",
       "318        0        0             0             0             0             0   \n",
       "92         1        0             0             0             0             0   \n",
       "\n",
       "     G_m.14459G>A  G_m.4296G>A  G_m.8993T>C  G_m.8993T>G  G_m.9035T>C  \\\n",
       "0               0            0            0            0            0   \n",
       "107             0            0            0            0            0   \n",
       "319             0            0            0            0            0   \n",
       "318             0            0            0            0            0   \n",
       "92              0            0            0            0            0   \n",
       "\n",
       "     G_mtDNA depletion  \n",
       "0                    0  \n",
       "107                  0  \n",
       "319                  0  \n",
       "318                  0  \n",
       "92                   0  "
      ]
     },
     "execution_count": 53,
     "metadata": {},
     "output_type": "execute_result"
    }
   ],
   "source": [
    "pd.set_option('display.max_columns', 250)\n",
    "surv_df.head(5)"
   ]
  },
  {
   "cell_type": "code",
   "execution_count": 54,
   "metadata": {},
   "outputs": [],
   "source": [
    "import numpy as np\n",
    "from sklearn.model_selection import train_test_split\n",
    "\n",
    "random_state = 0\n",
    "\n",
    "df_train, df_test = train_test_split(surv_df,test_size=0.2, random_state=random_state)\n",
    "\n",
    "X_train = df_train.drop(columns = ['Event','Age'])\n",
    "y_train = df_train[['Event','Age']]\n",
    "X_test = df_test.drop(columns = ['Event','Age'])\n",
    "y_test = df_test[['Event','Age']]"
   ]
  },
  {
   "cell_type": "markdown",
   "metadata": {},
   "source": [
    "### Survival Model 1 - Kaplan Meier Fitter "
   ]
  },
  {
   "cell_type": "code",
   "execution_count": 55,
   "metadata": {},
   "outputs": [
    {
     "data": {
      "text/plain": [
       "<lifelines.KaplanMeierFitter:\"KM_estimate\", fitted with 44 total observations, 36 right-censored observations>"
      ]
     },
     "execution_count": 55,
     "metadata": {},
     "output_type": "execute_result"
    }
   ],
   "source": [
    "from lifelines import KaplanMeierFitter\n",
    "kmf = KaplanMeierFitter()\n",
    "kmf.fit(y_train['Age'], event_observed=y_train['Event'])"
   ]
  },
  {
   "cell_type": "code",
   "execution_count": 56,
   "metadata": {},
   "outputs": [
    {
     "data": {
      "text/plain": [
       "<AxesSubplot:title={'center':'Survival plot of Leigh patients (NPMDS data)'}, xlabel='Age (days)', ylabel='Probability of survival'>"
      ]
     },
     "execution_count": 56,
     "metadata": {},
     "output_type": "execute_result"
    },
    {
     "data": {
      "image/png": "[encoded data removed]",
      "text/plain": [
       "<Figure size 576x432 with 2 Axes>"
      ]
     },
     "metadata": {
      "needs_background": "light"
     },
     "output_type": "display_data"
    }
   ],
   "source": [
    "from matplotlib import pyplot as plt\n",
    "from lifelines.plotting import add_at_risk_counts\n",
    "\n",
    "plt.figure(figsize=(8,6))\n",
    "kmf.plot_survival_function()\n",
    "plt.title(\"Survival plot of Leigh patients (NPMDS data)\");\n",
    "plt.ylabel(\"Probability of survival\")\n",
    "plt.xlabel(\"Age (days)\")\n",
    "\n",
    "add_at_risk_counts(kmf)"
   ]
  },
  {
   "cell_type": "markdown",
   "metadata": {},
   "source": [
    "### Survival Model 2 - Cox Proportional Hazard"
   ]
  },
  {
   "cell_type": "code",
   "execution_count": 57,
   "metadata": {},
   "outputs": [],
   "source": [
    "# Formatting y dataframe into tuple array \n",
    "y_train['Event'] = y_train['Event'].replace([1],True)\n",
    "y_train['Event'] = y_train['Event'].replace([0],False)\n",
    "y_train = y_train.to_records(index=False)\n"
   ]
  },
  {
   "cell_type": "code",
   "execution_count": null,
   "metadata": {},
   "outputs": [],
   "source": [
    "cph = CoxPHSurvivalAnalysis(alpha=0.1)\n",
    "cph.fit(X_train, y_train)"
   ]
  },
  {
   "cell_type": "code",
   "execution_count": 59,
   "metadata": {},
   "outputs": [
    {
     "data": {
      "text/html": [
       "<div>\n",
       "<style scoped>\n",
       "    .dataframe tbody tr th:only-of-type {\n",
       "        vertical-align: middle;\n",
       "    }\n",
       "\n",
       "    .dataframe tbody tr th {\n",
       "        vertical-align: top;\n",
       "    }\n",
       "\n",
       "    .dataframe thead th {\n",
       "        text-align: right;\n",
       "    }\n",
       "</style>\n",
       "<table border=\"1\" class=\"dataframe\">\n",
       "  <thead>\n",
       "    <tr style=\"text-align: right;\">\n",
       "      <th></th>\n",
       "      <th>coefficient</th>\n",
       "    </tr>\n",
       "  </thead>\n",
       "  <tbody>\n",
       "    <tr>\n",
       "      <th>G_m.10197G&gt;A</th>\n",
       "      <td>2.143449</td>\n",
       "    </tr>\n",
       "    <tr>\n",
       "      <th>G_SURF1</th>\n",
       "      <td>2.124209</td>\n",
       "    </tr>\n",
       "    <tr>\n",
       "      <th>G_NDUFS1</th>\n",
       "      <td>2.086378</td>\n",
       "    </tr>\n",
       "    <tr>\n",
       "      <th>Sex</th>\n",
       "      <td>1.248364</td>\n",
       "    </tr>\n",
       "    <tr>\n",
       "      <th>G_m.8993T&gt;G</th>\n",
       "      <td>0.820356</td>\n",
       "    </tr>\n",
       "    <tr>\n",
       "      <th>G_DNM1L</th>\n",
       "      <td>0.402867</td>\n",
       "    </tr>\n",
       "    <tr>\n",
       "      <th>G_m.8993T&gt;C</th>\n",
       "      <td>0.000000</td>\n",
       "    </tr>\n",
       "    <tr>\n",
       "      <th>G_m.11778G&gt;A</th>\n",
       "      <td>0.000000</td>\n",
       "    </tr>\n",
       "    <tr>\n",
       "      <th>G_m.13051G&gt;A</th>\n",
       "      <td>-0.158568</td>\n",
       "    </tr>\n",
       "    <tr>\n",
       "      <th>G_NDUFAF7</th>\n",
       "      <td>-0.277795</td>\n",
       "    </tr>\n",
       "    <tr>\n",
       "      <th>G_m.9035T&gt;C</th>\n",
       "      <td>-0.277795</td>\n",
       "    </tr>\n",
       "    <tr>\n",
       "      <th>G_m.14459G&gt;A</th>\n",
       "      <td>-0.277795</td>\n",
       "    </tr>\n",
       "    <tr>\n",
       "      <th>G_mtDNA depletion</th>\n",
       "      <td>-0.277795</td>\n",
       "    </tr>\n",
       "    <tr>\n",
       "      <th>G_PDH Deficiency</th>\n",
       "      <td>-0.277795</td>\n",
       "    </tr>\n",
       "    <tr>\n",
       "      <th>G_NDUFS7</th>\n",
       "      <td>-0.277795</td>\n",
       "    </tr>\n",
       "    <tr>\n",
       "      <th>G_NDUFS2</th>\n",
       "      <td>-0.415784</td>\n",
       "    </tr>\n",
       "    <tr>\n",
       "      <th>G_m.13513G&gt;A</th>\n",
       "      <td>-0.416231</td>\n",
       "    </tr>\n",
       "    <tr>\n",
       "      <th>G_TAC01</th>\n",
       "      <td>-0.473526</td>\n",
       "    </tr>\n",
       "    <tr>\n",
       "      <th>G_RARS2</th>\n",
       "      <td>-0.660319</td>\n",
       "    </tr>\n",
       "    <tr>\n",
       "      <th>G_m.4296G&gt;A</th>\n",
       "      <td>-0.660319</td>\n",
       "    </tr>\n",
       "    <tr>\n",
       "      <th>G_MTFMT</th>\n",
       "      <td>-0.660319</td>\n",
       "    </tr>\n",
       "    <tr>\n",
       "      <th>G_NARS2</th>\n",
       "      <td>-0.969455</td>\n",
       "    </tr>\n",
       "    <tr>\n",
       "      <th>G_SUCLA2</th>\n",
       "      <td>-1.036585</td>\n",
       "    </tr>\n",
       "    <tr>\n",
       "      <th>G_NDUFV1</th>\n",
       "      <td>-1.153570</td>\n",
       "    </tr>\n",
       "  </tbody>\n",
       "</table>\n",
       "</div>"
      ],
      "text/plain": [
       "                   coefficient\n",
       "G_m.10197G>A          2.143449\n",
       "G_SURF1               2.124209\n",
       "G_NDUFS1              2.086378\n",
       "Sex                   1.248364\n",
       "G_m.8993T>G           0.820356\n",
       "G_DNM1L               0.402867\n",
       "G_m.8993T>C           0.000000\n",
       "G_m.11778G>A          0.000000\n",
       "G_m.13051G>A         -0.158568\n",
       "G_NDUFAF7            -0.277795\n",
       "G_m.9035T>C          -0.277795\n",
       "G_m.14459G>A         -0.277795\n",
       "G_mtDNA depletion    -0.277795\n",
       "G_PDH Deficiency     -0.277795\n",
       "G_NDUFS7             -0.277795\n",
       "G_NDUFS2             -0.415784\n",
       "G_m.13513G>A         -0.416231\n",
       "G_TAC01              -0.473526\n",
       "G_RARS2              -0.660319\n",
       "G_m.4296G>A          -0.660319\n",
       "G_MTFMT              -0.660319\n",
       "G_NARS2              -0.969455\n",
       "G_SUCLA2             -1.036585\n",
       "G_NDUFV1             -1.153570"
      ]
     },
     "execution_count": 59,
     "metadata": {},
     "output_type": "execute_result"
    }
   ],
   "source": [
    "coef= cph.coef_\n",
    "coefficients = pd.DataFrame(coef,columns=['coefficient'],index=X_train.columns)\n",
    "coefficients.sort_values(by='coefficient',ascending=False)"
   ]
  },
  {
   "cell_type": "code",
   "execution_count": 60,
   "metadata": {},
   "outputs": [
    {
     "name": "stdout",
     "output_type": "stream",
     "text": [
      "concordance index: 0.9444444444444444\n"
     ]
    }
   ],
   "source": [
    "from sksurv.metrics import concordance_index_censored\n",
    "\n",
    "y_test['Event'] = y_test['Event'].replace([1],True)\n",
    "y_test['Event'] = y_test['Event'].replace([0],False)\n",
    "y_test = y_test.to_records(index=False)\n",
    "\n",
    "prediction = cph.predict(X_test)\n",
    "result = concordance_index_censored(y_test[\"Event\"], y_test[\"Age\"], prediction)\n",
    "print ('concordance index:', result[0])"
   ]
  },
  {
   "cell_type": "code",
   "execution_count": 61,
   "metadata": {},
   "outputs": [
    {
     "data": {
      "text/plain": [
       "Pipeline(steps=[('standardscaler', StandardScaler()),\n",
       "                ('coxnetsurvivalanalysis', CoxnetSurvivalAnalysis())])"
      ]
     },
     "execution_count": 61,
     "metadata": {},
     "output_type": "execute_result"
    }
   ],
   "source": [
    "import warnings\n",
    "from sklearn.exceptions import ConvergenceWarning\n",
    "from sklearn.pipeline import make_pipeline\n",
    "from sklearn.preprocessing import StandardScaler\n",
    "\n",
    "coxnet_pipe = make_pipeline(\n",
    "    StandardScaler(),\n",
    "    CoxnetSurvivalAnalysis()\n",
    ")\n",
    "warnings.simplefilter(\"ignore\", ConvergenceWarning)\n",
    "coxnet_pipe.fit(X_train, y_train)"
   ]
  },
  {
   "cell_type": "code",
   "execution_count": 62,
   "metadata": {},
   "outputs": [],
   "source": [
    "estimated_alphas = coxnet_pipe.named_steps[\"coxnetsurvivalanalysis\"].alphas_\n",
    "cv = KFold(n_splits=5, shuffle=True, random_state=random_state)\n",
    "gcv = GridSearchCV(\n",
    "    make_pipeline(StandardScaler(), CoxnetSurvivalAnalysis()),\n",
    "    param_grid={\"coxnetsurvivalanalysis__alphas\": [[v] for v in estimated_alphas]},\n",
    "    cv=cv,\n",
    "    error_score=0.5,\n",
    "    n_jobs=4).fit(X_train, y_train)\n",
    "\n",
    "cv_results = pd.DataFrame(gcv.cv_results_)\n"
   ]
  },
  {
   "cell_type": "code",
   "execution_count": 63,
   "metadata": {},
   "outputs": [
    {
     "data": {
      "image/png": "[encoded data removed]",
      "text/plain": [
       "<Figure size 648x432 with 1 Axes>"
      ]
     },
     "metadata": {
      "needs_background": "light"
     },
     "output_type": "display_data"
    }
   ],
   "source": [
    "alphas = cv_results.param_coxnetsurvivalanalysis__alphas.map(lambda x: x[0])\n",
    "mean = cv_results.mean_test_score\n",
    "std = cv_results.std_test_score\n",
    "\n",
    "fig, ax = plt.subplots(figsize=(9, 6))\n",
    "ax.plot(alphas, mean)\n",
    "ax.fill_between(alphas, mean - std, mean + std, alpha=.15)\n",
    "ax.set_xscale(\"log\")\n",
    "ax.set_ylabel(\"concordance index\")\n",
    "ax.set_xlabel(\"alpha\")\n",
    "ax.axvline(gcv.best_params_[\"coxnetsurvivalanalysis__alphas\"][0], c=\"C1\")\n",
    "ax.axhline(0.5, color=\"grey\", linestyle=\"--\")\n",
    "ax.grid(True)"
   ]
  },
  {
   "cell_type": "code",
   "execution_count": 64,
   "metadata": {},
   "outputs": [
    {
     "name": "stdout",
     "output_type": "stream",
     "text": [
      "Number of non-zero coefficients: 6\n"
     ]
    },
    {
     "data": {
      "image/png": "[encoded data removed]",
      "text/plain": [
       "<Figure size 432x576 with 1 Axes>"
      ]
     },
     "metadata": {
      "needs_background": "light"
     },
     "output_type": "display_data"
    }
   ],
   "source": [
    "best_model = gcv.best_estimator_.named_steps[\"coxnetsurvivalanalysis\"]\n",
    "best_coefs = pd.DataFrame(\n",
    "    best_model.coef_,\n",
    "    index=X_train.columns,\n",
    "    columns=[\"coefficient\"]\n",
    ")\n",
    "\n",
    "non_zero = np.sum(best_coefs.iloc[:, 0] != 0)\n",
    "print(\"Number of non-zero coefficients: {}\".format(non_zero))\n",
    "\n",
    "non_zero_coefs = best_coefs.query(\"coefficient != 0\")\n",
    "coef_order = non_zero_coefs.abs().sort_values(\"coefficient\").index\n",
    "\n",
    "_, ax = plt.subplots(figsize=(6, 8))\n",
    "non_zero_coefs.loc[coef_order].plot.barh(ax=ax, legend=False)\n",
    "ax.set_xlabel(\"coefficient\")\n",
    "ax.grid(True)"
   ]
  },
  {
   "cell_type": "code",
   "execution_count": 65,
   "metadata": {},
   "outputs": [
    {
     "data": {
      "text/html": [
       "<div>\n",
       "<style scoped>\n",
       "    .dataframe tbody tr th:only-of-type {\n",
       "        vertical-align: middle;\n",
       "    }\n",
       "\n",
       "    .dataframe tbody tr th {\n",
       "        vertical-align: top;\n",
       "    }\n",
       "\n",
       "    .dataframe thead th {\n",
       "        text-align: right;\n",
       "    }\n",
       "</style>\n",
       "<table border=\"1\" class=\"dataframe\">\n",
       "  <thead>\n",
       "    <tr style=\"text-align: right;\">\n",
       "      <th></th>\n",
       "      <th>coefficient</th>\n",
       "    </tr>\n",
       "  </thead>\n",
       "  <tbody>\n",
       "    <tr>\n",
       "      <th>Sex</th>\n",
       "      <td>30.779195</td>\n",
       "    </tr>\n",
       "    <tr>\n",
       "      <th>G_SURF1</th>\n",
       "      <td>21.085969</td>\n",
       "    </tr>\n",
       "    <tr>\n",
       "      <th>G_m.10197G&gt;A</th>\n",
       "      <td>20.301600</td>\n",
       "    </tr>\n",
       "    <tr>\n",
       "      <th>G_DNM1L</th>\n",
       "      <td>14.240766</td>\n",
       "    </tr>\n",
       "    <tr>\n",
       "      <th>G_m.8993T&gt;G</th>\n",
       "      <td>10.042984</td>\n",
       "    </tr>\n",
       "    <tr>\n",
       "      <th>G_NDUFS1</th>\n",
       "      <td>-126.809599</td>\n",
       "    </tr>\n",
       "  </tbody>\n",
       "</table>\n",
       "</div>"
      ],
      "text/plain": [
       "              coefficient\n",
       "Sex             30.779195\n",
       "G_SURF1         21.085969\n",
       "G_m.10197G>A    20.301600\n",
       "G_DNM1L         14.240766\n",
       "G_m.8993T>G     10.042984\n",
       "G_NDUFS1      -126.809599"
      ]
     },
     "execution_count": 65,
     "metadata": {},
     "output_type": "execute_result"
    }
   ],
   "source": [
    "\n",
    "non_zero_coefs.sort_values(by='coefficient',ascending=False)\n",
    "\n"
   ]
  },
  {
   "cell_type": "code",
   "execution_count": 66,
   "metadata": {},
   "outputs": [
    {
     "name": "stdout",
     "output_type": "stream",
     "text": [
      "concordance index: 0.9444444444444444\n"
     ]
    }
   ],
   "source": [
    "prediction =  gcv.best_estimator_.predict(X_test)\n",
    "result = concordance_index_censored(y_test[\"Event\"], y_test[\"Age\"], prediction)\n",
    "print(\"concordance index:\", result[0]) "
   ]
  },
  {
   "cell_type": "markdown",
   "metadata": {},
   "source": [
    "### Random Survival Forest "
   ]
  },
  {
   "cell_type": "code",
   "execution_count": 67,
   "metadata": {},
   "outputs": [
    {
     "name": "stderr",
     "output_type": "stream",
     "text": [
      "[Parallel(n_jobs=-1)]: Using backend ThreadingBackend with 4 concurrent workers.\n",
      "[Parallel(n_jobs=-1)]: Done  42 tasks      | elapsed:    0.1s\n",
      "[Parallel(n_jobs=-1)]: Done  50 out of  50 | elapsed:    0.1s finished\n"
     ]
    },
    {
     "data": {
      "text/plain": [
       "RandomSurvivalForest(max_features='sqrt', min_samples_leaf=10,\n",
       "                     min_samples_split=7, n_estimators=50, n_jobs=-1,\n",
       "                     random_state=0, verbose=1)"
      ]
     },
     "execution_count": 67,
     "metadata": {},
     "output_type": "execute_result"
    }
   ],
   "source": [
    "from sksurv.ensemble import RandomSurvivalForest\n",
    "\n",
    "\n",
    "\n",
    "rsf = RandomSurvivalForest(n_estimators=50,\n",
    "                           min_samples_split=7,\n",
    "                           min_samples_leaf=10,\n",
    "                           max_features=\"sqrt\",\n",
    "                           n_jobs=-1,\n",
    "                           random_state=random_state,\n",
    "                           verbose=1)\n",
    "\n",
    "rsf.fit(X_train, y_train)\n"
   ]
  },
  {
   "cell_type": "code",
   "execution_count": 68,
   "metadata": {},
   "outputs": [
    {
     "name": "stderr",
     "output_type": "stream",
     "text": [
      "[Parallel(n_jobs=4)]: Using backend ThreadingBackend with 4 concurrent workers.\n",
      "[Parallel(n_jobs=4)]: Done  42 tasks      | elapsed:    0.0s\n",
      "[Parallel(n_jobs=4)]: Done  50 out of  50 | elapsed:    0.0s finished\n"
     ]
    },
    {
     "data": {
      "text/plain": [
       "0.7222222222222222"
      ]
     },
     "execution_count": 68,
     "metadata": {},
     "output_type": "execute_result"
    }
   ],
   "source": [
    "rsf.score(X_test, y_test)\n"
   ]
  },
  {
   "cell_type": "markdown",
   "metadata": {},
   "source": [
    "## Data Cleaning for NPMDS data "
   ]
  },
  {
   "cell_type": "code",
   "execution_count": 69,
   "metadata": {},
   "outputs": [],
   "source": [
    "# pd.set_option('display.max_rows', 250)\n",
    "# To check percentage of missing values in each column \n",
    "# npmds.isnull().sum().sort_values(ascending = False)/ npmds.shape[0]\n"
   ]
  },
  {
   "cell_type": "code",
   "execution_count": 70,
   "metadata": {},
   "outputs": [],
   "source": [
    "# Functions to combine same columns in NPMDS across different age ranges\n",
    "def npmds_combine (col1,col2,col3):\n",
    "    npmds[col1].update(npmds.pop(col2))\n",
    "    npmds[col1].update(npmds.pop(col3))\n",
    "\n",
    "def npmds_combine2 (col1,col2):\n",
    "    npmds[col1].update(npmds.pop(col2))\n"
   ]
  },
  {
   "cell_type": "code",
   "execution_count": 71,
   "metadata": {},
   "outputs": [],
   "source": [
    "npmds_combine('1. Vision','1. Vision.1','1. Vision.2')\n",
    "npmds_combine('2. Hearing','2. Hearing.1','2. Hearing.2')\n",
    "npmds_combine('3. Communication','3. Communication.1','3. Communication.2')\n",
    "npmds_combine('4. Feeding','4. Feeding.1','4. Feeding.2')\n",
    "npmds_combine('5. Mobility','6. Mobility.1','6. Mobility')\n",
    "npmds_combine('1. Seizures','1. Seizures.1','1. Seizures.2')\n",
    "npmds_combine('2. Encephalopathy','2. Encephalopathy.1','2. Encephalopathy.2')\n",
    "npmds_combine('3. Gastrointestinal','4. Gastrointestinal','4. Gastrointestinal.1')\n",
    "npmds_combine('4. Endocrine','5. Endocrine','5. Endocrine.1')\n",
    "npmds_combine('5. Respiratory','6. Respiratory','6. Respiratory.1')\n",
    "npmds_combine('6. Cardiovascular','7. Cardiovascular','7. Cardiovascular.1')\n",
    "npmds_combine('7. Renal','8. Renal','8. Renal.1')\n",
    "npmds_combine('8. Liver','9. Liver','9. Liver.1')\n",
    "npmds_combine('9. Blood','10. Blood','10. Blood.1')\n",
    "\n",
    "npmds_combine('1. Growth','1. Growth.1','1. Growth.2')\n",
    "npmds_combine('2. Development','2. Development.1','2. Development.2')\n",
    "npmds_combine('3. Vision','3. Vision.1','3. Vision.2')\n",
    "npmds_combine('4. Ptosis','4. Ptosis.1','4. Ptosis.2')\n",
    "npmds_combine('5. Myopathy','5. Myopathy.1','5. Myopathy.2')\n",
    "npmds_combine('6. Pyramidal','7. Pyramidal','7. Pyramidal.1')\n",
    "npmds_combine('7. Extrapyramidal','8. Extrapyramidal','8. Extrapyramidal.1')\n",
    "npmds_combine('8. Neuropathy','9. Neuropathy','9. Neuropathy.1')\n",
    "\n",
    "npmds_combine(\"Child's overall health\",\"Child's overall health.1\",\"Child's overall health.2\")\n",
    "npmds_combine(\"Child's limitations in physical activities\",\"Child's limitations in physical activities.1\",\"Child's limitations in physical activities.2\")\n",
    "npmds_combine(\"Child's energy levels\",\"Child's energy levels.1\",\"Child's energy levels.2\")\n",
    "npmds_combine(\"Child's bodily pain\",\"Child's bodily pain.1\",\"Child's bodily pain.2\")\n",
    "npmds_combine(\"Child's behaviour\",\"Child's behaviour.1\",\"Child's behaviour.2\")\n",
    "npmds_combine(\"Child's interaction with others\",\"Child's interaction with others.1\",\"Child's interaction with others.2\")\n",
    "npmds_combine(\"Parent's emotional difficulty because of child\",\"Parent's emotional difficulty because of child.1\",\"Parent's emotional difficulty because of child.2\")\n",
    "npmds_combine('Time limited because of child','Time limited because of child.1','Time limited because of child.2')\n",
    "npmds_combine('Family activity limited because of child','Family activity limited because of child.1','Family activity limited because of child.2')\n",
    "npmds_combine('Financial cost','Financial cost.1','Financial cost.2')\n",
    "npmds_combine('Ability of family to get along','Ability of family to get along.1','Ability of family to get along.3')\n",
    "npmds_combine('Positive effects of illness','Positive effects of illness.1','Positive effects of illness.3')"
   ]
  },
  {
   "cell_type": "code",
   "execution_count": 72,
   "metadata": {},
   "outputs": [],
   "source": [
    "# 2 columns \n",
    "\n",
    "\n",
    "npmds_combine2('5. Self-care','5. Self-care.1')\n",
    "npmds_combine2('7. Educational achievement','7. Educational achievement.1')\n",
    "npmds_combine2('System specific involvement.1','System specific involvement.2')\n",
    "npmds_combine2('3. Stroke-like episodes','3. Stroke-like episodes.1')\n",
    "npmds_combine2('6. Ataxia','6. Ataxia.1')\n",
    "\n",
    "\n",
    "\n",
    "npmds_combine2(\"Child's limitations in everyday life\",\"Child's limitations in everyday life.1\")\n",
    "npmds_combine2('Child bothered by emotional problems during past 4 weeks','Child bothered by emotional problems during past 4 weeks.1')\n",
    "npmds_combine2(\"Child's satisfaction with themselves\",\"Child's satisfaction with themselves.1\")\n",
    "\n",
    "\n",
    "\n",
    "npmds_combine2('Overall health','Overall health.1')\n",
    "npmds_combine2('Limitations in physical activities','Limitations in physical activities.1')\n",
    "npmds_combine2('Limitations in everyday life','Limitations in everyday life.1')\n",
    "npmds_combine2('Energy levels','Energy levels.1')\n",
    "npmds_combine2('Bodily pain','Bodily pain.1')\n",
    "npmds_combine2('Emotional difficulty','Emotional difficulty.1')\n",
    "npmds_combine2('Satisfaction with self','Satisfaction with self.1')\n",
    "npmds_combine2('Behaviour','Behaviour.1')\n",
    "npmds_combine2('Interaction with others','Interaction with others.1')\n",
    "npmds_combine2('Ability of family to get along.2','Ability of family to get along.4')\n",
    "npmds_combine2('Positive effects of illness.2','Positive effects of illness.4')\n"
   ]
  },
  {
   "cell_type": "code",
   "execution_count": 73,
   "metadata": {},
   "outputs": [],
   "source": [
    "npmds = npmds.add_suffix('_npmds')\n",
    "npmds.rename(columns={ 'Unique ID_npmds':'Unique ID','Date_npmds':'Date',\n",
    "                    '1. Vision_npmds':'Vision_npmds_self',\n",
    "                    '2. Hearing_npmds':'Hearing_npmds',\n",
    "                    '3. Communication_npmds':'Communication_npmds',\n",
    "                    '4. Feeding_npmds':'Feeding_npmds',\n",
    "                    '5. Mobility_npmds':'Mobility_npmds',\n",
    "                    '1. Seizures_npmds':'Seizures_npmds',\n",
    "                    '2. Encephalopathy_npmds':'Encephalopathy_npmds',\n",
    "                    '3. Gastrointestinal_npmds':'Gastrointestinal_npmds',\n",
    "                    '4. Endocrine_npmds':'Endocrine_npmds',\n",
    "                    '5. Respiratory_npmds':'Respiratory_npmds',\n",
    "                    '6. Cardiovascular_npmds':'Cardiovascular_npmds',\n",
    "                    '7. Renal_npmds':'Renal_npmds',\n",
    "                    '8. Liver_npmds':'Liver_npmds',\n",
    "                    '9. Blood_npmds':'Blood_npmds',\n",
    "                    '1. Growth_npmds':'Growth_npmds',\n",
    "                    '2. Development_npmds':'Development_npmds',\n",
    "                    '3. Vision_npmds':'Vision_npmds',\n",
    "                    '4. Ptosis_npmds':'Ptosis_npmds',\n",
    "                    '5. Myopathy_npmds':'Myopathy_npmds',\n",
    "                    '6. Pyramidal_npmds':'Pyramidal_npmds',\n",
    "                    '7. Extrapyramidal_npmds':'Extrapyramidal_npmds',\n",
    "                    '8. Neuropathy_npmds':'Neuropathy_npmds',\n",
    "                    \"Child's overall health_npmds\":\"Child's overall health_par\",\n",
    "                    \"Child's limitations in physical activities_npmds\":\"Child's limitations in physical activities_par\",\n",
    "                    \"Child's energy levels_npmds\":\"Child's energy levels_par\",\n",
    "                    \"Child's bodily pain_npmds\":\"Child's bodily pain_par\",\n",
    "                    \"Child's behaviour_npmds\":\"Child's behaviour_par\",\n",
    "                    \"Child's interaction with others_npmds\":\"Child's interaction with others_par\",\n",
    "                    \"Parent's emotional difficulty because of child_npmds\":\"Parent's emotional difficulty because of child_par\",\n",
    "                    'Time limited because of child_npmds':'Time limited because of child_par',\n",
    "                    'Family activity limited because of child_npmds':'Family activity limited because of child_par',\n",
    "                    'Financial cost_npmds':'Financial cost_par',\n",
    "                    'Ability of family to get along_npmds':'Ability of family to get along_par',\n",
    "                    'Positive effects of illness_npmds':'Positive effects of illness_par',   \n",
    "                    '5. Self-care_npmds':'Self-care_npmds',\n",
    "                    '7. Educational achievement_npmds':'Educational achievement_npmds',\n",
    "                    '3. Stroke-like episodes_npmds':'Stroke-like episodes_npmds',\n",
    "                    '6. Ataxia_npmds':'Ataxia_npmds', \n",
    "                    'Ability of family to get along.2_npmds':'Ability of family to get along_self',\n",
    "                    'Positive effects of illness.2_npmds':'Positive effects of illness_self' },inplace=True)\n",
    " \n",
    "    \n",
    "    "
   ]
  },
  {
   "cell_type": "code",
   "execution_count": 74,
   "metadata": {},
   "outputs": [],
   "source": [
    "# dropping columns with all NA in NPMDS data\n",
    "npmds.dropna(axis=1, how='all',inplace=True)\n"
   ]
  },
  {
   "cell_type": "code",
   "execution_count": 75,
   "metadata": {},
   "outputs": [],
   "source": [
    "# dropping columns with more than 50% NA values\n",
    "npmds.drop(columns = ['Positive effects of illness_self','NPMDS (2-11) questions_npmds',          \n",
    "'Ability of family to get along_self','Interaction with others_npmds','Behaviour_npmds',             \n",
    "'Satisfaction with self_npmds','NPMDS (2-11 years)_npmds','Emotional difficulty_npmds',                      \n",
    "'Bodily pain_npmds','Energy levels_npmds','Limitations in everyday life_npmds',             \n",
    "'Limitations in physical activities_npmds','Overall health_npmds'],inplace=True)  \n",
    "\n",
    "\n"
   ]
  },
  {
   "cell_type": "code",
   "execution_count": 76,
   "metadata": {},
   "outputs": [
    {
     "data": {
      "text/plain": [
       "(27, 43)"
      ]
     },
     "execution_count": 76,
     "metadata": {},
     "output_type": "execute_result"
    }
   ],
   "source": [
    "npmds.shape\n"
   ]
  },
  {
   "cell_type": "code",
   "execution_count": 77,
   "metadata": {},
   "outputs": [
    {
     "name": "stdout",
     "output_type": "stream",
     "text": [
      "Total number of patients in NPMDS data: 20\n"
     ]
    }
   ],
   "source": [
    "print(\"Total number of patients in NPMDS data:\",npmds['Unique ID'].nunique())\n"
   ]
  },
  {
   "cell_type": "code",
   "execution_count": 78,
   "metadata": {},
   "outputs": [],
   "source": [
    "npmds.drop(columns= [\"Child's overall health_par\",\n",
    "                        \"Child's limitations in physical activities_par\",              \n",
    "                        \"Child's energy levels_par\",                 \n",
    "                        \"Child's bodily pain_par\",                                          \n",
    "                        \"Child's behaviour_par\",                                          \n",
    "                        \"Child's interaction with others_par\",                            \n",
    "                        \"Parent's emotional difficulty because of child_par\",\n",
    "                        \"Time limited because of child_par\",                         \n",
    "                        \"Family activity limited because of child_par\",                    \n",
    "                        \"Financial cost_par\",                                               \n",
    "                        \"Ability of family to get along_par\",                               \n",
    "                        \"Positive effects of illness_par\",                                   \n",
    "                        \"Self-care_npmds\",                                                 \n",
    "                        \"Educational achievement_npmds\",                                     \n",
    "                        \"Stroke-like episodes_npmds\",                                      \n",
    "                        \"Ataxia_npmds\",                                                     \n",
    "                        \"Child's limitations in everyday life_npmds\",                    \n",
    "                        \"Child bothered by emotional problems during past 4 weeks_npmds\",   \n",
    "                        \"Child's satisfaction with themselves_npmds\"],inplace=True)\n",
    "\n"
   ]
  },
  {
   "cell_type": "code",
   "execution_count": 79,
   "metadata": {},
   "outputs": [],
   "source": [
    "npmds_1=npmds.fillna(9)\n"
   ]
  },
  {
   "cell_type": "code",
   "execution_count": 80,
   "metadata": {},
   "outputs": [],
   "source": [
    "npmds_1.rename(columns = {'Unique ID': 'UniqueID'},inplace=True)\n"
   ]
  },
  {
   "cell_type": "code",
   "execution_count": 81,
   "metadata": {},
   "outputs": [],
   "source": [
    "# Merging both datasets together\n",
    "npmds_combined =  pd.merge(npmds_1,all, on=[\"UniqueID\"],how='left')\n",
    "\n"
   ]
  },
  {
   "cell_type": "markdown",
   "metadata": {},
   "source": [
    "### Data Preparation for NPMDS"
   ]
  },
  {
   "cell_type": "code",
   "execution_count": 82,
   "metadata": {},
   "outputs": [],
   "source": [
    "surv_df = npmds_combined\n",
    "surv_df = surv_df[surv_df[\"Date\"] > surv_df[\"Birth_date\"]]\n",
    "surv_df = surv_df.sort_values(by=\"Date\").drop_duplicates(subset=[\"UniqueID\"], keep=\"last\")\n",
    "surv_df['Age'] = surv_df.apply(lambda x: x['Death_date']-x['Birth_date'] \\\n",
    "                               if(pd.notnull(x['Death_date'])) \\\n",
    "                               else x['Date']- x['Birth_date'], axis = 1)\n",
    "\n",
    "surv_df['Age'] = surv_df['Age'].astype('timedelta64[D]').astype(int)\n",
    "\n",
    "surv_df['Event'] =  surv_df.apply(lambda x: 0 \\\n",
    "                               if(pd.isnull(x['Death_date'])) \\\n",
    "                               else 1, axis = 1)\n",
    "\n",
    "surv_df.drop(columns=['UniqueID','Birth_date','Death_date','Date','Institution'],inplace=True)\n",
    "\n",
    "from sklearn.preprocessing import LabelEncoder\n",
    "# creating instance of labelencoder\n",
    "labelencoder = LabelEncoder()\n",
    "# Assigning numerical values and storing in another column\n",
    "surv_df['Sex'] = labelencoder.fit_transform(surv_df['Sex'])\n"
   ]
  },
  {
   "cell_type": "code",
   "execution_count": 83,
   "metadata": {},
   "outputs": [
    {
     "data": {
      "text/html": [
       "<div>\n",
       "<style scoped>\n",
       "    .dataframe tbody tr th:only-of-type {\n",
       "        vertical-align: middle;\n",
       "    }\n",
       "\n",
       "    .dataframe tbody tr th {\n",
       "        vertical-align: top;\n",
       "    }\n",
       "\n",
       "    .dataframe thead th {\n",
       "        text-align: right;\n",
       "    }\n",
       "</style>\n",
       "<table border=\"1\" class=\"dataframe\">\n",
       "  <thead>\n",
       "    <tr style=\"text-align: right;\">\n",
       "      <th></th>\n",
       "      <th>Vision_npmds_self</th>\n",
       "      <th>Hearing_npmds</th>\n",
       "      <th>Communication_npmds</th>\n",
       "      <th>Feeding_npmds</th>\n",
       "      <th>Mobility_npmds</th>\n",
       "      <th>Seizures_npmds</th>\n",
       "      <th>Encephalopathy_npmds</th>\n",
       "      <th>Gastrointestinal_npmds</th>\n",
       "      <th>Endocrine_npmds</th>\n",
       "      <th>Respiratory_npmds</th>\n",
       "      <th>Cardiovascular_npmds</th>\n",
       "      <th>Renal_npmds</th>\n",
       "      <th>Liver_npmds</th>\n",
       "      <th>Blood_npmds</th>\n",
       "      <th>Growth_npmds</th>\n",
       "      <th>Development_npmds</th>\n",
       "      <th>Vision_npmds</th>\n",
       "      <th>Ptosis_npmds</th>\n",
       "      <th>Myopathy_npmds</th>\n",
       "      <th>Pyramidal_npmds</th>\n",
       "      <th>Extrapyramidal_npmds</th>\n",
       "      <th>Neuropathy_npmds</th>\n",
       "      <th>Sex</th>\n",
       "      <th>Age</th>\n",
       "      <th>Event</th>\n",
       "    </tr>\n",
       "  </thead>\n",
       "  <tbody>\n",
       "    <tr>\n",
       "      <th>4</th>\n",
       "      <td>0.0</td>\n",
       "      <td>0.0</td>\n",
       "      <td>2.0</td>\n",
       "      <td>1.0</td>\n",
       "      <td>2.0</td>\n",
       "      <td>2.0</td>\n",
       "      <td>0.0</td>\n",
       "      <td>0.0</td>\n",
       "      <td>0.0</td>\n",
       "      <td>0.0</td>\n",
       "      <td>0.0</td>\n",
       "      <td>0.0</td>\n",
       "      <td>0.0</td>\n",
       "      <td>0.0</td>\n",
       "      <td>9.0</td>\n",
       "      <td>5.0</td>\n",
       "      <td>0.0</td>\n",
       "      <td>1.0</td>\n",
       "      <td>1.0</td>\n",
       "      <td>0.0</td>\n",
       "      <td>2.0</td>\n",
       "      <td>0.0</td>\n",
       "      <td>1</td>\n",
       "      <td>446</td>\n",
       "      <td>0</td>\n",
       "    </tr>\n",
       "    <tr>\n",
       "      <th>10</th>\n",
       "      <td>1.0</td>\n",
       "      <td>3.0</td>\n",
       "      <td>3.0</td>\n",
       "      <td>3.0</td>\n",
       "      <td>3.0</td>\n",
       "      <td>1.0</td>\n",
       "      <td>0.0</td>\n",
       "      <td>0.0</td>\n",
       "      <td>0.0</td>\n",
       "      <td>0.0</td>\n",
       "      <td>0.0</td>\n",
       "      <td>0.0</td>\n",
       "      <td>0.0</td>\n",
       "      <td>0.0</td>\n",
       "      <td>1.0</td>\n",
       "      <td>5.0</td>\n",
       "      <td>9.0</td>\n",
       "      <td>0.0</td>\n",
       "      <td>3.0</td>\n",
       "      <td>3.0</td>\n",
       "      <td>0.0</td>\n",
       "      <td>1.0</td>\n",
       "      <td>0</td>\n",
       "      <td>1308</td>\n",
       "      <td>0</td>\n",
       "    </tr>\n",
       "    <tr>\n",
       "      <th>11</th>\n",
       "      <td>2.0</td>\n",
       "      <td>1.0</td>\n",
       "      <td>3.0</td>\n",
       "      <td>3.0</td>\n",
       "      <td>3.0</td>\n",
       "      <td>3.0</td>\n",
       "      <td>9.0</td>\n",
       "      <td>0.0</td>\n",
       "      <td>0.0</td>\n",
       "      <td>1.0</td>\n",
       "      <td>2.0</td>\n",
       "      <td>0.0</td>\n",
       "      <td>0.0</td>\n",
       "      <td>0.0</td>\n",
       "      <td>0.0</td>\n",
       "      <td>7.0</td>\n",
       "      <td>2.0</td>\n",
       "      <td>0.0</td>\n",
       "      <td>0.0</td>\n",
       "      <td>3.0</td>\n",
       "      <td>2.0</td>\n",
       "      <td>0.0</td>\n",
       "      <td>1</td>\n",
       "      <td>430</td>\n",
       "      <td>1</td>\n",
       "    </tr>\n",
       "    <tr>\n",
       "      <th>12</th>\n",
       "      <td>9.0</td>\n",
       "      <td>9.0</td>\n",
       "      <td>9.0</td>\n",
       "      <td>9.0</td>\n",
       "      <td>0.0</td>\n",
       "      <td>0.0</td>\n",
       "      <td>1.0</td>\n",
       "      <td>0.0</td>\n",
       "      <td>0.0</td>\n",
       "      <td>0.0</td>\n",
       "      <td>0.0</td>\n",
       "      <td>0.0</td>\n",
       "      <td>3.0</td>\n",
       "      <td>0.0</td>\n",
       "      <td>1.0</td>\n",
       "      <td>0.0</td>\n",
       "      <td>0.0</td>\n",
       "      <td>2.0</td>\n",
       "      <td>0.0</td>\n",
       "      <td>0.0</td>\n",
       "      <td>0.0</td>\n",
       "      <td>2.0</td>\n",
       "      <td>0</td>\n",
       "      <td>1334</td>\n",
       "      <td>0</td>\n",
       "    </tr>\n",
       "  </tbody>\n",
       "</table>\n",
       "</div>"
      ],
      "text/plain": [
       "    Vision_npmds_self  Hearing_npmds  Communication_npmds  Feeding_npmds  \\\n",
       "4                 0.0            0.0                  2.0            1.0   \n",
       "10                1.0            3.0                  3.0            3.0   \n",
       "11                2.0            1.0                  3.0            3.0   \n",
       "12                9.0            9.0                  9.0            9.0   \n",
       "\n",
       "    Mobility_npmds  Seizures_npmds  Encephalopathy_npmds  \\\n",
       "4              2.0             2.0                   0.0   \n",
       "10             3.0             1.0                   0.0   \n",
       "11             3.0             3.0                   9.0   \n",
       "12             0.0             0.0                   1.0   \n",
       "\n",
       "    Gastrointestinal_npmds  Endocrine_npmds  Respiratory_npmds  \\\n",
       "4                      0.0              0.0                0.0   \n",
       "10                     0.0              0.0                0.0   \n",
       "11                     0.0              0.0                1.0   \n",
       "12                     0.0              0.0                0.0   \n",
       "\n",
       "    Cardiovascular_npmds  Renal_npmds  Liver_npmds  Blood_npmds  Growth_npmds  \\\n",
       "4                    0.0          0.0          0.0          0.0           9.0   \n",
       "10                   0.0          0.0          0.0          0.0           1.0   \n",
       "11                   2.0          0.0          0.0          0.0           0.0   \n",
       "12                   0.0          0.0          3.0          0.0           1.0   \n",
       "\n",
       "    Development_npmds  Vision_npmds  Ptosis_npmds  Myopathy_npmds  \\\n",
       "4                 5.0           0.0           1.0             1.0   \n",
       "10                5.0           9.0           0.0             3.0   \n",
       "11                7.0           2.0           0.0             0.0   \n",
       "12                0.0           0.0           2.0             0.0   \n",
       "\n",
       "    Pyramidal_npmds  Extrapyramidal_npmds  Neuropathy_npmds  Sex   Age  Event  \n",
       "4               0.0                   2.0               0.0    1   446      0  \n",
       "10              3.0                   0.0               1.0    0  1308      0  \n",
       "11              3.0                   2.0               0.0    1   430      1  \n",
       "12              0.0                   0.0               2.0    0  1334      0  "
      ]
     },
     "execution_count": 83,
     "metadata": {},
     "output_type": "execute_result"
    }
   ],
   "source": [
    "surv_df.head(4)"
   ]
  },
  {
   "cell_type": "code",
   "execution_count": 84,
   "metadata": {},
   "outputs": [
    {
     "data": {
      "text/plain": [
       "<lifelines.KaplanMeierFitter:\"KM_estimate\", fitted with 20 total observations, 16 right-censored observations>"
      ]
     },
     "execution_count": 84,
     "metadata": {},
     "output_type": "execute_result"
    }
   ],
   "source": [
    "from lifelines import KaplanMeierFitter\n",
    "kmf = KaplanMeierFitter()\n",
    "kmf.fit(surv_df[\"Age\"], event_observed=surv_df[\"Event\"])"
   ]
  },
  {
   "cell_type": "code",
   "execution_count": 85,
   "metadata": {},
   "outputs": [
    {
     "data": {
      "text/plain": [
       "<AxesSubplot:title={'center':'Survival plot of Leigh patients (NPMDS data)'}, xlabel='Age (days)', ylabel='Probability of survival'>"
      ]
     },
     "execution_count": 85,
     "metadata": {},
     "output_type": "execute_result"
    },
    {
     "data": {
      "image/png": "[encoded data removed]",
      "text/plain": [
       "<Figure size 576x432 with 2 Axes>"
      ]
     },
     "metadata": {
      "needs_background": "light"
     },
     "output_type": "display_data"
    }
   ],
   "source": [
    "from matplotlib import pyplot as plt\n",
    "from lifelines.plotting import add_at_risk_counts\n",
    "\n",
    "plt.figure(figsize=(8,6))\n",
    "\n",
    "kmf.plot_survival_function()\n",
    "plt.title(\"Survival plot of Leigh patients (NPMDS data)\");\n",
    "plt.ylabel(\"Probability of survival\")\n",
    "plt.xlabel(\"Age (days)\")\n",
    "\n",
    "add_at_risk_counts(kmf)"
   ]
  },
  {
   "cell_type": "code",
   "execution_count": 86,
   "metadata": {},
   "outputs": [
    {
     "data": {
      "text/plain": [
       "Text(0.5, 0, 'Age (days)')"
      ]
     },
     "execution_count": 86,
     "metadata": {},
     "output_type": "execute_result"
    },
    {
     "data": {
      "image/png": "[encoded data removed]",
      "text/plain": [
       "<Figure size 432x288 with 1 Axes>"
      ]
     },
     "metadata": {
      "needs_background": "light"
     },
     "output_type": "display_data"
    }
   ],
   "source": [
    "ax = plt.subplot(111)\n",
    "\n",
    "feed = (surv_df[\"Feeding_npmds\"] == 3)\n",
    "\n",
    "T = surv_df[\"Age\"]\n",
    "E = surv_df[\"Event\"]\n",
    "\n",
    "kmf.fit(T[feed], event_observed=E[feed], label=\"Enteral Feeding\")\n",
    "kmf.plot_survival_function(ax=ax)\n",
    "\n",
    "kmf.fit(T[~feed], event_observed=E[~feed], label=\"Normal to Moderate\")\n",
    "kmf.plot_survival_function(ax=ax)\n",
    "\n",
    "plt.title(\"Survival plot of Leigh patients (NPMDS data)\");\n",
    "plt.ylabel(\"Probability of survival\")\n",
    "plt.xlabel(\"Age (days)\")\n"
   ]
  },
  {
   "cell_type": "code",
   "execution_count": 87,
   "metadata": {},
   "outputs": [
    {
     "data": {
      "text/html": [
       "<div>\n",
       "<style scoped>\n",
       "    .dataframe tbody tr th:only-of-type {\n",
       "        vertical-align: middle;\n",
       "    }\n",
       "\n",
       "    .dataframe tbody tr th {\n",
       "        vertical-align: top;\n",
       "    }\n",
       "\n",
       "    .dataframe thead th {\n",
       "        text-align: right;\n",
       "    }\n",
       "</style>\n",
       "<table border=\"1\" class=\"dataframe\">\n",
       "  <tbody>\n",
       "    <tr>\n",
       "      <th>t_0</th>\n",
       "      <td>-1</td>\n",
       "    </tr>\n",
       "    <tr>\n",
       "      <th>null_distribution</th>\n",
       "      <td>chi squared</td>\n",
       "    </tr>\n",
       "    <tr>\n",
       "      <th>degrees_of_freedom</th>\n",
       "      <td>1</td>\n",
       "    </tr>\n",
       "    <tr>\n",
       "      <th>alpha</th>\n",
       "      <td>0.99</td>\n",
       "    </tr>\n",
       "    <tr>\n",
       "      <th>test_name</th>\n",
       "      <td>logrank_test</td>\n",
       "    </tr>\n",
       "  </tbody>\n",
       "</table>\n",
       "</div><table border=\"1\" class=\"dataframe\">\n",
       "  <thead>\n",
       "    <tr style=\"text-align: right;\">\n",
       "      <th></th>\n",
       "      <th>test_statistic</th>\n",
       "      <th>p</th>\n",
       "      <th>-log2(p)</th>\n",
       "    </tr>\n",
       "  </thead>\n",
       "  <tbody>\n",
       "    <tr>\n",
       "      <th>0</th>\n",
       "      <td>0.74</td>\n",
       "      <td>0.39</td>\n",
       "      <td>1.37</td>\n",
       "    </tr>\n",
       "  </tbody>\n",
       "</table>"
      ],
      "text/latex": [
       "\\begin{tabular}{lrrr}\n",
       "\\toprule\n",
       "{} &  test\\_statistic &         p &  -log2(p) \\\\\n",
       "\\midrule\n",
       "0 &        0.744624 &  0.388184 &  1.365189 \\\\\n",
       "\\bottomrule\n",
       "\\end{tabular}\n"
      ],
      "text/plain": [
       "<lifelines.StatisticalResult: logrank_test>\n",
       "               t_0 = -1\n",
       " null_distribution = chi squared\n",
       "degrees_of_freedom = 1\n",
       "             alpha = 0.99\n",
       "         test_name = logrank_test\n",
       "\n",
       "---\n",
       " test_statistic    p  -log2(p)\n",
       "           0.74 0.39      1.37"
      ]
     },
     "metadata": {},
     "output_type": "display_data"
    }
   ],
   "source": [
    "from lifelines.statistics import logrank_test\n",
    "\n",
    "results = logrank_test(T[feed], T[~feed], E[feed], E[~feed], alpha=.99)\n",
    "\n",
    "results.print_summary()\n"
   ]
  },
  {
   "cell_type": "code",
   "execution_count": 88,
   "metadata": {},
   "outputs": [
    {
     "data": {
      "text/plain": [
       "Text(0.5, 0, 'Age(days)')"
      ]
     },
     "execution_count": 88,
     "metadata": {},
     "output_type": "execute_result"
    },
    {
     "data": {
      "image/png": "[encoded data removed]",
      "text/plain": [
       "<Figure size 432x288 with 1 Axes>"
      ]
     },
     "metadata": {
      "needs_background": "light"
     },
     "output_type": "display_data"
    }
   ],
   "source": [
    "ax = plt.subplot(111)\n",
    "\n",
    "mob = (surv_df[\"Mobility_npmds\"] == 3)\n",
    "\n",
    "T = surv_df[\"Age\"]\n",
    "E = surv_df[\"Event\"]\n",
    "\n",
    "kmf.fit(T[mob], event_observed=E[mob], label=\"Immobile\")\n",
    "kmf.plot_survival_function(ax=ax)\n",
    "\n",
    "kmf.fit(T[~mob], event_observed=E[~mob], label=\"Normal to Moderate\")\n",
    "kmf.plot_survival_function(ax=ax)\n",
    "\n",
    "plt.title(\"Survival plot of Leigh patients (NPMDS data) \");\n",
    "plt.ylabel(\"Probability of survival\")\n",
    "plt.xlabel(\"Age(days)\")\n",
    "\n"
   ]
  },
  {
   "cell_type": "code",
   "execution_count": 89,
   "metadata": {},
   "outputs": [
    {
     "data": {
      "text/html": [
       "<div>\n",
       "<style scoped>\n",
       "    .dataframe tbody tr th:only-of-type {\n",
       "        vertical-align: middle;\n",
       "    }\n",
       "\n",
       "    .dataframe tbody tr th {\n",
       "        vertical-align: top;\n",
       "    }\n",
       "\n",
       "    .dataframe thead th {\n",
       "        text-align: right;\n",
       "    }\n",
       "</style>\n",
       "<table border=\"1\" class=\"dataframe\">\n",
       "  <tbody>\n",
       "    <tr>\n",
       "      <th>t_0</th>\n",
       "      <td>-1</td>\n",
       "    </tr>\n",
       "    <tr>\n",
       "      <th>null_distribution</th>\n",
       "      <td>chi squared</td>\n",
       "    </tr>\n",
       "    <tr>\n",
       "      <th>degrees_of_freedom</th>\n",
       "      <td>1</td>\n",
       "    </tr>\n",
       "    <tr>\n",
       "      <th>alpha</th>\n",
       "      <td>0.99</td>\n",
       "    </tr>\n",
       "    <tr>\n",
       "      <th>test_name</th>\n",
       "      <td>logrank_test</td>\n",
       "    </tr>\n",
       "  </tbody>\n",
       "</table>\n",
       "</div><table border=\"1\" class=\"dataframe\">\n",
       "  <thead>\n",
       "    <tr style=\"text-align: right;\">\n",
       "      <th></th>\n",
       "      <th>test_statistic</th>\n",
       "      <th>p</th>\n",
       "      <th>-log2(p)</th>\n",
       "    </tr>\n",
       "  </thead>\n",
       "  <tbody>\n",
       "    <tr>\n",
       "      <th>0</th>\n",
       "      <td>1.38</td>\n",
       "      <td>0.24</td>\n",
       "      <td>2.06</td>\n",
       "    </tr>\n",
       "  </tbody>\n",
       "</table>"
      ],
      "text/latex": [
       "\\begin{tabular}{lrrr}\n",
       "\\toprule\n",
       "{} &  test\\_statistic &         p &  -log2(p) \\\\\n",
       "\\midrule\n",
       "0 &        1.380727 &  0.239977 &   2.05903 \\\\\n",
       "\\bottomrule\n",
       "\\end{tabular}\n"
      ],
      "text/plain": [
       "<lifelines.StatisticalResult: logrank_test>\n",
       "               t_0 = -1\n",
       " null_distribution = chi squared\n",
       "degrees_of_freedom = 1\n",
       "             alpha = 0.99\n",
       "         test_name = logrank_test\n",
       "\n",
       "---\n",
       " test_statistic    p  -log2(p)\n",
       "           1.38 0.24      2.06"
      ]
     },
     "metadata": {},
     "output_type": "display_data"
    }
   ],
   "source": [
    "from lifelines.statistics import logrank_test\n",
    "\n",
    "results = logrank_test(T[mob], T[~mob], E[mob], E[~mob], alpha=.99)\n",
    "\n",
    "results.print_summary()"
   ]
  },
  {
   "cell_type": "code",
   "execution_count": 90,
   "metadata": {},
   "outputs": [],
   "source": [
    "import numpy as np\n",
    "from sklearn.model_selection import train_test_split\n",
    "\n",
    "df_train, df_test = train_test_split(surv_df,test_size=0.3, random_state=102)\n",
    "\n",
    "X_train = df_train.drop(columns = ['Event','Age'])\n",
    "y_train = df_train[['Event','Age']]\n",
    "X_test = df_test.drop(columns = ['Event','Age'])\n",
    "y_test = df_test[['Event','Age']]"
   ]
  },
  {
   "cell_type": "code",
   "execution_count": 91,
   "metadata": {},
   "outputs": [],
   "source": [
    "# Formatting y dataframe into tuple array \n",
    "y_train['Event'] = y_train['Event'].replace([1],True)\n",
    "y_train['Event'] = y_train['Event'].replace([0],False)\n",
    "y_train = y_train.to_records(index=False)\n"
   ]
  },
  {
   "cell_type": "code",
   "execution_count": 92,
   "metadata": {},
   "outputs": [
    {
     "data": {
      "text/plain": [
       "CoxPHSurvivalAnalysis(alpha=0.1)"
      ]
     },
     "execution_count": 92,
     "metadata": {},
     "output_type": "execute_result"
    }
   ],
   "source": [
    "cph = CoxPHSurvivalAnalysis(alpha=0.1)\n",
    "cph.fit(X_train, y_train)"
   ]
  },
  {
   "cell_type": "code",
   "execution_count": 93,
   "metadata": {},
   "outputs": [
    {
     "data": {
      "text/html": [
       "<div>\n",
       "<style scoped>\n",
       "    .dataframe tbody tr th:only-of-type {\n",
       "        vertical-align: middle;\n",
       "    }\n",
       "\n",
       "    .dataframe tbody tr th {\n",
       "        vertical-align: top;\n",
       "    }\n",
       "\n",
       "    .dataframe thead th {\n",
       "        text-align: right;\n",
       "    }\n",
       "</style>\n",
       "<table border=\"1\" class=\"dataframe\">\n",
       "  <thead>\n",
       "    <tr style=\"text-align: right;\">\n",
       "      <th></th>\n",
       "      <th>coefficient</th>\n",
       "    </tr>\n",
       "  </thead>\n",
       "  <tbody>\n",
       "    <tr>\n",
       "      <th>Development_npmds</th>\n",
       "      <td>0.948181</td>\n",
       "    </tr>\n",
       "    <tr>\n",
       "      <th>Vision_npmds_self</th>\n",
       "      <td>0.904263</td>\n",
       "    </tr>\n",
       "    <tr>\n",
       "      <th>Ptosis_npmds</th>\n",
       "      <td>0.553916</td>\n",
       "    </tr>\n",
       "    <tr>\n",
       "      <th>Encephalopathy_npmds</th>\n",
       "      <td>0.547087</td>\n",
       "    </tr>\n",
       "    <tr>\n",
       "      <th>Feeding_npmds</th>\n",
       "      <td>0.477148</td>\n",
       "    </tr>\n",
       "    <tr>\n",
       "      <th>Cardiovascular_npmds</th>\n",
       "      <td>0.427222</td>\n",
       "    </tr>\n",
       "    <tr>\n",
       "      <th>Vision_npmds</th>\n",
       "      <td>0.321936</td>\n",
       "    </tr>\n",
       "    <tr>\n",
       "      <th>Sex</th>\n",
       "      <td>0.286061</td>\n",
       "    </tr>\n",
       "    <tr>\n",
       "      <th>Seizures_npmds</th>\n",
       "      <td>0.258610</td>\n",
       "    </tr>\n",
       "    <tr>\n",
       "      <th>Mobility_npmds</th>\n",
       "      <td>0.225818</td>\n",
       "    </tr>\n",
       "    <tr>\n",
       "      <th>Hearing_npmds</th>\n",
       "      <td>0.151163</td>\n",
       "    </tr>\n",
       "    <tr>\n",
       "      <th>Endocrine_npmds</th>\n",
       "      <td>0.115545</td>\n",
       "    </tr>\n",
       "    <tr>\n",
       "      <th>Liver_npmds</th>\n",
       "      <td>0.115545</td>\n",
       "    </tr>\n",
       "    <tr>\n",
       "      <th>Blood_npmds</th>\n",
       "      <td>0.115545</td>\n",
       "    </tr>\n",
       "    <tr>\n",
       "      <th>Neuropathy_npmds</th>\n",
       "      <td>0.115545</td>\n",
       "    </tr>\n",
       "    <tr>\n",
       "      <th>Renal_npmds</th>\n",
       "      <td>0.115545</td>\n",
       "    </tr>\n",
       "    <tr>\n",
       "      <th>Myopathy_npmds</th>\n",
       "      <td>0.064939</td>\n",
       "    </tr>\n",
       "    <tr>\n",
       "      <th>Communication_npmds</th>\n",
       "      <td>0.053464</td>\n",
       "    </tr>\n",
       "    <tr>\n",
       "      <th>Respiratory_npmds</th>\n",
       "      <td>-0.119048</td>\n",
       "    </tr>\n",
       "    <tr>\n",
       "      <th>Pyramidal_npmds</th>\n",
       "      <td>-0.452924</td>\n",
       "    </tr>\n",
       "    <tr>\n",
       "      <th>Growth_npmds</th>\n",
       "      <td>-0.573830</td>\n",
       "    </tr>\n",
       "    <tr>\n",
       "      <th>Gastrointestinal_npmds</th>\n",
       "      <td>-0.853214</td>\n",
       "    </tr>\n",
       "    <tr>\n",
       "      <th>Extrapyramidal_npmds</th>\n",
       "      <td>-1.003921</td>\n",
       "    </tr>\n",
       "  </tbody>\n",
       "</table>\n",
       "</div>"
      ],
      "text/plain": [
       "                        coefficient\n",
       "Development_npmds          0.948181\n",
       "Vision_npmds_self          0.904263\n",
       "Ptosis_npmds               0.553916\n",
       "Encephalopathy_npmds       0.547087\n",
       "Feeding_npmds              0.477148\n",
       "Cardiovascular_npmds       0.427222\n",
       "Vision_npmds               0.321936\n",
       "Sex                        0.286061\n",
       "Seizures_npmds             0.258610\n",
       "Mobility_npmds             0.225818\n",
       "Hearing_npmds              0.151163\n",
       "Endocrine_npmds            0.115545\n",
       "Liver_npmds                0.115545\n",
       "Blood_npmds                0.115545\n",
       "Neuropathy_npmds           0.115545\n",
       "Renal_npmds                0.115545\n",
       "Myopathy_npmds             0.064939\n",
       "Communication_npmds        0.053464\n",
       "Respiratory_npmds         -0.119048\n",
       "Pyramidal_npmds           -0.452924\n",
       "Growth_npmds              -0.573830\n",
       "Gastrointestinal_npmds    -0.853214\n",
       "Extrapyramidal_npmds      -1.003921"
      ]
     },
     "execution_count": 93,
     "metadata": {},
     "output_type": "execute_result"
    }
   ],
   "source": [
    "coef= cph.coef_\n",
    "coefficients = pd.DataFrame(coef,columns=['coefficient'],index=X_train.columns)\n",
    "coefficients.sort_values(by='coefficient',ascending=False)"
   ]
  },
  {
   "cell_type": "code",
   "execution_count": 94,
   "metadata": {},
   "outputs": [
    {
     "ename": "ValueError",
     "evalue": "All samples are censored",
     "output_type": "error",
     "traceback": [
      "\u001b[0;31m---------------------------------------------------------------------------\u001b[0m",
      "\u001b[0;31mValueError\u001b[0m                                Traceback (most recent call last)",
      "\u001b[0;32m<ipython-input-94-ce9898170c7e>\u001b[0m in \u001b[0;36m<module>\u001b[0;34m\u001b[0m\n\u001b[1;32m      6\u001b[0m \u001b[0;34m\u001b[0m\u001b[0m\n\u001b[1;32m      7\u001b[0m \u001b[0mprediction\u001b[0m \u001b[0;34m=\u001b[0m \u001b[0mcph\u001b[0m\u001b[0;34m.\u001b[0m\u001b[0mpredict\u001b[0m\u001b[0;34m(\u001b[0m\u001b[0mX_test\u001b[0m\u001b[0;34m)\u001b[0m\u001b[0;34m\u001b[0m\u001b[0;34m\u001b[0m\u001b[0m\n\u001b[0;32m----> 8\u001b[0;31m \u001b[0mresult\u001b[0m \u001b[0;34m=\u001b[0m \u001b[0mconcordance_index_censored\u001b[0m\u001b[0;34m(\u001b[0m\u001b[0my_test\u001b[0m\u001b[0;34m[\u001b[0m\u001b[0;34m\"Event\"\u001b[0m\u001b[0;34m]\u001b[0m\u001b[0;34m,\u001b[0m \u001b[0my_test\u001b[0m\u001b[0;34m[\u001b[0m\u001b[0;34m\"Age\"\u001b[0m\u001b[0;34m]\u001b[0m\u001b[0;34m,\u001b[0m \u001b[0mprediction\u001b[0m\u001b[0;34m)\u001b[0m\u001b[0;34m\u001b[0m\u001b[0;34m\u001b[0m\u001b[0m\n\u001b[0m\u001b[1;32m      9\u001b[0m \u001b[0mprint\u001b[0m \u001b[0;34m(\u001b[0m\u001b[0;34m'concordance index:'\u001b[0m\u001b[0;34m,\u001b[0m \u001b[0mresult\u001b[0m\u001b[0;34m[\u001b[0m\u001b[0;36m0\u001b[0m\u001b[0;34m]\u001b[0m\u001b[0;34m)\u001b[0m\u001b[0;34m\u001b[0m\u001b[0;34m\u001b[0m\u001b[0m\n",
      "\u001b[0;32m/opt/anaconda3/lib/python3.8/site-packages/sksurv/metrics.py\u001b[0m in \u001b[0;36mconcordance_index_censored\u001b[0;34m(event_indicator, event_time, estimate, tied_tol)\u001b[0m\n\u001b[1;32m    203\u001b[0m            \u001b[0mStatistics\u001b[0m \u001b[0;32min\u001b[0m \u001b[0mMedicine\u001b[0m\u001b[0;34m,\u001b[0m \u001b[0;36m15\u001b[0m\u001b[0;34m(\u001b[0m\u001b[0;36m4\u001b[0m\u001b[0;34m)\u001b[0m\u001b[0;34m,\u001b[0m \u001b[0;36m361\u001b[0m\u001b[0;34m-\u001b[0m\u001b[0;36m87\u001b[0m\u001b[0;34m,\u001b[0m \u001b[0;36m1996.\u001b[0m\u001b[0;34m\u001b[0m\u001b[0;34m\u001b[0m\u001b[0m\n\u001b[1;32m    204\u001b[0m     \"\"\"\n\u001b[0;32m--> 205\u001b[0;31m     event_indicator, event_time, estimate = _check_inputs(\n\u001b[0m\u001b[1;32m    206\u001b[0m         event_indicator, event_time, estimate)\n\u001b[1;32m    207\u001b[0m \u001b[0;34m\u001b[0m\u001b[0m\n",
      "\u001b[0;32m/opt/anaconda3/lib/python3.8/site-packages/sksurv/metrics.py\u001b[0m in \u001b[0;36m_check_inputs\u001b[0;34m(event_indicator, event_time, estimate)\u001b[0m\n\u001b[1;32m     53\u001b[0m \u001b[0;34m\u001b[0m\u001b[0m\n\u001b[1;32m     54\u001b[0m     \u001b[0;32mif\u001b[0m \u001b[0;32mnot\u001b[0m \u001b[0mevent_indicator\u001b[0m\u001b[0;34m.\u001b[0m\u001b[0many\u001b[0m\u001b[0;34m(\u001b[0m\u001b[0;34m)\u001b[0m\u001b[0;34m:\u001b[0m\u001b[0;34m\u001b[0m\u001b[0;34m\u001b[0m\u001b[0m\n\u001b[0;32m---> 55\u001b[0;31m         \u001b[0;32mraise\u001b[0m \u001b[0mValueError\u001b[0m\u001b[0;34m(\u001b[0m\u001b[0;34m\"All samples are censored\"\u001b[0m\u001b[0;34m)\u001b[0m\u001b[0;34m\u001b[0m\u001b[0;34m\u001b[0m\u001b[0m\n\u001b[0m\u001b[1;32m     56\u001b[0m \u001b[0;34m\u001b[0m\u001b[0m\n\u001b[1;32m     57\u001b[0m     \u001b[0;32mreturn\u001b[0m \u001b[0mevent_indicator\u001b[0m\u001b[0;34m,\u001b[0m \u001b[0mevent_time\u001b[0m\u001b[0;34m,\u001b[0m \u001b[0mestimate\u001b[0m\u001b[0;34m\u001b[0m\u001b[0;34m\u001b[0m\u001b[0m\n",
      "\u001b[0;31mValueError\u001b[0m: All samples are censored"
     ]
    }
   ],
   "source": [
    "from sksurv.metrics import concordance_index_censored\n",
    "\n",
    "y_test['Event'] = y_test['Event'].replace([1],True)\n",
    "y_test['Event'] = y_test['Event'].replace([0],False)\n",
    "y_test = y_test.to_records(index=False)\n",
    "\n",
    "prediction = cph.predict(X_test)\n",
    "result = concordance_index_censored(y_test[\"Event\"], y_test[\"Age\"], prediction)\n",
    "print ('concordance index:', result[0])"
   ]
  },
  {
   "cell_type": "code",
   "execution_count": 95,
   "metadata": {},
   "outputs": [
    {
     "ename": "ValueError",
     "evalue": "all samples are censored",
     "output_type": "error",
     "traceback": [
      "\u001b[0;31m---------------------------------------------------------------------------\u001b[0m",
      "\u001b[0;31mValueError\u001b[0m                                Traceback (most recent call last)",
      "\u001b[0;32m<ipython-input-95-dfea02f96c14>\u001b[0m in \u001b[0;36m<module>\u001b[0;34m\u001b[0m\n\u001b[1;32m      3\u001b[0m \u001b[0myears\u001b[0m \u001b[0;34m=\u001b[0m \u001b[0mnp\u001b[0m\u001b[0;34m.\u001b[0m\u001b[0marange\u001b[0m\u001b[0;34m(\u001b[0m\u001b[0;36m2\u001b[0m\u001b[0;34m,\u001b[0m\u001b[0;36m24\u001b[0m\u001b[0;34m)\u001b[0m\u001b[0;34m\u001b[0m\u001b[0;34m\u001b[0m\u001b[0m\n\u001b[1;32m      4\u001b[0m \u001b[0;34m\u001b[0m\u001b[0m\n\u001b[0;32m----> 5\u001b[0;31m \u001b[0mcph_auc\u001b[0m\u001b[0;34m,\u001b[0m \u001b[0mcph_mean_auc\u001b[0m \u001b[0;34m=\u001b[0m \u001b[0mcumulative_dynamic_auc\u001b[0m\u001b[0;34m(\u001b[0m\u001b[0my_train\u001b[0m\u001b[0;34m,\u001b[0m \u001b[0my_test\u001b[0m\u001b[0;34m,\u001b[0m \u001b[0mprediction\u001b[0m\u001b[0;34m,\u001b[0m \u001b[0myears\u001b[0m\u001b[0;34m)\u001b[0m\u001b[0;34m\u001b[0m\u001b[0;34m\u001b[0m\u001b[0m\n\u001b[0m\u001b[1;32m      6\u001b[0m \u001b[0;34m\u001b[0m\u001b[0m\n\u001b[1;32m      7\u001b[0m \u001b[0mplt\u001b[0m\u001b[0;34m.\u001b[0m\u001b[0mplot\u001b[0m\u001b[0;34m(\u001b[0m\u001b[0myears\u001b[0m\u001b[0;34m,\u001b[0m \u001b[0mcph_auc\u001b[0m\u001b[0;34m,\u001b[0m \u001b[0mmarker\u001b[0m\u001b[0;34m=\u001b[0m\u001b[0;34m\"o\"\u001b[0m\u001b[0;34m)\u001b[0m\u001b[0;34m\u001b[0m\u001b[0;34m\u001b[0m\u001b[0m\n",
      "\u001b[0;32m/opt/anaconda3/lib/python3.8/site-packages/sksurv/metrics.py\u001b[0m in \u001b[0;36mcumulative_dynamic_auc\u001b[0;34m(survival_train, survival_test, estimate, times, tied_tol)\u001b[0m\n\u001b[1;32m    415\u001b[0m            \u001b[0mStatistical\u001b[0m \u001b[0mMethods\u001b[0m \u001b[0;32min\u001b[0m \u001b[0mMedical\u001b[0m \u001b[0mResearch\u001b[0m\u001b[0;34m,\u001b[0m \u001b[0;36m2014.\u001b[0m\u001b[0;34m\u001b[0m\u001b[0;34m\u001b[0m\u001b[0m\n\u001b[1;32m    416\u001b[0m     \"\"\"\n\u001b[0;32m--> 417\u001b[0;31m     \u001b[0mtest_event\u001b[0m\u001b[0;34m,\u001b[0m \u001b[0mtest_time\u001b[0m \u001b[0;34m=\u001b[0m \u001b[0mcheck_y_survival\u001b[0m\u001b[0;34m(\u001b[0m\u001b[0msurvival_test\u001b[0m\u001b[0;34m)\u001b[0m\u001b[0;34m\u001b[0m\u001b[0;34m\u001b[0m\u001b[0m\n\u001b[0m\u001b[1;32m    418\u001b[0m \u001b[0;34m\u001b[0m\u001b[0m\n\u001b[1;32m    419\u001b[0m     \u001b[0mestimate\u001b[0m \u001b[0;34m=\u001b[0m \u001b[0m_check_estimate\u001b[0m\u001b[0;34m(\u001b[0m\u001b[0mestimate\u001b[0m\u001b[0;34m,\u001b[0m \u001b[0mtest_time\u001b[0m\u001b[0;34m)\u001b[0m\u001b[0;34m\u001b[0m\u001b[0;34m\u001b[0m\u001b[0m\n",
      "\u001b[0;32m/opt/anaconda3/lib/python3.8/site-packages/sksurv/util.py\u001b[0m in \u001b[0;36mcheck_y_survival\u001b[0;34m(y_or_event, allow_all_censored, *args)\u001b[0m\n\u001b[1;32m    148\u001b[0m \u001b[0;34m\u001b[0m\u001b[0m\n\u001b[1;32m    149\u001b[0m     \u001b[0;32mif\u001b[0m \u001b[0;32mnot\u001b[0m \u001b[0;34m(\u001b[0m\u001b[0mallow_all_censored\u001b[0m \u001b[0;32mor\u001b[0m \u001b[0mnumpy\u001b[0m\u001b[0;34m.\u001b[0m\u001b[0many\u001b[0m\u001b[0;34m(\u001b[0m\u001b[0mevent\u001b[0m\u001b[0;34m)\u001b[0m\u001b[0;34m)\u001b[0m\u001b[0;34m:\u001b[0m\u001b[0;34m\u001b[0m\u001b[0;34m\u001b[0m\u001b[0m\n\u001b[0;32m--> 150\u001b[0;31m         \u001b[0;32mraise\u001b[0m \u001b[0mValueError\u001b[0m\u001b[0;34m(\u001b[0m\u001b[0;34m'all samples are censored'\u001b[0m\u001b[0;34m)\u001b[0m\u001b[0;34m\u001b[0m\u001b[0;34m\u001b[0m\u001b[0m\n\u001b[0m\u001b[1;32m    151\u001b[0m \u001b[0;34m\u001b[0m\u001b[0m\n\u001b[1;32m    152\u001b[0m     \u001b[0mreturn_val\u001b[0m \u001b[0;34m=\u001b[0m \u001b[0;34m[\u001b[0m\u001b[0mevent\u001b[0m\u001b[0;34m]\u001b[0m\u001b[0;34m\u001b[0m\u001b[0;34m\u001b[0m\u001b[0m\n",
      "\u001b[0;31mValueError\u001b[0m: all samples are censored"
     ]
    }
   ],
   "source": [
    "from sksurv.metrics import cumulative_dynamic_auc\n",
    "\n",
    "years = np.arange(2,24)\n",
    "\n",
    "cph_auc, cph_mean_auc = cumulative_dynamic_auc(y_train, y_test, prediction, years)\n",
    "\n",
    "plt.plot(years, cph_auc, marker=\"o\")\n",
    "plt.axhline(cph_mean_auc, linestyle=\"--\")\n",
    "plt.xlabel(\"years\")\n",
    "plt.ylabel(\"time-dependent AUC\")\n",
    "plt.grid(True)"
   ]
  },
  {
   "cell_type": "code",
   "execution_count": 96,
   "metadata": {},
   "outputs": [],
   "source": [
    "npmds_2=npmds.fillna(9)\n",
    "npmds_2.rename(columns = {'Unique ID': 'UniqueID'},inplace=True)\n",
    "# Merging both datasets together\n",
    "npmds_combined =  pd.merge(npmds_2,all[['UniqueID','Birth_date','Sex']], on=[\"UniqueID\"],how='left')\n",
    "\n"
   ]
  },
  {
   "cell_type": "code",
   "execution_count": 97,
   "metadata": {},
   "outputs": [],
   "source": [
    "surv_df = npmds_combined\n",
    "surv_df = surv_df[surv_df[\"Date\"] > surv_df[\"Birth_date\"]]\n",
    "surv_df['Age'] = surv_df.apply(lambda x: x['Date']-x['Birth_date'], axis = 1)\n",
    "surv_df['Age'] = surv_df['Age'].astype('timedelta64[D]').astype(int)\n",
    "\n",
    "surv_df['Event'] =  surv_df.apply(lambda x: 1 \\\n",
    "                               if x['Feeding_npmds']== 3 \\\n",
    "                               else 0, axis = 1)\n",
    "\n",
    "surv_df = surv_df.sort_values(by=\"Date\").drop_duplicates(subset=[\"UniqueID\",\"Event\"], keep=\"first\")\n",
    "surv_df = surv_df.sort_values(by=\"Date\").drop_duplicates(subset=[\"UniqueID\"], keep=\"last\")\n",
    "\n",
    "surv_df.drop(columns=['UniqueID','Birth_date','Date','Feeding_npmds'],inplace=True)\n",
    "\n",
    "from sklearn.preprocessing import LabelEncoder\n",
    "# creating instance of labelencoder\n",
    "labelencoder = LabelEncoder()\n",
    "# Assigning numerical values and storing in another column\n",
    "surv_df['Sex'] = labelencoder.fit_transform(surv_df['Sex'])\n"
   ]
  },
  {
   "cell_type": "code",
   "execution_count": 98,
   "metadata": {},
   "outputs": [],
   "source": [
    "import numpy as np\n",
    "from sklearn.model_selection import train_test_split\n",
    "\n",
    "random_state=42\n",
    "\n",
    "df_train, df_test = train_test_split(surv_df,test_size=0.3, random_state=random_state)\n",
    "\n",
    "X_train = df_train.drop(columns = ['Event','Age'])\n",
    "y_train = df_train[['Event','Age']]\n",
    "X_test = df_test.drop(columns = ['Event','Age'])\n",
    "y_test = df_test[['Event','Age']]"
   ]
  },
  {
   "cell_type": "code",
   "execution_count": 99,
   "metadata": {},
   "outputs": [
    {
     "data": {
      "text/plain": [
       "<lifelines.KaplanMeierFitter:\"KM_estimate\", fitted with 14 total observations, 7 right-censored observations>"
      ]
     },
     "execution_count": 99,
     "metadata": {},
     "output_type": "execute_result"
    }
   ],
   "source": [
    "from lifelines import KaplanMeierFitter\n",
    "kmf = KaplanMeierFitter()\n",
    "\n",
    "T = y_train[\"Age\"]\n",
    "E = y_train[\"Event\"]\n",
    "\n",
    "kmf.fit(T, event_observed=E)"
   ]
  },
  {
   "cell_type": "code",
   "execution_count": 100,
   "metadata": {},
   "outputs": [
    {
     "data": {
      "text/plain": [
       "Text(0.5, 0, 'Age (days)')"
      ]
     },
     "execution_count": 100,
     "metadata": {},
     "output_type": "execute_result"
    },
    {
     "data": {
      "image/png": "[encoded data removed]",
      "text/plain": [
       "<Figure size 432x288 with 1 Axes>"
      ]
     },
     "metadata": {
      "needs_background": "light"
     },
     "output_type": "display_data"
    }
   ],
   "source": [
    "from matplotlib import pyplot as plt\n",
    "\n",
    "plt.figure(figsize=(6,4))\n",
    "\n",
    "kmf.plot_survival_function()\n",
    "plt.title(\"Survival plot of time to Enteral Feeding\");\n",
    "plt.ylabel(\"Probability of not requiring Enteral Feeding\")\n",
    "plt.xlabel(\"Age (days)\")"
   ]
  },
  {
   "cell_type": "code",
   "execution_count": 101,
   "metadata": {},
   "outputs": [
    {
     "data": {
      "text/plain": [
       "2309.0"
      ]
     },
     "execution_count": 101,
     "metadata": {},
     "output_type": "execute_result"
    }
   ],
   "source": [
    "kmf.median_survival_time_"
   ]
  },
  {
   "cell_type": "code",
   "execution_count": 102,
   "metadata": {},
   "outputs": [],
   "source": [
    "# Formatting y dataframe into tuple array \n",
    "y_train['Event'] = y_train['Event'].replace([1],True)\n",
    "y_train['Event'] = y_train['Event'].replace([0],False)\n",
    "y_train = y_train.to_records(index=False)\n"
   ]
  },
  {
   "cell_type": "code",
   "execution_count": 103,
   "metadata": {},
   "outputs": [
    {
     "data": {
      "text/plain": [
       "CoxPHSurvivalAnalysis(alpha=0.1)"
      ]
     },
     "execution_count": 103,
     "metadata": {},
     "output_type": "execute_result"
    }
   ],
   "source": [
    "cph = CoxPHSurvivalAnalysis(alpha=0.1)\n",
    "cph.fit(X_train, y_train)"
   ]
  },
  {
   "cell_type": "code",
   "execution_count": 104,
   "metadata": {},
   "outputs": [
    {
     "data": {
      "text/html": [
       "<div>\n",
       "<style scoped>\n",
       "    .dataframe tbody tr th:only-of-type {\n",
       "        vertical-align: middle;\n",
       "    }\n",
       "\n",
       "    .dataframe tbody tr th {\n",
       "        vertical-align: top;\n",
       "    }\n",
       "\n",
       "    .dataframe thead th {\n",
       "        text-align: right;\n",
       "    }\n",
       "</style>\n",
       "<table border=\"1\" class=\"dataframe\">\n",
       "  <thead>\n",
       "    <tr style=\"text-align: right;\">\n",
       "      <th></th>\n",
       "      <th>coefficient</th>\n",
       "    </tr>\n",
       "  </thead>\n",
       "  <tbody>\n",
       "    <tr>\n",
       "      <th>Vision_npmds_self</th>\n",
       "      <td>3.865887</td>\n",
       "    </tr>\n",
       "    <tr>\n",
       "      <th>Development_npmds</th>\n",
       "      <td>1.039425</td>\n",
       "    </tr>\n",
       "    <tr>\n",
       "      <th>Vision_npmds</th>\n",
       "      <td>0.820447</td>\n",
       "    </tr>\n",
       "    <tr>\n",
       "      <th>Mobility_npmds</th>\n",
       "      <td>0.753882</td>\n",
       "    </tr>\n",
       "    <tr>\n",
       "      <th>Sex</th>\n",
       "      <td>0.730046</td>\n",
       "    </tr>\n",
       "    <tr>\n",
       "      <th>Cardiovascular_npmds</th>\n",
       "      <td>0.521952</td>\n",
       "    </tr>\n",
       "    <tr>\n",
       "      <th>Respiratory_npmds</th>\n",
       "      <td>0.494222</td>\n",
       "    </tr>\n",
       "    <tr>\n",
       "      <th>Growth_npmds</th>\n",
       "      <td>0.360489</td>\n",
       "    </tr>\n",
       "    <tr>\n",
       "      <th>Ptosis_npmds</th>\n",
       "      <td>0.279570</td>\n",
       "    </tr>\n",
       "    <tr>\n",
       "      <th>Encephalopathy_npmds</th>\n",
       "      <td>0.230627</td>\n",
       "    </tr>\n",
       "    <tr>\n",
       "      <th>Renal_npmds</th>\n",
       "      <td>-0.019496</td>\n",
       "    </tr>\n",
       "    <tr>\n",
       "      <th>Blood_npmds</th>\n",
       "      <td>-0.019496</td>\n",
       "    </tr>\n",
       "    <tr>\n",
       "      <th>Endocrine_npmds</th>\n",
       "      <td>-0.019496</td>\n",
       "    </tr>\n",
       "    <tr>\n",
       "      <th>Liver_npmds</th>\n",
       "      <td>-0.019496</td>\n",
       "    </tr>\n",
       "    <tr>\n",
       "      <th>Extrapyramidal_npmds</th>\n",
       "      <td>-0.067239</td>\n",
       "    </tr>\n",
       "    <tr>\n",
       "      <th>Pyramidal_npmds</th>\n",
       "      <td>-0.177174</td>\n",
       "    </tr>\n",
       "    <tr>\n",
       "      <th>Neuropathy_npmds</th>\n",
       "      <td>-0.340618</td>\n",
       "    </tr>\n",
       "    <tr>\n",
       "      <th>Seizures_npmds</th>\n",
       "      <td>-0.474696</td>\n",
       "    </tr>\n",
       "    <tr>\n",
       "      <th>Gastrointestinal_npmds</th>\n",
       "      <td>-0.507268</td>\n",
       "    </tr>\n",
       "    <tr>\n",
       "      <th>Communication_npmds</th>\n",
       "      <td>-0.534752</td>\n",
       "    </tr>\n",
       "    <tr>\n",
       "      <th>Hearing_npmds</th>\n",
       "      <td>-0.692643</td>\n",
       "    </tr>\n",
       "    <tr>\n",
       "      <th>Myopathy_npmds</th>\n",
       "      <td>-1.274806</td>\n",
       "    </tr>\n",
       "  </tbody>\n",
       "</table>\n",
       "</div>"
      ],
      "text/plain": [
       "                        coefficient\n",
       "Vision_npmds_self          3.865887\n",
       "Development_npmds          1.039425\n",
       "Vision_npmds               0.820447\n",
       "Mobility_npmds             0.753882\n",
       "Sex                        0.730046\n",
       "Cardiovascular_npmds       0.521952\n",
       "Respiratory_npmds          0.494222\n",
       "Growth_npmds               0.360489\n",
       "Ptosis_npmds               0.279570\n",
       "Encephalopathy_npmds       0.230627\n",
       "Renal_npmds               -0.019496\n",
       "Blood_npmds               -0.019496\n",
       "Endocrine_npmds           -0.019496\n",
       "Liver_npmds               -0.019496\n",
       "Extrapyramidal_npmds      -0.067239\n",
       "Pyramidal_npmds           -0.177174\n",
       "Neuropathy_npmds          -0.340618\n",
       "Seizures_npmds            -0.474696\n",
       "Gastrointestinal_npmds    -0.507268\n",
       "Communication_npmds       -0.534752\n",
       "Hearing_npmds             -0.692643\n",
       "Myopathy_npmds            -1.274806"
      ]
     },
     "execution_count": 104,
     "metadata": {},
     "output_type": "execute_result"
    }
   ],
   "source": [
    "coef= cph.coef_\n",
    "coefficients = pd.DataFrame(coef,columns=['coefficient'],index=X_train.columns)\n",
    "coefficients.sort_values(by='coefficient',ascending=False)"
   ]
  },
  {
   "cell_type": "code",
   "execution_count": 105,
   "metadata": {},
   "outputs": [
    {
     "name": "stdout",
     "output_type": "stream",
     "text": [
      "concordance index: 0.6666666666666666\n"
     ]
    }
   ],
   "source": [
    "from sksurv.metrics import concordance_index_censored\n",
    "\n",
    "y_test['Event'] = y_test['Event'].replace([1],True)\n",
    "y_test['Event'] = y_test['Event'].replace([0],False)\n",
    "y_test = y_test.to_records(index=False)\n",
    "\n",
    "prediction = cph.predict(X_test)\n",
    "result = concordance_index_censored(y_test[\"Event\"], y_test[\"Age\"], prediction)\n",
    "print ('concordance index:', result[0])"
   ]
  },
  {
   "cell_type": "code",
   "execution_count": 106,
   "metadata": {},
   "outputs": [
    {
     "data": {
      "text/plain": [
       "Pipeline(steps=[('standardscaler', StandardScaler()),\n",
       "                ('coxnetsurvivalanalysis', CoxnetSurvivalAnalysis())])"
      ]
     },
     "execution_count": 106,
     "metadata": {},
     "output_type": "execute_result"
    }
   ],
   "source": [
    "import warnings\n",
    "from sklearn.exceptions import ConvergenceWarning\n",
    "from sklearn.pipeline import make_pipeline\n",
    "from sklearn.preprocessing import StandardScaler\n",
    "\n",
    "coxnet_pipe = make_pipeline(\n",
    "    StandardScaler(),\n",
    "    CoxnetSurvivalAnalysis()\n",
    ")\n",
    "warnings.simplefilter(\"ignore\", ConvergenceWarning)\n",
    "coxnet_pipe.fit(X_train, y_train)"
   ]
  },
  {
   "cell_type": "code",
   "execution_count": 107,
   "metadata": {},
   "outputs": [],
   "source": [
    "estimated_alphas = coxnet_pipe.named_steps[\"coxnetsurvivalanalysis\"].alphas_\n",
    "cv = KFold(n_splits=5, shuffle=True, random_state=random_state)\n",
    "gcv = GridSearchCV(\n",
    "    make_pipeline(StandardScaler(), CoxnetSurvivalAnalysis()),\n",
    "    param_grid={\"coxnetsurvivalanalysis__alphas\": [[v] for v in estimated_alphas]},\n",
    "    cv=cv,\n",
    "    error_score=0.5,\n",
    "    n_jobs=4).fit(X_train, y_train)\n",
    "\n",
    "cv_results = pd.DataFrame(gcv.cv_results_)"
   ]
  },
  {
   "cell_type": "code",
   "execution_count": 108,
   "metadata": {},
   "outputs": [
    {
     "data": {
      "image/png": "[encoded data removed]",
      "text/plain": [
       "<Figure size 648x432 with 1 Axes>"
      ]
     },
     "metadata": {
      "needs_background": "light"
     },
     "output_type": "display_data"
    }
   ],
   "source": [
    "alphas = cv_results.param_coxnetsurvivalanalysis__alphas.map(lambda x: x[0])\n",
    "mean = cv_results.mean_test_score\n",
    "std = cv_results.std_test_score\n",
    "\n",
    "fig, ax = plt.subplots(figsize=(9, 6))\n",
    "ax.plot(alphas, mean)\n",
    "ax.fill_between(alphas, mean - std, mean + std, alpha=.15)\n",
    "ax.set_xscale(\"log\")\n",
    "ax.set_ylabel(\"concordance index\")\n",
    "ax.set_xlabel(\"alpha\")\n",
    "ax.axvline(gcv.best_params_[\"coxnetsurvivalanalysis__alphas\"][0], c=\"C1\")\n",
    "ax.axhline(0.5, color=\"grey\", linestyle=\"--\")\n",
    "ax.grid(True)"
   ]
  },
  {
   "cell_type": "code",
   "execution_count": 109,
   "metadata": {},
   "outputs": [
    {
     "name": "stdout",
     "output_type": "stream",
     "text": [
      "Number of non-zero coefficients: 3\n"
     ]
    },
    {
     "data": {
      "image/png": "[encoded data removed]",
      "text/plain": [
       "<Figure size 432x576 with 1 Axes>"
      ]
     },
     "metadata": {
      "needs_background": "light"
     },
     "output_type": "display_data"
    }
   ],
   "source": [
    "best_model = gcv.best_estimator_.named_steps[\"coxnetsurvivalanalysis\"]\n",
    "best_coefs = pd.DataFrame(\n",
    "    best_model.coef_,\n",
    "    index=X_train.columns,\n",
    "    columns=[\"coefficient\"]\n",
    ")\n",
    "\n",
    "non_zero = np.sum(best_coefs.iloc[:, 0] != 0)\n",
    "print(\"Number of non-zero coefficients: {}\".format(non_zero))\n",
    "\n",
    "non_zero_coefs = best_coefs.query(\"coefficient != 0\")\n",
    "coef_order = non_zero_coefs.abs().sort_values(\"coefficient\").index\n",
    "\n",
    "_, ax = plt.subplots(figsize=(6, 8))\n",
    "non_zero_coefs.loc[coef_order].plot.barh(ax=ax, legend=False)\n",
    "ax.set_xlabel(\"coefficient\")\n",
    "ax.grid(True)\n"
   ]
  },
  {
   "cell_type": "code",
   "execution_count": 110,
   "metadata": {},
   "outputs": [
    {
     "data": {
      "text/html": [
       "<div>\n",
       "<style scoped>\n",
       "    .dataframe tbody tr th:only-of-type {\n",
       "        vertical-align: middle;\n",
       "    }\n",
       "\n",
       "    .dataframe tbody tr th {\n",
       "        vertical-align: top;\n",
       "    }\n",
       "\n",
       "    .dataframe thead th {\n",
       "        text-align: right;\n",
       "    }\n",
       "</style>\n",
       "<table border=\"1\" class=\"dataframe\">\n",
       "  <thead>\n",
       "    <tr style=\"text-align: right;\">\n",
       "      <th></th>\n",
       "      <th>coefficient</th>\n",
       "    </tr>\n",
       "  </thead>\n",
       "  <tbody>\n",
       "    <tr>\n",
       "      <th>Vision_npmds_self</th>\n",
       "      <td>0.195708</td>\n",
       "    </tr>\n",
       "    <tr>\n",
       "      <th>Development_npmds</th>\n",
       "      <td>0.122888</td>\n",
       "    </tr>\n",
       "    <tr>\n",
       "      <th>Communication_npmds</th>\n",
       "      <td>0.014721</td>\n",
       "    </tr>\n",
       "  </tbody>\n",
       "</table>\n",
       "</div>"
      ],
      "text/plain": [
       "                     coefficient\n",
       "Vision_npmds_self       0.195708\n",
       "Development_npmds       0.122888\n",
       "Communication_npmds     0.014721"
      ]
     },
     "execution_count": 110,
     "metadata": {},
     "output_type": "execute_result"
    }
   ],
   "source": [
    "non_zero_coefs.sort_values(by='coefficient',ascending=False)\n"
   ]
  },
  {
   "cell_type": "code",
   "execution_count": 111,
   "metadata": {},
   "outputs": [
    {
     "name": "stdout",
     "output_type": "stream",
     "text": [
      "concordance index: 1.0\n"
     ]
    }
   ],
   "source": [
    "prediction =  gcv.best_estimator_.predict(X_test)\n",
    "result = concordance_index_censored(y_test[\"Event\"], y_test[\"Age\"], prediction)\n",
    "print(\"concordance index:\", result[0]) \n"
   ]
  },
  {
   "cell_type": "code",
   "execution_count": 112,
   "metadata": {},
   "outputs": [
    {
     "name": "stderr",
     "output_type": "stream",
     "text": [
      "[Parallel(n_jobs=-1)]: Using backend ThreadingBackend with 4 concurrent workers.\n",
      "[Parallel(n_jobs=-1)]: Done  42 tasks      | elapsed:    0.1s\n",
      "[Parallel(n_jobs=-1)]: Done  50 out of  50 | elapsed:    0.1s finished\n"
     ]
    },
    {
     "data": {
      "text/plain": [
       "RandomSurvivalForest(max_features='sqrt', min_samples_leaf=10,\n",
       "                     min_samples_split=7, n_estimators=50, n_jobs=-1,\n",
       "                     random_state=42, verbose=1)"
      ]
     },
     "execution_count": 112,
     "metadata": {},
     "output_type": "execute_result"
    }
   ],
   "source": [
    "from sksurv.ensemble import RandomSurvivalForest\n",
    "\n",
    "\n",
    "\n",
    "rsf = RandomSurvivalForest(n_estimators=50,\n",
    "                           min_samples_split=7,\n",
    "                           min_samples_leaf=10,\n",
    "                           max_features=\"sqrt\",\n",
    "                           n_jobs=-1,\n",
    "                           random_state=random_state,\n",
    "                           verbose=1)\n",
    "\n",
    "rsf.fit(X_train, y_train)"
   ]
  },
  {
   "cell_type": "code",
   "execution_count": 113,
   "metadata": {},
   "outputs": [
    {
     "name": "stderr",
     "output_type": "stream",
     "text": [
      "[Parallel(n_jobs=4)]: Using backend ThreadingBackend with 4 concurrent workers.\n",
      "[Parallel(n_jobs=4)]: Done  42 tasks      | elapsed:    0.0s\n",
      "[Parallel(n_jobs=4)]: Done  50 out of  50 | elapsed:    0.0s finished\n"
     ]
    },
    {
     "data": {
      "text/plain": [
       "0.5"
      ]
     },
     "execution_count": 113,
     "metadata": {},
     "output_type": "execute_result"
    }
   ],
   "source": [
    "rsf.score(X_test, y_test)"
   ]
  },
  {
   "cell_type": "code",
   "execution_count": 114,
   "metadata": {},
   "outputs": [],
   "source": [
    "surv_df = npmds_combined\n",
    "surv_df = surv_df[surv_df[\"Date\"] > surv_df[\"Birth_date\"]]\n",
    "surv_df['Age'] = surv_df.apply(lambda x: x['Date']-x['Birth_date'], axis = 1)\n",
    "surv_df['Age'] = surv_df['Age'].astype('timedelta64[D]').astype(int)\n",
    "\n",
    "surv_df['Event'] =  surv_df.apply(lambda x: 1 \\\n",
    "                               if x['Mobility_npmds']== 3 \\\n",
    "                               else 0, axis = 1)\n",
    "\n",
    "surv_df = surv_df.sort_values(by=\"Date\").drop_duplicates(subset=[\"UniqueID\",\"Event\"], keep=\"first\")\n",
    "surv_df = surv_df.sort_values(by=\"Date\").drop_duplicates(subset=[\"UniqueID\"], keep=\"last\")\n",
    "\n",
    "surv_df.drop(columns=['UniqueID','Birth_date','Date','Mobility_npmds'],inplace=True)\n",
    "\n",
    "from sklearn.preprocessing import LabelEncoder\n",
    "# creating instance of labelencoder\n",
    "labelencoder = LabelEncoder()\n",
    "# Assigning numerical values and storing in another column\n",
    "surv_df['Sex'] = labelencoder.fit_transform(surv_df['Sex'])"
   ]
  },
  {
   "cell_type": "code",
   "execution_count": 115,
   "metadata": {},
   "outputs": [],
   "source": [
    "import numpy as np\n",
    "from sklearn.model_selection import train_test_split\n",
    "\n",
    "random_state=42\n",
    "\n",
    "df_train, df_test = train_test_split(surv_df,test_size=0.3, random_state=random_state)\n",
    "\n",
    "X_train = df_train.drop(columns = ['Event','Age'])\n",
    "y_train = df_train[['Event','Age']]\n",
    "X_test = df_test.drop(columns = ['Event','Age'])\n",
    "y_test = df_test[['Event','Age']]"
   ]
  },
  {
   "cell_type": "code",
   "execution_count": 116,
   "metadata": {},
   "outputs": [
    {
     "data": {
      "text/plain": [
       "<lifelines.KaplanMeierFitter:\"KM_estimate\", fitted with 14 total observations, 5 right-censored observations>"
      ]
     },
     "execution_count": 116,
     "metadata": {},
     "output_type": "execute_result"
    }
   ],
   "source": [
    "from lifelines import KaplanMeierFitter\n",
    "kmf = KaplanMeierFitter()\n",
    "\n",
    "T = y_train[\"Age\"]\n",
    "E = y_train[\"Event\"]\n",
    "\n",
    "kmf.fit(T, event_observed=E)"
   ]
  },
  {
   "cell_type": "code",
   "execution_count": 117,
   "metadata": {},
   "outputs": [
    {
     "data": {
      "text/plain": [
       "Text(0.5, 0, 'Age (days)')"
      ]
     },
     "execution_count": 117,
     "metadata": {},
     "output_type": "execute_result"
    },
    {
     "data": {
      "image/png": "[encoded data removed]",
      "text/plain": [
       "<Figure size 432x288 with 1 Axes>"
      ]
     },
     "metadata": {
      "needs_background": "light"
     },
     "output_type": "display_data"
    }
   ],
   "source": [
    "from matplotlib import pyplot as plt\n",
    "\n",
    "plt.figure(figsize=(6,4))\n",
    "kmf.plot_survival_function()\n",
    "plt.title(\"Survival plot of time to Severe Mobility\");\n",
    "plt.ylabel(\"Probability of not requiring severe mobility support\")\n",
    "plt.xlabel(\"Age (days)\")"
   ]
  },
  {
   "cell_type": "code",
   "execution_count": 118,
   "metadata": {},
   "outputs": [
    {
     "data": {
      "text/plain": [
       "2309.0"
      ]
     },
     "execution_count": 118,
     "metadata": {},
     "output_type": "execute_result"
    }
   ],
   "source": [
    "kmf.median_survival_time_\n"
   ]
  },
  {
   "cell_type": "code",
   "execution_count": 119,
   "metadata": {},
   "outputs": [],
   "source": [
    "# Formatting y dataframe into tuple array \n",
    "y_train['Event'] = y_train['Event'].replace([1],True)\n",
    "y_train['Event'] = y_train['Event'].replace([0],False)\n",
    "y_train = y_train.to_records(index=False)"
   ]
  },
  {
   "cell_type": "code",
   "execution_count": 121,
   "metadata": {},
   "outputs": [
    {
     "data": {
      "text/plain": [
       "CoxPHSurvivalAnalysis(alpha=0.1)"
      ]
     },
     "execution_count": 121,
     "metadata": {},
     "output_type": "execute_result"
    }
   ],
   "source": [
    "cph = CoxPHSurvivalAnalysis(alpha=0.1)\n",
    "cph.fit(X_train, y_train)"
   ]
  },
  {
   "cell_type": "code",
   "execution_count": 122,
   "metadata": {},
   "outputs": [
    {
     "data": {
      "text/html": [
       "<div>\n",
       "<style scoped>\n",
       "    .dataframe tbody tr th:only-of-type {\n",
       "        vertical-align: middle;\n",
       "    }\n",
       "\n",
       "    .dataframe tbody tr th {\n",
       "        vertical-align: top;\n",
       "    }\n",
       "\n",
       "    .dataframe thead th {\n",
       "        text-align: right;\n",
       "    }\n",
       "</style>\n",
       "<table border=\"1\" class=\"dataframe\">\n",
       "  <thead>\n",
       "    <tr style=\"text-align: right;\">\n",
       "      <th></th>\n",
       "      <th>coefficient</th>\n",
       "    </tr>\n",
       "  </thead>\n",
       "  <tbody>\n",
       "    <tr>\n",
       "      <th>Vision_npmds_self</th>\n",
       "      <td>4.678378</td>\n",
       "    </tr>\n",
       "    <tr>\n",
       "      <th>Cardiovascular_npmds</th>\n",
       "      <td>1.255317</td>\n",
       "    </tr>\n",
       "    <tr>\n",
       "      <th>Feeding_npmds</th>\n",
       "      <td>1.072416</td>\n",
       "    </tr>\n",
       "    <tr>\n",
       "      <th>Sex</th>\n",
       "      <td>0.765546</td>\n",
       "    </tr>\n",
       "    <tr>\n",
       "      <th>Vision_npmds</th>\n",
       "      <td>0.562517</td>\n",
       "    </tr>\n",
       "    <tr>\n",
       "      <th>Encephalopathy_npmds</th>\n",
       "      <td>0.549542</td>\n",
       "    </tr>\n",
       "    <tr>\n",
       "      <th>Extrapyramidal_npmds</th>\n",
       "      <td>0.269380</td>\n",
       "    </tr>\n",
       "    <tr>\n",
       "      <th>Myopathy_npmds</th>\n",
       "      <td>0.124306</td>\n",
       "    </tr>\n",
       "    <tr>\n",
       "      <th>Growth_npmds</th>\n",
       "      <td>0.054578</td>\n",
       "    </tr>\n",
       "    <tr>\n",
       "      <th>Development_npmds</th>\n",
       "      <td>-0.037356</td>\n",
       "    </tr>\n",
       "    <tr>\n",
       "      <th>Blood_npmds</th>\n",
       "      <td>-0.101875</td>\n",
       "    </tr>\n",
       "    <tr>\n",
       "      <th>Liver_npmds</th>\n",
       "      <td>-0.101875</td>\n",
       "    </tr>\n",
       "    <tr>\n",
       "      <th>Renal_npmds</th>\n",
       "      <td>-0.101875</td>\n",
       "    </tr>\n",
       "    <tr>\n",
       "      <th>Endocrine_npmds</th>\n",
       "      <td>-0.101875</td>\n",
       "    </tr>\n",
       "    <tr>\n",
       "      <th>Respiratory_npmds</th>\n",
       "      <td>-0.107985</td>\n",
       "    </tr>\n",
       "    <tr>\n",
       "      <th>Gastrointestinal_npmds</th>\n",
       "      <td>-0.234649</td>\n",
       "    </tr>\n",
       "    <tr>\n",
       "      <th>Ptosis_npmds</th>\n",
       "      <td>-0.358993</td>\n",
       "    </tr>\n",
       "    <tr>\n",
       "      <th>Hearing_npmds</th>\n",
       "      <td>-0.490261</td>\n",
       "    </tr>\n",
       "    <tr>\n",
       "      <th>Neuropathy_npmds</th>\n",
       "      <td>-0.491494</td>\n",
       "    </tr>\n",
       "    <tr>\n",
       "      <th>Pyramidal_npmds</th>\n",
       "      <td>-0.717685</td>\n",
       "    </tr>\n",
       "    <tr>\n",
       "      <th>Seizures_npmds</th>\n",
       "      <td>-1.229639</td>\n",
       "    </tr>\n",
       "    <tr>\n",
       "      <th>Communication_npmds</th>\n",
       "      <td>-1.313966</td>\n",
       "    </tr>\n",
       "  </tbody>\n",
       "</table>\n",
       "</div>"
      ],
      "text/plain": [
       "                        coefficient\n",
       "Vision_npmds_self          4.678378\n",
       "Cardiovascular_npmds       1.255317\n",
       "Feeding_npmds              1.072416\n",
       "Sex                        0.765546\n",
       "Vision_npmds               0.562517\n",
       "Encephalopathy_npmds       0.549542\n",
       "Extrapyramidal_npmds       0.269380\n",
       "Myopathy_npmds             0.124306\n",
       "Growth_npmds               0.054578\n",
       "Development_npmds         -0.037356\n",
       "Blood_npmds               -0.101875\n",
       "Liver_npmds               -0.101875\n",
       "Renal_npmds               -0.101875\n",
       "Endocrine_npmds           -0.101875\n",
       "Respiratory_npmds         -0.107985\n",
       "Gastrointestinal_npmds    -0.234649\n",
       "Ptosis_npmds              -0.358993\n",
       "Hearing_npmds             -0.490261\n",
       "Neuropathy_npmds          -0.491494\n",
       "Pyramidal_npmds           -0.717685\n",
       "Seizures_npmds            -1.229639\n",
       "Communication_npmds       -1.313966"
      ]
     },
     "execution_count": 122,
     "metadata": {},
     "output_type": "execute_result"
    }
   ],
   "source": [
    "coef= cph.coef_\n",
    "coefficients = pd.DataFrame(coef,columns=['coefficient'],index=X_train.columns)\n",
    "coefficients.sort_values(by='coefficient',ascending=False)"
   ]
  },
  {
   "cell_type": "code",
   "execution_count": 123,
   "metadata": {},
   "outputs": [
    {
     "name": "stdout",
     "output_type": "stream",
     "text": [
      "concordance index: 0.45454545454545453\n"
     ]
    }
   ],
   "source": [
    "from sksurv.metrics import concordance_index_censored\n",
    "\n",
    "y_test['Event'] = y_test['Event'].replace([1],True)\n",
    "y_test['Event'] = y_test['Event'].replace([0],False)\n",
    "y_test = y_test.to_records(index=False)\n",
    "\n",
    "prediction = cph.predict(X_test)\n",
    "result = concordance_index_censored(y_test[\"Event\"], y_test[\"Age\"], prediction)\n",
    "print ('concordance index:', result[0])\n"
   ]
  },
  {
   "cell_type": "code",
   "execution_count": 124,
   "metadata": {},
   "outputs": [
    {
     "data": {
      "text/plain": [
       "Pipeline(steps=[('standardscaler', StandardScaler()),\n",
       "                ('coxnetsurvivalanalysis', CoxnetSurvivalAnalysis())])"
      ]
     },
     "execution_count": 124,
     "metadata": {},
     "output_type": "execute_result"
    }
   ],
   "source": [
    "import warnings\n",
    "from sklearn.exceptions import ConvergenceWarning\n",
    "from sklearn.pipeline import make_pipeline\n",
    "from sklearn.preprocessing import StandardScaler\n",
    "\n",
    "coxnet_pipe = make_pipeline(\n",
    "    StandardScaler(),\n",
    "    CoxnetSurvivalAnalysis()\n",
    ")\n",
    "warnings.simplefilter(\"ignore\", ConvergenceWarning)\n",
    "coxnet_pipe.fit(X_train, y_train)"
   ]
  },
  {
   "cell_type": "code",
   "execution_count": 125,
   "metadata": {},
   "outputs": [],
   "source": [
    "estimated_alphas = coxnet_pipe.named_steps[\"coxnetsurvivalanalysis\"].alphas_\n",
    "cv = KFold(n_splits=5, shuffle=True, random_state=random_state)\n",
    "gcv = GridSearchCV(\n",
    "    make_pipeline(StandardScaler(), CoxnetSurvivalAnalysis()),\n",
    "    param_grid={\"coxnetsurvivalanalysis__alphas\": [[v] for v in estimated_alphas]},\n",
    "    cv=cv,\n",
    "    error_score=0.5,\n",
    "    n_jobs=4).fit(X_train, y_train)\n",
    "\n",
    "cv_results = pd.DataFrame(gcv.cv_results_)"
   ]
  },
  {
   "cell_type": "code",
   "execution_count": 126,
   "metadata": {},
   "outputs": [
    {
     "data": {
      "image/png": "[encoded data removed]",
      "text/plain": [
       "<Figure size 648x432 with 1 Axes>"
      ]
     },
     "metadata": {
      "needs_background": "light"
     },
     "output_type": "display_data"
    }
   ],
   "source": [
    "alphas = cv_results.param_coxnetsurvivalanalysis__alphas.map(lambda x: x[0])\n",
    "mean = cv_results.mean_test_score\n",
    "std = cv_results.std_test_score\n",
    "\n",
    "fig, ax = plt.subplots(figsize=(9, 6))\n",
    "ax.plot(alphas, mean)\n",
    "ax.fill_between(alphas, mean - std, mean + std, alpha=.15)\n",
    "ax.set_xscale(\"log\")\n",
    "ax.set_ylabel(\"concordance index\")\n",
    "ax.set_xlabel(\"alpha\")\n",
    "ax.axvline(gcv.best_params_[\"coxnetsurvivalanalysis__alphas\"][0], c=\"C1\")\n",
    "ax.axhline(0.5, color=\"grey\", linestyle=\"--\")\n",
    "ax.grid(True)"
   ]
  },
  {
   "cell_type": "code",
   "execution_count": 127,
   "metadata": {},
   "outputs": [
    {
     "name": "stdout",
     "output_type": "stream",
     "text": [
      "Number of non-zero coefficients: 1\n"
     ]
    },
    {
     "data": {
      "image/png": "[encoded data removed]",
      "text/plain": [
       "<Figure size 432x576 with 1 Axes>"
      ]
     },
     "metadata": {
      "needs_background": "light"
     },
     "output_type": "display_data"
    }
   ],
   "source": [
    "best_model = gcv.best_estimator_.named_steps[\"coxnetsurvivalanalysis\"]\n",
    "best_coefs = pd.DataFrame(\n",
    "    best_model.coef_,\n",
    "    index=X_train.columns,\n",
    "    columns=[\"coefficient\"]\n",
    ")\n",
    "\n",
    "non_zero = np.sum(best_coefs.iloc[:, 0] != 0)\n",
    "print(\"Number of non-zero coefficients: {}\".format(non_zero))\n",
    "\n",
    "non_zero_coefs = best_coefs.query(\"coefficient != 0\")\n",
    "coef_order = non_zero_coefs.abs().sort_values(\"coefficient\").index\n",
    "\n",
    "_, ax = plt.subplots(figsize=(6, 8))\n",
    "non_zero_coefs.loc[coef_order].plot.barh(ax=ax, legend=False)\n",
    "ax.set_xlabel(\"coefficient\")\n",
    "ax.grid(True)"
   ]
  },
  {
   "cell_type": "code",
   "execution_count": 128,
   "metadata": {},
   "outputs": [
    {
     "data": {
      "text/html": [
       "<div>\n",
       "<style scoped>\n",
       "    .dataframe tbody tr th:only-of-type {\n",
       "        vertical-align: middle;\n",
       "    }\n",
       "\n",
       "    .dataframe tbody tr th {\n",
       "        vertical-align: top;\n",
       "    }\n",
       "\n",
       "    .dataframe thead th {\n",
       "        text-align: right;\n",
       "    }\n",
       "</style>\n",
       "<table border=\"1\" class=\"dataframe\">\n",
       "  <thead>\n",
       "    <tr style=\"text-align: right;\">\n",
       "      <th></th>\n",
       "      <th>coefficient</th>\n",
       "    </tr>\n",
       "  </thead>\n",
       "  <tbody>\n",
       "    <tr>\n",
       "      <th>Vision_npmds_self</th>\n",
       "      <td>0.517772</td>\n",
       "    </tr>\n",
       "  </tbody>\n",
       "</table>\n",
       "</div>"
      ],
      "text/plain": [
       "                   coefficient\n",
       "Vision_npmds_self     0.517772"
      ]
     },
     "execution_count": 128,
     "metadata": {},
     "output_type": "execute_result"
    }
   ],
   "source": [
    "non_zero_coefs.sort_values(by='coefficient',ascending=False)"
   ]
  },
  {
   "cell_type": "code",
   "execution_count": 129,
   "metadata": {},
   "outputs": [
    {
     "name": "stdout",
     "output_type": "stream",
     "text": [
      "concordance index: 0.45454545454545453\n"
     ]
    }
   ],
   "source": [
    "prediction =  gcv.best_estimator_.predict(X_test)\n",
    "result = concordance_index_censored(y_test[\"Event\"], y_test[\"Age\"], prediction)\n",
    "print(\"concordance index:\", result[0]) "
   ]
  },
  {
   "cell_type": "code",
   "execution_count": 130,
   "metadata": {},
   "outputs": [
    {
     "name": "stderr",
     "output_type": "stream",
     "text": [
      "[Parallel(n_jobs=-1)]: Using backend ThreadingBackend with 4 concurrent workers.\n",
      "[Parallel(n_jobs=-1)]: Done  42 tasks      | elapsed:    0.1s\n",
      "[Parallel(n_jobs=-1)]: Done  50 out of  50 | elapsed:    0.1s finished\n"
     ]
    },
    {
     "data": {
      "text/plain": [
       "RandomSurvivalForest(max_features='sqrt', min_samples_leaf=10,\n",
       "                     min_samples_split=7, n_estimators=50, n_jobs=-1,\n",
       "                     random_state=42, verbose=1)"
      ]
     },
     "execution_count": 130,
     "metadata": {},
     "output_type": "execute_result"
    }
   ],
   "source": [
    "from sksurv.ensemble import RandomSurvivalForest\n",
    "\n",
    "\n",
    "\n",
    "rsf = RandomSurvivalForest(n_estimators=50,\n",
    "                           min_samples_split=7,\n",
    "                           min_samples_leaf=10,\n",
    "                           max_features=\"sqrt\",\n",
    "                           n_jobs=-1,\n",
    "                           random_state=random_state,\n",
    "                           verbose=1)\n",
    "\n",
    "rsf.fit(X_train, y_train)"
   ]
  },
  {
   "cell_type": "code",
   "execution_count": 131,
   "metadata": {},
   "outputs": [
    {
     "name": "stderr",
     "output_type": "stream",
     "text": [
      "[Parallel(n_jobs=4)]: Using backend ThreadingBackend with 4 concurrent workers.\n",
      "[Parallel(n_jobs=4)]: Done  42 tasks      | elapsed:    0.0s\n",
      "[Parallel(n_jobs=4)]: Done  50 out of  50 | elapsed:    0.0s finished\n"
     ]
    },
    {
     "data": {
      "text/plain": [
       "0.5"
      ]
     },
     "execution_count": 131,
     "metadata": {},
     "output_type": "execute_result"
    }
   ],
   "source": [
    "rsf.score(X_test, y_test)"
   ]
  },
  {
   "cell_type": "markdown",
   "metadata": {},
   "source": [
    "### Weight by Age Percentiles "
   ]
  },
  {
   "cell_type": "code",
   "execution_count": 103,
   "metadata": {},
   "outputs": [],
   "source": [
    "# subsetting the dataframe to understand changes in weight \n",
    "w = df_combined[['UniqueID','Sex','Date','Birth_date','Weight_kg']]"
   ]
  },
  {
   "cell_type": "code",
   "execution_count": 104,
   "metadata": {},
   "outputs": [],
   "source": [
    "import warnings\n",
    "warnings.filterwarnings('ignore')\n",
    "\n",
    "# calculating the Age of patient in days for the date when the Weight was recorded \n",
    "w['Age_days'] = w['Date'] - w['Birth_date']\n",
    "w.dropna(axis=0, how='any',inplace=True)\n",
    "below5= w[w[\"Age_days\"] < \"1857 days\"] # WHO data contains information for upto 5 years (1856 days)\n",
    "below5.rename(columns={\"Weight_kg\":\"Weight\"}, inplace=True)\n",
    "\n"
   ]
  },
  {
   "cell_type": "code",
   "execution_count": 105,
   "metadata": {},
   "outputs": [],
   "source": [
    "# Load dataframes obtained from WHO \n",
    "# perc_boys = pd.read_csv(os.path.join(path,\"perc_boys.txt\"),delimiter='\\s+')\n",
    "# perc_girls = pd.read_csv(os.path.join(path,\"perc_girls.txt\"),delimiter='\\s+')\n",
    "\n",
    "perc_boys = pd.read_csv(\"WHO_data/perc_boys.txt\",delimiter='\\s+')\n",
    "perc_girls = pd.read_csv(\"WHO_data/perc_girls.txt\",delimiter='\\s+')\n",
    "\n",
    "# Drop L,M,S columns \n",
    "perc_boys.drop(columns = ['L','M','S'],inplace=True)\n",
    "perc_girls.drop(columns = ['L','M','S'],inplace=True)\n",
    "\n",
    "# Add Sex column to each dataframe \n",
    "perc_boys['Sex'] = 'M'\n",
    "perc_girls['Sex'] = 'F'\n",
    "\n",
    "# Concatenate the boys and girls dataset\n",
    "perc_below5 =  pd.concat([perc_boys,perc_girls],ignore_index=True)\n",
    "perc_below5.rename(columns={\"Age\":\"Age_days\"}, inplace=True) # rename Age column\n",
    "perc_below5['Age_days'] = pd.to_timedelta(perc_below5['Age_days'], unit='D') #converting to timedelta format\n",
    "\n"
   ]
  },
  {
   "cell_type": "code",
   "execution_count": 106,
   "metadata": {},
   "outputs": [],
   "source": [
    "# Dataframe for children below 5 years with information on Age and percentiles\n",
    "below5 = pd.merge(below5, perc_below5, on=[\"Age_days\",\"Sex\"],how='left')\n"
   ]
  },
  {
   "cell_type": "code",
   "execution_count": 107,
   "metadata": {},
   "outputs": [],
   "source": [
    "below5.dropna(axis=0,inplace=True)"
   ]
  },
  {
   "cell_type": "code",
   "execution_count": 108,
   "metadata": {},
   "outputs": [],
   "source": [
    "from scipy.interpolate import interp1d\n",
    "\n",
    "# formula to interpolate from the percentile rows \n",
    "# given the weight of patient to estimate the percentile they are in \n",
    "def w_perc (row):\n",
    "    xg = np.array([row.P01,row.P1,row.P3,row.P5,row.P10,row.P15,\n",
    "                   row.P25,row.P50,row.P75,row.P85,row.P90,row.P95,row.P97,row.P99,row.P999])\n",
    "    yg = np.array([0.01,1,3,5,10,15,25,50,75,85,90,95,97,99,99.9])\n",
    "    f_interp = interp1d(xg,yg,fill_value=\"extrapolate\")\n",
    "    xw = row.Weight\n",
    "    \n",
    "    return(f_interp(xw))\n"
   ]
  },
  {
   "cell_type": "code",
   "execution_count": 109,
   "metadata": {},
   "outputs": [],
   "source": [
    "# adding percentiles column \n",
    "below5['wba_percentiles'] = below5.apply(lambda row: w_perc(row),axis=1)\n",
    "below5.drop(columns = ['P01','P1','P3','P5','P10','P15','P25','P50',\n",
    "                       'P75','P85','P90','P95','P97','P99','P999'],inplace=True)\n"
   ]
  },
  {
   "cell_type": "code",
   "execution_count": 110,
   "metadata": {},
   "outputs": [],
   "source": [
    "below5['wba_percentiles'] = below5['wba_percentiles'].astype(int)"
   ]
  },
  {
   "cell_type": "code",
   "execution_count": 111,
   "metadata": {},
   "outputs": [],
   "source": [
    "below5= below5[below5[\"wba_percentiles\"] < 100] "
   ]
  },
  {
   "cell_type": "code",
   "execution_count": 114,
   "metadata": {},
   "outputs": [
    {
     "data": {
      "text/plain": [
       "<AxesSubplot:xlabel='Age_years', ylabel='wba_percentiles'>"
      ]
     },
     "execution_count": 114,
     "metadata": {},
     "output_type": "execute_result"
    },
    {
     "data": {
      "image/png": "[encoded data removed]",
      "text/plain": [
       "<Figure size 432x288 with 1 Axes>"
      ]
     },
     "metadata": {
      "needs_background": "light"
     },
     "output_type": "display_data"
    }
   ],
   "source": [
    "import seaborn as sns\n",
    "\n",
    "below5['Age_years'] = below5['Age_days'].astype('timedelta64[Y]').astype(int)\n",
    "\n",
    "sns.scatterplot(data=below5, x='Age_years', y='wba_percentiles', hue='Sex')\n"
   ]
  },
  {
   "cell_type": "code",
   "execution_count": 118,
   "metadata": {
    "scrolled": true
   },
   "outputs": [
    {
     "data": {
      "text/plain": [
       "<AxesSubplot:xlabel='Age_days', ylabel='wba_percentiles'>"
      ]
     },
     "execution_count": 118,
     "metadata": {},
     "output_type": "execute_result"
    },
    {
     "data": {
      "image/png": "[encoded data removed]",
      "text/plain": [
       "<Figure size 432x288 with 1 Axes>"
      ]
     },
     "metadata": {
      "needs_background": "light"
     },
     "output_type": "display_data"
    }
   ],
   "source": [
    "\n",
    "below5['Age_days'] = below5['Age_days'].astype('timedelta64[D]').astype(int)\n",
    "\n",
    "sns.scatterplot(data=below5, x='Age_days', y='wba_percentiles', hue='Sex')\n"
   ]
  },
  {
   "cell_type": "code",
   "execution_count": null,
   "metadata": {},
   "outputs": [],
   "source": []
  }
 ],
 "metadata": {
  "kernelspec": {
   "display_name": "Python 3",
   "language": "python",
   "name": "python3"
  },
  "language_info": {
   "codemirror_mode": {
    "name": "ipython",
    "version": 3
   },
   "file_extension": ".py",
   "mimetype": "text/x-python",
   "name": "python",
   "nbconvert_exporter": "python",
   "pygments_lexer": "ipython3",
   "version": "3.8.5"
  }
 },
 "nbformat": 4,
 "nbformat_minor": 2
}
